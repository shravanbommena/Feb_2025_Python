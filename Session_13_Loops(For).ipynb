{
 "cells": [
  {
   "cell_type": "markdown",
   "id": "54e61583-cf9f-495e-9068-1a393caf1439",
   "metadata": {},
   "source": [
    "**Loops**\n",
    "\n",
    "- Loops are used to iterate the code multiple times\n",
    "- functions are used to reuse the code block\n",
    "- that code block can be repeated multiple times\n",
    "- whenever you are doing same task multiple times then think about loop\n",
    "- We have two loops\n",
    "    - for loop\n",
    "    - while loop\n",
    "- Any loop we need three things\n",
    "    - Initilization (start point)\n",
    "    - increment or decrement\n",
    "    - condition to stop"
   ]
  },
  {
   "cell_type": "markdown",
   "id": "a7afcc84-f567-4e28-89c1-ec2c706a2e64",
   "metadata": {},
   "source": [
    "**For loop**"
   ]
  },
  {
   "cell_type": "code",
   "execution_count": null,
   "id": "059be68b-6090-4f12-bd1e-71ccde296a16",
   "metadata": {},
   "outputs": [],
   "source": [
    "for <variable> in range(<number>):\n",
    "    <write your code here>"
   ]
  },
  {
   "cell_type": "code",
   "execution_count": 4,
   "id": "6319fb15-038b-42ca-9441-3d09c6b59b35",
   "metadata": {},
   "outputs": [
    {
     "name": "stdout",
     "output_type": "stream",
     "text": [
      "0\n",
      "1\n",
      "2\n",
      "3\n",
      "4\n"
     ]
    }
   ],
   "source": [
    "for i in range(5):\n",
    "    print(i)"
   ]
  },
  {
   "cell_type": "code",
   "execution_count": 6,
   "id": "9c9d9d0c-225e-4444-a20c-f722fcee6471",
   "metadata": {},
   "outputs": [
    {
     "name": "stdout",
     "output_type": "stream",
     "text": [
      "0\n",
      "1\n",
      "2\n"
     ]
    }
   ],
   "source": [
    "# print(0)\n",
    "# print(1)\n",
    "# print(2)\n",
    "\n",
    "for i in range(3):\n",
    "    print(i)"
   ]
  },
  {
   "cell_type": "code",
   "execution_count": 8,
   "id": "8d80606e-8f17-4a77-9d80-2a849dcb988d",
   "metadata": {},
   "outputs": [
    {
     "name": "stdout",
     "output_type": "stream",
     "text": [
      "0 1 2 "
     ]
    }
   ],
   "source": [
    "# print(0, end=' ')\n",
    "# print(1, end=\" \")\n",
    "# print(2)\n",
    "for i in range(3):\n",
    "    print(i, end=\" \")"
   ]
  },
  {
   "cell_type": "markdown",
   "id": "08606283-8f85-4019-ad91-48b733851853",
   "metadata": {},
   "source": [
    "**case-1: range(stop)**\n",
    "\n",
    "- start = 0: python index always starts with zero\n",
    "- by default increment will be 1\n",
    "- last = stop-1"
   ]
  },
  {
   "cell_type": "code",
   "execution_count": 12,
   "id": "c2d50bb9-ff59-46b9-9e65-c951360dab5b",
   "metadata": {},
   "outputs": [
    {
     "name": "stdout",
     "output_type": "stream",
     "text": [
      "0 1 2 3 4 5 6 7 8 9 "
     ]
    }
   ],
   "source": [
    "for i in range(10):\n",
    "    print(i, end=' ')"
   ]
  },
  {
   "cell_type": "code",
   "execution_count": 14,
   "id": "bdb36b71-30ae-410d-8d55-ad8e4b727efc",
   "metadata": {},
   "outputs": [
    {
     "name": "stdout",
     "output_type": "stream",
     "text": [
      "good night\n",
      "good night\n",
      "good night\n"
     ]
    }
   ],
   "source": [
    "print('good night')\n",
    "print('good night')\n",
    "print('good night')\n"
   ]
  },
  {
   "cell_type": "code",
   "execution_count": 16,
   "id": "2f82d755-c977-4687-b1dc-c81645f5e8a8",
   "metadata": {},
   "outputs": [
    {
     "name": "stdout",
     "output_type": "stream",
     "text": [
      "good night\n",
      "good night\n",
      "good night\n"
     ]
    }
   ],
   "source": [
    "for i in range(3):\n",
    "    print('good night')\n",
    "    "
   ]
  },
  {
   "cell_type": "markdown",
   "id": "6c32d272-6027-4edb-8ca7-e2280e705ef8",
   "metadata": {},
   "source": [
    "**Case-2: range(start,stop)**\n",
    "\n",
    "- Suppose I want to start my loop with particular number\n",
    "- then add start also inside range\n",
    "- start = start\n",
    "- increment by 1\n",
    "- last = stop-1\n",
    "\n",
    "range(10,20)\n",
    "\n",
    "- start=10,increment=1, last=20-1=19"
   ]
  },
  {
   "cell_type": "code",
   "execution_count": 20,
   "id": "0eb157ae-4365-4380-96fb-e0207a0cc37e",
   "metadata": {},
   "outputs": [
    {
     "name": "stdout",
     "output_type": "stream",
     "text": [
      "10 11 12 13 14 15 16 17 18 19 "
     ]
    }
   ],
   "source": [
    "for i in range(10,20):\n",
    "    print(i, end=\" \")"
   ]
  },
  {
   "cell_type": "code",
   "execution_count": 27,
   "id": "0ab2b60e-a086-49d5-a3fe-40fec36f5936",
   "metadata": {},
   "outputs": [
    {
     "name": "stdout",
     "output_type": "stream",
     "text": [
      "square of 1: 1\n",
      "square of 2: 4\n",
      "square of 3: 9\n",
      "square of 4: 16\n",
      "square of 5: 25\n"
     ]
    }
   ],
   "source": [
    "# wap ask the user print the square of first 5 numbers\n",
    "\n",
    "for i in range(1,6):\n",
    "    print(f\"square of {i}: {i**2}\" )"
   ]
  },
  {
   "cell_type": "code",
   "execution_count": 29,
   "id": "88b6c624-229a-4cbb-ad7a-2027fd655cd4",
   "metadata": {},
   "outputs": [
    {
     "name": "stdin",
     "output_type": "stream",
     "text": [
      "Enter a number: 5\n"
     ]
    },
    {
     "name": "stdout",
     "output_type": "stream",
     "text": [
      "square of 5: 25\n"
     ]
    },
    {
     "name": "stdin",
     "output_type": "stream",
     "text": [
      "Enter a number: 10\n"
     ]
    },
    {
     "name": "stdout",
     "output_type": "stream",
     "text": [
      "square of 10: 100\n"
     ]
    },
    {
     "name": "stdin",
     "output_type": "stream",
     "text": [
      "Enter a number: 3\n"
     ]
    },
    {
     "name": "stdout",
     "output_type": "stream",
     "text": [
      "square of 3: 9\n"
     ]
    },
    {
     "name": "stdin",
     "output_type": "stream",
     "text": [
      "Enter a number: 4\n"
     ]
    },
    {
     "name": "stdout",
     "output_type": "stream",
     "text": [
      "square of 4: 16\n"
     ]
    },
    {
     "name": "stdin",
     "output_type": "stream",
     "text": [
      "Enter a number: 2\n"
     ]
    },
    {
     "name": "stdout",
     "output_type": "stream",
     "text": [
      "square of 2: 4\n"
     ]
    }
   ],
   "source": [
    "# wap ask the user enter input 5 times\n",
    "# print the square of number\n",
    "for i in range(5):\n",
    "    n = eval(input(\"Enter a number:\"))\n",
    "    print(f\"square of {n}: {n**2}\")"
   ]
  },
  {
   "cell_type": "code",
   "execution_count": 31,
   "id": "8f1e7e49-d084-4547-9a20-6cb38d1fa172",
   "metadata": {},
   "outputs": [
    {
     "name": "stdin",
     "output_type": "stream",
     "text": [
      "Enter a number: 5\n"
     ]
    },
    {
     "name": "stdout",
     "output_type": "stream",
     "text": [
      "square of 5: 25\n"
     ]
    },
    {
     "name": "stdin",
     "output_type": "stream",
     "text": [
      "Enter a number: 3\n"
     ]
    },
    {
     "name": "stdout",
     "output_type": "stream",
     "text": [
      "square of 3: 9\n"
     ]
    }
   ],
   "source": [
    "def square():\n",
    "    n = eval(input(\"Enter a number:\"))\n",
    "    print(f\"square of {n}: {n**2}\")\n",
    "\n",
    "for i in range(2):\n",
    "    square()\n",
    "    "
   ]
  },
  {
   "cell_type": "markdown",
   "id": "ad4b9308-10ee-4e01-8ff4-e82bc88b2d05",
   "metadata": {},
   "source": [
    "**Case-3: range(start,stop,step)**\n",
    "\n",
    "- start = start only\n",
    "- step:\n",
    "    - look about step sign is it positive or negative sign\n",
    "    - positive means increment\n",
    "        - last: stop-1\n",
    "    - negative means decrement\n",
    "        - last: stop+1\n"
   ]
  },
  {
   "cell_type": "code",
   "execution_count": 37,
   "id": "0f8cd875-af9e-49c8-83c2-72a0b9edddfb",
   "metadata": {},
   "outputs": [
    {
     "name": "stdout",
     "output_type": "stream",
     "text": [
      "3 5 7 9 11 13 15 17 "
     ]
    }
   ],
   "source": [
    "# example: range(3,20,2)\n",
    "# start = 3\n",
    "# step =+2 positive direction\n",
    "# last = 20-1=19\n",
    "# 3,5,\n",
    "\n",
    "for i in range(3,19,2):\n",
    "    print(i,end=\" \")"
   ]
  },
  {
   "cell_type": "code",
   "execution_count": 39,
   "id": "2b375f2f-4017-4b77-b089-02af86ab0d58",
   "metadata": {},
   "outputs": [],
   "source": [
    "# example: range(3,19,-2)\n",
    "# start = 3\n",
    "# step =+2 positive direction\n",
    "# last = 20-1=19\n",
    "# \n",
    "for i in range(3,19,-2):\n",
    "    print(i)"
   ]
  },
  {
   "cell_type": "code",
   "execution_count": 45,
   "id": "eb632eaa-cf97-4878-8bca-148c883840d5",
   "metadata": {},
   "outputs": [
    {
     "name": "stdout",
     "output_type": "stream",
     "text": [
      "3\n",
      "1\n",
      "-1\n",
      "-3\n",
      "-5\n",
      "-7\n",
      "-9\n",
      "-11\n",
      "-13\n",
      "-15\n",
      "-17\n"
     ]
    }
   ],
   "source": [
    "for i in range(3,-19,-2):\n",
    "    print(i)"
   ]
  },
  {
   "cell_type": "code",
   "execution_count": 47,
   "id": "ba7a1518-6571-4712-bbcb-c7994fee2ee9",
   "metadata": {},
   "outputs": [],
   "source": [
    "for i in range(3,-19,2):\n",
    "    print(i)"
   ]
  },
  {
   "cell_type": "code",
   "execution_count": 53,
   "id": "d38137a8-389d-4941-bcb3-25d5305f7707",
   "metadata": {},
   "outputs": [
    {
     "data": {
      "text/plain": [
       "range(3, 15, 3)"
      ]
     },
     "execution_count": 53,
     "metadata": {},
     "output_type": "execute_result"
    }
   ],
   "source": [
    "range(3,15,3)"
   ]
  },
  {
   "cell_type": "code",
   "execution_count": null,
   "id": "796a93c4-54e6-4ccb-a186-9298c31635c4",
   "metadata": {},
   "outputs": [],
   "source": [
    "range(3,15,-3)"
   ]
  },
  {
   "cell_type": "code",
   "execution_count": null,
   "id": "3b5de7cd-062d-4e20-a3bf-9de7e0479eb9",
   "metadata": {},
   "outputs": [],
   "source": [
    "range(3,-15,3)"
   ]
  },
  {
   "cell_type": "code",
   "execution_count": null,
   "id": "016346a1-d118-436b-812c-da0f400f46df",
   "metadata": {},
   "outputs": [],
   "source": []
  },
  {
   "cell_type": "code",
   "execution_count": 1,
   "id": "d337ca00-1e97-4211-be90-61b053fb283f",
   "metadata": {},
   "outputs": [
    {
     "name": "stdout",
     "output_type": "stream",
     "text": [
      "20\n",
      "10\n",
      "0\n",
      "-10\n"
     ]
    }
   ],
   "source": [
    "for i in range(20,-20,-10):\n",
    "    print(i)\n",
    "\n",
    "# start=20\n",
    "# dire = -ve = step=-10\n",
    "# last = -20+1 = -19\n"
   ]
  },
  {
   "cell_type": "code",
   "execution_count": 5,
   "id": "663345c9-3b0b-40fa-894c-3a287e47b2ff",
   "metadata": {},
   "outputs": [
    {
     "name": "stdin",
     "output_type": "stream",
     "text": [
      "Enter a number for math table 7\n"
     ]
    },
    {
     "name": "stdout",
     "output_type": "stream",
     "text": [
      "7 x 1 = 7\n",
      "7 x 2 = 14\n",
      "7 x 3 = 21\n",
      "7 x 4 = 28\n",
      "7 x 5 = 35\n",
      "7 x 6 = 42\n",
      "7 x 7 = 49\n",
      "7 x 8 = 56\n",
      "7 x 9 = 63\n",
      "7 x 10 = 70\n"
     ]
    }
   ],
   "source": [
    "# Q4) 7th table\n",
    "\n",
    "num = eval(input('Enter a number for math table'))\n",
    "\n",
    "for i in range(1,11):\n",
    "    print(f\"{num} x {i} = {7*i}\")\n",
    "    "
   ]
  },
  {
   "cell_type": "code",
   "execution_count": 29,
   "id": "d96b4711-8714-41e2-aa70-04871afc6140",
   "metadata": {},
   "outputs": [
    {
     "name": "stdin",
     "output_type": "stream",
     "text": [
      "Enter which number divisors you want? 75\n"
     ]
    },
    {
     "name": "stdout",
     "output_type": "stream",
     "text": [
      "1 is divisor of 75\n",
      "3 is divisor of 75\n",
      "5 is divisor of 75\n",
      "15 is divisor of 75\n",
      "25 is divisor of 75\n",
      "75 is divisor of 75\n",
      "divisors count of 75: 6\n"
     ]
    }
   ],
   "source": [
    "# Q5) Find the number of divisors of 75\n",
    "\n",
    "num = eval(input('Enter which number divisors you want?'))\n",
    "\n",
    "count = 0\n",
    "for i in range(1,num+1):\n",
    "    if num%i==0:\n",
    "        count+=1\n",
    "        print(f\"{i} is divisor of {num}\")\n",
    "\n",
    "print(f\"divisors count of {num}: {count}\")"
   ]
  },
  {
   "cell_type": "code",
   "execution_count": 40,
   "id": "1092ba75-def4-4b83-80af-caa7291b6df1",
   "metadata": {},
   "outputs": [
    {
     "name": "stdin",
     "output_type": "stream",
     "text": [
      "Enter a number 55\n"
     ]
    },
    {
     "name": "stdout",
     "output_type": "stream",
     "text": [
      "sum of first 55 natural numbers: 1540\n"
     ]
    }
   ],
   "source": [
    "# Q6) sum of first 10 natural numbers\n",
    "\n",
    "summ = 0\n",
    "num = eval(input(\"Enter a number\"))\n",
    "for i in range(1,num+1):\n",
    "    summ+= i\n",
    "    # print(summ)\n",
    "\n",
    "print(f\"sum of first {num} natural numbers: {summ}\")"
   ]
  },
  {
   "cell_type": "code",
   "execution_count": 33,
   "id": "513c3ed8-c67b-40d0-b0fc-24fc87267a6f",
   "metadata": {},
   "outputs": [
    {
     "data": {
      "text/plain": [
       "55.0"
      ]
     },
     "execution_count": 33,
     "metadata": {},
     "output_type": "execute_result"
    }
   ],
   "source": [
    "\n",
    "n = 10\n",
    "n*(n+1)/2"
   ]
  },
  {
   "cell_type": "markdown",
   "id": "4ef46a51-c219-4311-840b-92625359ccdf",
   "metadata": {},
   "source": [
    "**summation wrapper**\n",
    "\n",
    "- starting we intitlize the sum value: summ = 0\n",
    "- inside loop we will add a simple line: summ = summ+i\n",
    "- summ=0\n",
    "- for loop\n",
    "    - summ = summ+i"
   ]
  },
  {
   "cell_type": "code",
   "execution_count": 42,
   "id": "fb2079e8-10d6-4f2c-910b-16527fc58109",
   "metadata": {},
   "outputs": [
    {
     "name": "stdout",
     "output_type": "stream",
     "text": [
      "0 1 2 3 "
     ]
    }
   ],
   "source": [
    "for val in range(4):\n",
    "    print(val, end=' ')"
   ]
  },
  {
   "cell_type": "code",
   "execution_count": 44,
   "id": "10ff9402-63f1-4c72-9816-3152276421ed",
   "metadata": {},
   "outputs": [
    {
     "data": {
      "text/plain": [
       "3"
      ]
     },
     "execution_count": 44,
     "metadata": {},
     "output_type": "execute_result"
    }
   ],
   "source": [
    "val\n",
    "# we can access last value  from the loop above, not get error"
   ]
  },
  {
   "cell_type": "code",
   "execution_count": 48,
   "id": "6677a81c-b104-4d0d-b605-e3beeb41ad38",
   "metadata": {},
   "outputs": [
    {
     "name": "stdin",
     "output_type": "stream",
     "text": [
      "Enter a number 75\n"
     ]
    },
    {
     "name": "stdout",
     "output_type": "stream",
     "text": [
      "Total count of 75 divisors = 124\n"
     ]
    }
   ],
   "source": [
    "# Q7) Find the sum of divisors of 75\n",
    "\n",
    "total = 0\n",
    "num = eval(input('Enter a number'))\n",
    "for i in range(1, num+1):\n",
    "    if num%i==0:\n",
    "        total+=i\n",
    "\n",
    "print(f\"Total count of {num} divisors = {total}\")"
   ]
  },
  {
   "cell_type": "markdown",
   "id": "628bda6e-d717-467e-8f9d-fe022f3bf553",
   "metadata": {},
   "source": [
    "**Counter wrapper**\n",
    "\n",
    "- Counter means counting the success ones\n",
    "- count = 0\n",
    "- for loop \n",
    "    - count = count+1\n"
   ]
  },
  {
   "cell_type": "code",
   "execution_count": 55,
   "id": "da676aec-fe6a-482c-8b57-5ceffd3c64c7",
   "metadata": {},
   "outputs": [
    {
     "name": "stdin",
     "output_type": "stream",
     "text": [
      "Enter which number divisors you want? 75\n"
     ]
    },
    {
     "name": "stdout",
     "output_type": "stream",
     "text": [
      "divisors count of 75: 6\n"
     ]
    }
   ],
   "source": [
    "# Q7) Find the number of divisors of 75\n",
    "\n",
    "num = eval(input('Enter which number divisors you want?'))\n",
    "\n",
    "count = 0\n",
    "for i in range(1,num+1):\n",
    "    if num%i==0:\n",
    "        count+=1\n",
    "        \n",
    "\n",
    "print(f\"divisors count of {num}: {count}\")"
   ]
  },
  {
   "cell_type": "code",
   "execution_count": 68,
   "id": "4ca6e6aa-07c0-4d06-8a59-07d80aab92c8",
   "metadata": {},
   "outputs": [
    {
     "name": "stdout",
     "output_type": "stream",
     "text": [
      "34 is even\n",
      "1 is odd\n",
      "19 is odd\n",
      "24 is even\n",
      "92 is even\n",
      "even count: 3\n",
      "even sum: 150\n",
      "odd count: 2\n",
      "odd sum: 20\n"
     ]
    }
   ],
   "source": [
    "# Q8) \n",
    "# ask the user get 5 random numbers\n",
    "# means you need to get a random number inside for loop\n",
    "# the loop should run 5 times\n",
    "# now perform the even and odd operation\n",
    "# 1) event count 2) sum of even numbers 3) odd count 4) sum of odd numbers\n",
    "import random\n",
    "even_count = 0\n",
    "even_sum = 0\n",
    "odd_count = 0\n",
    "odd_sum = 0\n",
    "\n",
    "\n",
    "for i in range(5):\n",
    "    num = random.randint(1,100)\n",
    "    \n",
    "    if num%2 == 0:\n",
    "        print(f\"{num} is even\")\n",
    "        even_count+=1\n",
    "        even_sum+=num\n",
    "    else:\n",
    "        print(f\"{num} is odd\")\n",
    "        odd_count+=1\n",
    "        odd_sum+=num\n",
    "\n",
    "print(f\"even count: {even_count}\")\n",
    "print(f'even sum: {even_sum}')\n",
    "print(f\"odd count: {odd_count}\")\n",
    "print(f\"odd sum: {odd_sum}\")\n"
   ]
  },
  {
   "cell_type": "code",
   "execution_count": 74,
   "id": "218a8be1-6771-4c4e-8ef2-af2e96373ea5",
   "metadata": {},
   "outputs": [
    {
     "name": "stdin",
     "output_type": "stream",
     "text": [
      "Enter a number between 1 to 10 1\n"
     ]
    },
    {
     "name": "stdout",
     "output_type": "stream",
     "text": [
      "You won\n"
     ]
    },
    {
     "name": "stdin",
     "output_type": "stream",
     "text": [
      "Enter a number between 1 to 10 3\n"
     ]
    },
    {
     "name": "stdout",
     "output_type": "stream",
     "text": [
      "You won\n"
     ]
    },
    {
     "name": "stdin",
     "output_type": "stream",
     "text": [
      "Enter a number between 1 to 10 2\n"
     ]
    },
    {
     "name": "stdout",
     "output_type": "stream",
     "text": [
      "You lost\n"
     ]
    }
   ],
   "source": [
    "# Q9) Game program\n",
    "# user enter one num\n",
    "# another number will generate randomly\n",
    "# if both numbers are equal then you won\n",
    "# otherwise you lost\n",
    "# I want to give 3 chances\n",
    "import random\n",
    "\n",
    "for i in range(3):\n",
    "    num1 = random.randint(1,10)\n",
    "    num2 = eval(input('Enter a number between 1 to 10'))\n",
    "    if num1 == num2:\n",
    "        print(\"You won\")\n",
    "    else:\n",
    "        print('You lost')\n",
    "\n"
   ]
  },
  {
   "cell_type": "code",
   "execution_count": 76,
   "id": "198fcf16-acc0-4493-9db6-239c67d8d260",
   "metadata": {},
   "outputs": [
    {
     "name": "stdin",
     "output_type": "stream",
     "text": [
      "Enter a number between 1 to 10 2\n"
     ]
    },
    {
     "name": "stdout",
     "output_type": "stream",
     "text": [
      "You won\n"
     ]
    }
   ],
   "source": [
    "import random\n",
    "\n",
    "for i in range(3):\n",
    "    num1 = random.randint(1,10)\n",
    "    num2 = eval(input('Enter a number between 1 to 10'))\n",
    "    if num1 == num2:\n",
    "        print(\"You won\")\n",
    "        break\n",
    "    else:\n",
    "        print('You lost')\n"
   ]
  },
  {
   "cell_type": "code",
   "execution_count": null,
   "id": "d56d3320-6cbb-4b47-a2ea-6a776a49c8e5",
   "metadata": {},
   "outputs": [],
   "source": [
    "# case-1: we apply break ==> completed\n",
    "# case-2: whenever the user enter the wrong answers\n",
    "#             better luck next time\n",
    "#            How many chances you have left\n",
    "#case-3: if you lost all the chances then it should print \n",
    "#           try after 24 hours time\n"
   ]
  },
  {
   "cell_type": "code",
   "execution_count": 86,
   "id": "c21ec65b-4d9c-489a-90d2-927ec455599e",
   "metadata": {},
   "outputs": [
    {
     "name": "stdin",
     "output_type": "stream",
     "text": [
      "Enter a number between 1 to 10 3\n"
     ]
    },
    {
     "name": "stdout",
     "output_type": "stream",
     "text": [
      "You lost\n",
      "You have 2 chance left\n"
     ]
    },
    {
     "name": "stdin",
     "output_type": "stream",
     "text": [
      "Enter a number between 1 to 10 5\n"
     ]
    },
    {
     "name": "stdout",
     "output_type": "stream",
     "text": [
      "You lost\n",
      "You have 1 chance left\n"
     ]
    },
    {
     "name": "stdin",
     "output_type": "stream",
     "text": [
      "Enter a number between 1 to 10 1\n"
     ]
    },
    {
     "name": "stdout",
     "output_type": "stream",
     "text": [
      "You lost\n",
      "You have 0 chance left\n"
     ]
    }
   ],
   "source": [
    "# case-2:\n",
    "\n",
    "import random\n",
    "\n",
    "for i in range(2,-1,-1):\n",
    "    \n",
    "    num1 = random.randint(1,10)\n",
    "    num2 = eval(input('Enter a number between 1 to 10'))\n",
    "    if num1 == num2:\n",
    "        print(\"You won\")\n",
    "        break\n",
    "    else:\n",
    "        print('You lost')\n",
    "        print(f\"You have {i} chance left\")\n",
    "\n",
    "    "
   ]
  },
  {
   "cell_type": "code",
   "execution_count": 88,
   "id": "c418cf8e-3dcd-4468-b115-373ba0c81355",
   "metadata": {},
   "outputs": [
    {
     "name": "stdin",
     "output_type": "stream",
     "text": [
      "Enter a number between 1 to 10 3\n"
     ]
    },
    {
     "name": "stdout",
     "output_type": "stream",
     "text": [
      "You lost\n",
      "You have 2 chance left\n"
     ]
    },
    {
     "name": "stdin",
     "output_type": "stream",
     "text": [
      "Enter a number between 1 to 10 2\n"
     ]
    },
    {
     "name": "stdout",
     "output_type": "stream",
     "text": [
      "You lost\n",
      "You have 1 chance left\n"
     ]
    },
    {
     "name": "stdin",
     "output_type": "stream",
     "text": [
      "Enter a number between 1 to 10 5\n"
     ]
    },
    {
     "name": "stdout",
     "output_type": "stream",
     "text": [
      "You lost\n",
      "Try again after 24 hours\n"
     ]
    }
   ],
   "source": [
    "#case-3: \n",
    "\n",
    "import random\n",
    "\n",
    "for i in range(2,-1,-1):\n",
    "    \n",
    "    num1 = random.randint(1,10)\n",
    "    num2 = eval(input('Enter a number between 1 to 10'))\n",
    "    if num1 == num2:\n",
    "        print(\"You won\")\n",
    "        break\n",
    "    else:\n",
    "        print('You lost')\n",
    "        if i==0:\n",
    "            print(\"Try again after 24 hours\")\n",
    "        else:\n",
    "            print(f\"You have {i} chance left\")"
   ]
  },
  {
   "cell_type": "markdown",
   "id": "47df4b8a-10a1-46d7-bbd8-55b08a141974",
   "metadata": {},
   "source": [
    "**in** operator"
   ]
  },
  {
   "cell_type": "markdown",
   "id": "f01e3c33-83fc-4366-88be-19552ebcaaf3",
   "metadata": {},
   "source": [
    "- in for loop we have range and in operators\n",
    "- range is math related word, whenever we use range, it expects a number inside range\n",
    "- in operator expects a string"
   ]
  },
  {
   "cell_type": "code",
   "execution_count": 3,
   "id": "8a568c16-6ce3-430c-a5df-4fb0573c9a8e",
   "metadata": {},
   "outputs": [
    {
     "name": "stdout",
     "output_type": "stream",
     "text": [
      "0 1 2 3 4 5 6 7 8 9 "
     ]
    }
   ],
   "source": [
    "for i in range(10):\n",
    "    print(i, end=' ')\n"
   ]
  },
  {
   "cell_type": "code",
   "execution_count": 5,
   "id": "d315053c-4523-4909-8b0c-ef7e26137b5d",
   "metadata": {},
   "outputs": [
    {
     "ename": "TypeError",
     "evalue": "'str' object cannot be interpreted as an integer",
     "output_type": "error",
     "traceback": [
      "\u001b[1;31m---------------------------------------------------------------------------\u001b[0m",
      "\u001b[1;31mTypeError\u001b[0m                                 Traceback (most recent call last)",
      "Cell \u001b[1;32mIn[5], line 1\u001b[0m\n\u001b[1;32m----> 1\u001b[0m \u001b[38;5;28;01mfor\u001b[39;00m i \u001b[38;5;129;01min\u001b[39;00m \u001b[38;5;28mrange\u001b[39m(\u001b[38;5;124m'\u001b[39m\u001b[38;5;124mpython\u001b[39m\u001b[38;5;124m'\u001b[39m):\n\u001b[0;32m      2\u001b[0m     \u001b[38;5;28mprint\u001b[39m(i, end\u001b[38;5;241m=\u001b[39m\u001b[38;5;124m'\u001b[39m\u001b[38;5;124m \u001b[39m\u001b[38;5;124m'\u001b[39m)\n",
      "\u001b[1;31mTypeError\u001b[0m: 'str' object cannot be interpreted as an integer"
     ]
    }
   ],
   "source": [
    "for i in range('python'):\n",
    "    print(i, end=' ')"
   ]
  },
  {
   "cell_type": "code",
   "execution_count": 7,
   "id": "27594517-d11a-47b5-8f3d-5164c8946fb0",
   "metadata": {},
   "outputs": [
    {
     "name": "stdout",
     "output_type": "stream",
     "text": [
      "p y t h o n "
     ]
    }
   ],
   "source": [
    "for i in 'python':\n",
    "    print(i, end=' ')"
   ]
  },
  {
   "cell_type": "code",
   "execution_count": 9,
   "id": "396f95f2-2421-454c-ae79-d3f171806218",
   "metadata": {},
   "outputs": [
    {
     "data": {
      "text/plain": [
       "True"
      ]
     },
     "execution_count": 9,
     "metadata": {},
     "output_type": "execute_result"
    }
   ],
   "source": [
    "'p' in 'python'\n",
    "'y' in 'python'\n",
    "'t' in 'python'\n",
    "'h' in 'python'\n",
    "'o' in 'python'\n",
    "'n' in 'python'\n",
    "\n",
    "# i in 'python'\n"
   ]
  },
  {
   "cell_type": "code",
   "execution_count": null,
   "id": "a7950e61-5aa6-4e9f-8aa9-cef6c9cd10c0",
   "metadata": {},
   "outputs": [],
   "source": [
    "'A' == 'a'\n",
    "'A' >'a'\n",
    "'A'<'a'"
   ]
  },
  {
   "cell_type": "markdown",
   "id": "ea092730-f9b2-4e02-922e-9d5912ff92c8",
   "metadata": {},
   "source": [
    "**ASCII**\n",
    "- American STandard Code for Information Interchange"
   ]
  },
  {
   "cell_type": "code",
   "execution_count": null,
   "id": "20bd9baa-34b6-4d49-bbae-631e7712e3b8",
   "metadata": {},
   "outputs": [],
   "source": [
    "'A' ==== 65\n",
    "'a' ==== 97"
   ]
  },
  {
   "cell_type": "code",
   "execution_count": 14,
   "id": "ebd23938-493e-4832-8ac4-4e891297d63e",
   "metadata": {},
   "outputs": [
    {
     "data": {
      "text/plain": [
       "False"
      ]
     },
     "execution_count": 14,
     "metadata": {},
     "output_type": "execute_result"
    }
   ],
   "source": [
    "'A' > 'a'"
   ]
  },
  {
   "cell_type": "markdown",
   "id": "7d0e507e-ed90-4c1d-9d27-eb32e41d033c",
   "metadata": {},
   "source": [
    "- How to convert char to number\n",
    "\n",
    "- How to convert number to char"
   ]
  },
  {
   "cell_type": "markdown",
   "id": "a366110c-d2cf-4f20-b877-58db4398053d",
   "metadata": {},
   "source": [
    "**chr-ord**"
   ]
  },
  {
   "cell_type": "code",
   "execution_count": 21,
   "id": "b42b0ec8-9cae-48a7-817b-191c8642029b",
   "metadata": {},
   "outputs": [
    {
     "data": {
      "text/plain": [
       "'a'"
      ]
     },
     "execution_count": 21,
     "metadata": {},
     "output_type": "execute_result"
    }
   ],
   "source": [
    "chr(97)"
   ]
  },
  {
   "cell_type": "code",
   "execution_count": 24,
   "id": "90900891-279c-4676-88a0-988d61e071ec",
   "metadata": {},
   "outputs": [
    {
     "data": {
      "text/plain": [
       "97"
      ]
     },
     "execution_count": 24,
     "metadata": {},
     "output_type": "execute_result"
    }
   ],
   "source": [
    "ord('a')"
   ]
  },
  {
   "cell_type": "code",
   "execution_count": 32,
   "id": "53df05ca-31cd-4ec2-96ee-e970cb7c3517",
   "metadata": {},
   "outputs": [
    {
     "data": {
      "text/plain": [
       "122"
      ]
     },
     "execution_count": 32,
     "metadata": {},
     "output_type": "execute_result"
    }
   ],
   "source": [
    "ord('z')"
   ]
  },
  {
   "cell_type": "code",
   "execution_count": 26,
   "id": "3161fba9-1c9d-4efa-baaa-a9b0e1fd6855",
   "metadata": {},
   "outputs": [
    {
     "data": {
      "text/plain": [
       "'A'"
      ]
     },
     "execution_count": 26,
     "metadata": {},
     "output_type": "execute_result"
    }
   ],
   "source": [
    "chr(65)"
   ]
  },
  {
   "cell_type": "code",
   "execution_count": 28,
   "id": "73c23279-078d-4c3a-b164-cae232f89758",
   "metadata": {},
   "outputs": [
    {
     "data": {
      "text/plain": [
       "65"
      ]
     },
     "execution_count": 28,
     "metadata": {},
     "output_type": "execute_result"
    }
   ],
   "source": [
    "ord('A')"
   ]
  },
  {
   "cell_type": "code",
   "execution_count": 34,
   "id": "c8a9e0ff-8901-4649-bd8e-cb97b29cf320",
   "metadata": {},
   "outputs": [
    {
     "data": {
      "text/plain": [
       "90"
      ]
     },
     "execution_count": 34,
     "metadata": {},
     "output_type": "execute_result"
    }
   ],
   "source": [
    "ord('Z')"
   ]
  },
  {
   "cell_type": "markdown",
   "id": "61df21a8-d10b-48ce-8b98-7c994045ec09",
   "metadata": {},
   "source": [
    "- so **ord** convertin char to number\n",
    "- **chr** converting number to char"
   ]
  },
  {
   "cell_type": "code",
   "execution_count": 39,
   "id": "35384f1a-cff5-4f35-b1a0-d995d7417ac1",
   "metadata": {},
   "outputs": [
    {
     "name": "stdout",
     "output_type": "stream",
     "text": [
      "A: 65 \n",
      "B: 66 \n",
      "C: 67 \n",
      "D: 68 \n",
      "E: 69 \n",
      "F: 70 \n",
      "G: 71 \n",
      "H: 72 \n",
      "I: 73 \n",
      "J: 74 \n",
      "K: 75 \n",
      "L: 76 \n",
      "M: 77 \n",
      "N: 78 \n",
      "O: 79 \n",
      "P: 80 \n",
      "Q: 81 \n",
      "R: 82 \n",
      "S: 83 \n",
      "T: 84 \n",
      "U: 85 \n",
      "V: 86 \n",
      "W: 87 \n",
      "X: 88 \n",
      "Y: 89 \n",
      "Z: 90 \n"
     ]
    }
   ],
   "source": [
    "# wap ask the user get the ASCII number from A to Z\n",
    "# print: A:65\n",
    "# print: Z:90\n",
    "\n",
    "for i in range(65, 91):\n",
    "    print(f\"{chr(i)}: {i} \")"
   ]
  },
  {
   "cell_type": "code",
   "execution_count": 43,
   "id": "801f3d1b-a272-4c24-896d-8d0d2a9fabdb",
   "metadata": {},
   "outputs": [
    {
     "name": "stdout",
     "output_type": "stream",
     "text": [
      "A: 65\n",
      "B: 66\n",
      "C: 67\n",
      "D: 68\n",
      "E: 69\n",
      "F: 70\n",
      "G: 71\n",
      "H: 72\n",
      "I: 73\n",
      "J: 74\n",
      "K: 75\n",
      "L: 76\n",
      "M: 77\n",
      "N: 78\n",
      "O: 79\n",
      "P: 80\n",
      "Q: 81\n",
      "R: 82\n",
      "S: 83\n",
      "T: 84\n",
      "U: 85\n",
      "V: 86\n",
      "W: 87\n",
      "X: 88\n",
      "Y: 89\n",
      "Z: 90\n"
     ]
    }
   ],
   "source": [
    "for i in 'ABCDEFGHIJKLMNOPQRSTUVWXYZ':\n",
    "    print(f\"{i}: {ord(i)}\")"
   ]
  },
  {
   "cell_type": "markdown",
   "id": "7841b158-dc43-4441-8d7b-32593383ac35",
   "metadata": {},
   "source": [
    "**package: string**"
   ]
  },
  {
   "cell_type": "code",
   "execution_count": 46,
   "id": "213fb5f0-f898-4a95-bbfd-a58a007ac48c",
   "metadata": {},
   "outputs": [
    {
     "data": {
      "text/plain": [
       "['Formatter',\n",
       " 'Template',\n",
       " '_ChainMap',\n",
       " '__all__',\n",
       " '__builtins__',\n",
       " '__cached__',\n",
       " '__doc__',\n",
       " '__file__',\n",
       " '__loader__',\n",
       " '__name__',\n",
       " '__package__',\n",
       " '__spec__',\n",
       " '_re',\n",
       " '_sentinel_dict',\n",
       " '_string',\n",
       " 'ascii_letters',\n",
       " 'ascii_lowercase',\n",
       " 'ascii_uppercase',\n",
       " 'capwords',\n",
       " 'digits',\n",
       " 'hexdigits',\n",
       " 'octdigits',\n",
       " 'printable',\n",
       " 'punctuation',\n",
       " 'whitespace']"
      ]
     },
     "execution_count": 46,
     "metadata": {},
     "output_type": "execute_result"
    }
   ],
   "source": [
    "import string\n",
    "dir(string)"
   ]
  },
  {
   "cell_type": "code",
   "execution_count": 48,
   "id": "c5686d9e-5101-41e6-a835-287ff8eb5601",
   "metadata": {},
   "outputs": [
    {
     "data": {
      "text/plain": [
       "'ABCDEFGHIJKLMNOPQRSTUVWXYZ'"
      ]
     },
     "execution_count": 48,
     "metadata": {},
     "output_type": "execute_result"
    }
   ],
   "source": [
    "string.ascii_uppercase"
   ]
  },
  {
   "cell_type": "code",
   "execution_count": 52,
   "id": "f707f188-8ce7-4bee-965b-f935fb25d389",
   "metadata": {},
   "outputs": [
    {
     "data": {
      "text/plain": [
       "'abcdefghijklmnopqrstuvwxyzABCDEFGHIJKLMNOPQRSTUVWXYZ'"
      ]
     },
     "execution_count": 52,
     "metadata": {},
     "output_type": "execute_result"
    }
   ],
   "source": [
    "string.ascii_letters"
   ]
  },
  {
   "cell_type": "code",
   "execution_count": 64,
   "id": "80269aae-4608-41bf-bef3-460b998b8389",
   "metadata": {},
   "outputs": [],
   "source": [
    "# string.capwords(\"hello\")"
   ]
  },
  {
   "cell_type": "code",
   "execution_count": 66,
   "id": "9ac884b5-34be-4e44-b10b-6146c7c63bf4",
   "metadata": {},
   "outputs": [
    {
     "data": {
      "text/plain": [
       "['Formatter',\n",
       " 'Template',\n",
       " '_ChainMap',\n",
       " '__all__',\n",
       " '__builtins__',\n",
       " '__cached__',\n",
       " '__doc__',\n",
       " '__file__',\n",
       " '__loader__',\n",
       " '__name__',\n",
       " '__package__',\n",
       " '__spec__',\n",
       " '_re',\n",
       " '_sentinel_dict',\n",
       " '_string',\n",
       " 'ascii_letters',\n",
       " 'ascii_lowercase',\n",
       " 'ascii_uppercase',\n",
       " 'capwords',\n",
       " 'digits',\n",
       " 'hexdigits',\n",
       " 'octdigits',\n",
       " 'printable',\n",
       " 'punctuation',\n",
       " 'whitespace']"
      ]
     },
     "execution_count": 66,
     "metadata": {},
     "output_type": "execute_result"
    }
   ],
   "source": [
    "dir(string)"
   ]
  },
  {
   "cell_type": "code",
   "execution_count": 68,
   "id": "13c8258d-92df-4a21-86a1-05abc8f8b6fa",
   "metadata": {},
   "outputs": [
    {
     "data": {
      "text/plain": [
       "'abcdefghijklmnopqrstuvwxyzABCDEFGHIJKLMNOPQRSTUVWXYZ'"
      ]
     },
     "execution_count": 68,
     "metadata": {},
     "output_type": "execute_result"
    }
   ],
   "source": [
    "string.ascii_letters"
   ]
  },
  {
   "cell_type": "code",
   "execution_count": 70,
   "id": "de36e959-0517-4e22-af51-842d2b017e76",
   "metadata": {},
   "outputs": [
    {
     "data": {
      "text/plain": [
       "'abcdefghijklmnopqrstuvwxyz'"
      ]
     },
     "execution_count": 70,
     "metadata": {},
     "output_type": "execute_result"
    }
   ],
   "source": [
    "string.ascii_lowercase"
   ]
  },
  {
   "cell_type": "code",
   "execution_count": 72,
   "id": "e390bd2e-1064-44a4-9e8a-50b2ddb7f531",
   "metadata": {},
   "outputs": [
    {
     "data": {
      "text/plain": [
       "'ABCDEFGHIJKLMNOPQRSTUVWXYZ'"
      ]
     },
     "execution_count": 72,
     "metadata": {},
     "output_type": "execute_result"
    }
   ],
   "source": [
    "string.ascii_uppercase"
   ]
  },
  {
   "cell_type": "code",
   "execution_count": 74,
   "id": "6b33d5c1-dd39-42ba-aaac-9b7e8ef8848e",
   "metadata": {},
   "outputs": [
    {
     "data": {
      "text/plain": [
       "'!\"#$%&\\'()*+,-./:;<=>?@[\\\\]^_`{|}~'"
      ]
     },
     "execution_count": 74,
     "metadata": {},
     "output_type": "execute_result"
    }
   ],
   "source": [
    "string.punctuation"
   ]
  },
  {
   "cell_type": "code",
   "execution_count": 76,
   "id": "7d0c475c-752b-49e0-bdcd-de9c4db5a28d",
   "metadata": {},
   "outputs": [
    {
     "data": {
      "text/plain": [
       "'0123456789'"
      ]
     },
     "execution_count": 76,
     "metadata": {},
     "output_type": "execute_result"
    }
   ],
   "source": [
    "string.digits"
   ]
  },
  {
   "cell_type": "code",
   "execution_count": 90,
   "id": "5fb21843-01f3-47a2-82c9-ae771badff92",
   "metadata": {},
   "outputs": [
    {
     "name": "stdout",
     "output_type": "stream",
     "text": [
      "A: 65  B: 66  C: 67  D: 68  E: 69  F: 70  G: 71  H: 72  I: 73  J: 74  K: 75  L: 76  M: 77  N: 78  O: 79  P: 80  Q: 81  R: 82  S: 83  T: 84  U: 85  V: 86  W: 87  X: 88  Y: 89  Z: 90  "
     ]
    }
   ],
   "source": [
    "for i in string.ascii_uppercase:\n",
    "    print(f\"{i}: {ord(i)}\",end=\"  \")"
   ]
  },
  {
   "cell_type": "code",
   "execution_count": 88,
   "id": "7b22d0be-c730-411b-aef7-312e5b5dde09",
   "metadata": {},
   "outputs": [
    {
     "name": "stdout",
     "output_type": "stream",
     "text": [
      "a: 97  b: 98  c: 99  d: 100  e: 101  f: 102  g: 103  h: 104  i: 105  j: 106  k: 107  l: 108  m: 109  n: 110  o: 111  p: 112  q: 113  r: 114  s: 115  t: 116  u: 117  v: 118  w: 119  x: 120  y: 121  z: 122  "
     ]
    }
   ],
   "source": [
    "for i in string.ascii_lowercase:\n",
    "    print(f\"{i}: {ord(i)}\",end=\"  \")"
   ]
  },
  {
   "cell_type": "code",
   "execution_count": 86,
   "id": "053e7c07-1ebd-4e4d-9008-976e4b278d61",
   "metadata": {},
   "outputs": [
    {
     "name": "stdout",
     "output_type": "stream",
     "text": [
      "!: 33  \": 34  #: 35  $: 36  %: 37  &: 38  ': 39  (: 40  ): 41  *: 42  +: 43  ,: 44  -: 45  .: 46  /: 47  :: 58  ;: 59  <: 60  =: 61  >: 62  ?: 63  @: 64  [: 91  \\: 92  ]: 93  ^: 94  _: 95  `: 96  {: 123  |: 124  }: 125  ~: 126  "
     ]
    }
   ],
   "source": [
    "for i in string.punctuation:\n",
    "    print(f\"{i}: {ord(i)}\",end=\"  \")"
   ]
  },
  {
   "cell_type": "code",
   "execution_count": 94,
   "id": "d0efb68e-beeb-4f43-b8c7-380370479a3a",
   "metadata": {},
   "outputs": [
    {
     "name": "stdout",
     "output_type": "stream",
     "text": [
      "!: 33 \": 34 #: 35 $: 36 %: 37 &: 38 ': 39 (: 40 ): 41 *: 42 +: 43 ,: 44 -: 45 .: 46 /: 47 0: 48 1: 49 2: 50 3: 51 4: 52 5: 53 6: 54 7: 55 8: 56 9: 57 :: 58 ;: 59 <: 60 =: 61 >: 62 ?: 63 @: 64 A: 65 B: 66 C: 67 D: 68 E: 69 F: 70 G: 71 H: 72 I: 73 J: 74 K: 75 L: 76 M: 77 N: 78 O: 79 P: 80 Q: 81 R: 82 S: 83 T: 84 U: 85 V: 86 W: 87 X: 88 Y: 89 Z: 90 [: 91 \\: 92 ]: 93 ^: 94 _: 95 `: 96 a: 97 b: 98 c: 99 d: 100 e: 101 f: 102 g: 103 h: 104 i: 105 j: 106 k: 107 l: 108 m: 109 n: 110 o: 111 p: 112 q: 113 r: 114 s: 115 t: 116 u: 117 v: 118 w: 119 x: 120 y: 121 z: 122 {: 123 |: 124 }: 125 ~: 126 "
     ]
    }
   ],
   "source": [
    "for i in range(33,127):\n",
    "    print(f\"{chr(i)}: {i}\" ,end=' ')"
   ]
  },
  {
   "cell_type": "code",
   "execution_count": 96,
   "id": "ec99669d-f391-44f5-adb1-bbd492c3da0c",
   "metadata": {},
   "outputs": [
    {
     "name": "stdout",
     "output_type": "stream",
     "text": [
      "\u0000: 0 \u0001: 1 \u0002: 2 \u0003: 3 \u0004: 4 \u0005: 5 \u0006: 6 \u0007: 7: 8 \t: 9 \n",
      ": 13 \u000e: 14 \u000f: 15 \u0010: 16 \u0011: 17 \u0012: 18 \u0013: 19 \u0014: 20 \u0015: 21 \u0016: 22 \u0017: 23 \u0018: 24 \u0019: 25 \u001a: 26 \u001b: 27 \u001c",
      ": 28 \u001d",
      ": 29 \u001e",
      ": 30 \u001f: 31  : 32 "
     ]
    }
   ],
   "source": [
    "for i in range(0,33):\n",
    "    print(f\"{chr(i)}: {i}\", end=' ')"
   ]
  },
  {
   "cell_type": "code",
   "execution_count": 100,
   "id": "0b4b685a-beaf-4ceb-9993-8c26256f0449",
   "metadata": {},
   "outputs": [
    {
     "name": "stdout",
     "output_type": "stream",
     "text": [
      ": 127 : 128 : 129 : 130 : 131 : 132 ",
      ": 133 : 134 : 135 : 136 : 137 : 138 : 139 : 140 : 141 : 142 : 143 : 144 : 145 : 146 : 147 : 148 : 149 : 150 : 151 : 152 : 153 : 154 : 155 : 156 : 157 : 158 : 159  : 160 ¡: 161 ¢: 162 £: 163 ¤: 164 ¥: 165 ¦: 166 §: 167 ¨: 168 ©: 169 ª: 170 «: 171 ¬: 172 ­: 173 ®: 174 ¯: 175 °: 176 ±: 177 ²: 178 ³: 179 ´: 180 µ: 181 ¶: 182 ·: 183 ¸: 184 ¹: 185 º: 186 »: 187 ¼: 188 ½: 189 ¾: 190 ¿: 191 À: 192 Á: 193 Â: 194 Ã: 195 Ä: 196 Å: 197 Æ: 198 Ç: 199 È: 200 É: 201 Ê: 202 Ë: 203 Ì: 204 Í: 205 Î: 206 Ï: 207 Ð: 208 Ñ: 209 Ò: 210 Ó: 211 Ô: 212 Õ: 213 Ö: 214 ×: 215 Ø: 216 Ù: 217 Ú: 218 Û: 219 Ü: 220 Ý: 221 Þ: 222 ß: 223 à: 224 á: 225 â: 226 ã: 227 ä: 228 å: 229 æ: 230 ç: 231 è: 232 é: 233 ê: 234 ë: 235 ì: 236 í: 237 î: 238 ï: 239 ð: 240 ñ: 241 ò: 242 ó: 243 ô: 244 õ: 245 ö: 246 ÷: 247 ø: 248 ù: 249 "
     ]
    }
   ],
   "source": [
    "for i in range(127, 250):\n",
    "    print(f\"{chr(i)}: {i}\", end=' ')"
   ]
  },
  {
   "cell_type": "code",
   "execution_count": 102,
   "id": "b8c48334-d341-4799-9bb2-83d3d75eae7b",
   "metadata": {},
   "outputs": [
    {
     "name": "stdout",
     "output_type": "stream",
     "text": [
      "ú: 250 û: 251 ü: 252 ý: 253 þ: 254 ÿ: 255 Ā: 256 ā: 257 Ă: 258 ă: 259 Ą: 260 ą: 261 Ć: 262 ć: 263 Ĉ: 264 ĉ: 265 Ċ: 266 ċ: 267 Č: 268 č: 269 Ď: 270 ď: 271 Đ: 272 đ: 273 Ē: 274 ē: 275 Ĕ: 276 ĕ: 277 Ė: 278 ė: 279 Ę: 280 ę: 281 Ě: 282 ě: 283 Ĝ: 284 ĝ: 285 Ğ: 286 ğ: 287 Ġ: 288 ġ: 289 Ģ: 290 ģ: 291 Ĥ: 292 ĥ: 293 Ħ: 294 ħ: 295 Ĩ: 296 ĩ: 297 Ī: 298 ī: 299 Ĭ: 300 ĭ: 301 Į: 302 į: 303 İ: 304 ı: 305 Ĳ: 306 ĳ: 307 Ĵ: 308 ĵ: 309 Ķ: 310 ķ: 311 ĸ: 312 Ĺ: 313 ĺ: 314 Ļ: 315 ļ: 316 Ľ: 317 ľ: 318 Ŀ: 319 ŀ: 320 Ł: 321 ł: 322 Ń: 323 ń: 324 Ņ: 325 ņ: 326 Ň: 327 ň: 328 ŉ: 329 Ŋ: 330 ŋ: 331 Ō: 332 ō: 333 Ŏ: 334 ŏ: 335 Ő: 336 ő: 337 Œ: 338 œ: 339 Ŕ: 340 ŕ: 341 Ŗ: 342 ŗ: 343 Ř: 344 ř: 345 Ś: 346 ś: 347 Ŝ: 348 ŝ: 349 Ş: 350 ş: 351 Š: 352 š: 353 Ţ: 354 ţ: 355 Ť: 356 ť: 357 Ŧ: 358 ŧ: 359 Ũ: 360 ũ: 361 Ū: 362 ū: 363 Ŭ: 364 ŭ: 365 Ů: 366 ů: 367 Ű: 368 ű: 369 Ų: 370 ų: 371 Ŵ: 372 ŵ: 373 Ŷ: 374 ŷ: 375 Ÿ: 376 Ź: 377 ź: 378 Ż: 379 ż: 380 Ž: 381 ž: 382 ſ: 383 ƀ: 384 Ɓ: 385 Ƃ: 386 ƃ: 387 Ƅ: 388 ƅ: 389 Ɔ: 390 Ƈ: 391 ƈ: 392 Ɖ: 393 Ɗ: 394 Ƌ: 395 ƌ: 396 ƍ: 397 Ǝ: 398 Ə: 399 Ɛ: 400 Ƒ: 401 ƒ: 402 Ɠ: 403 Ɣ: 404 ƕ: 405 Ɩ: 406 Ɨ: 407 Ƙ: 408 ƙ: 409 ƚ: 410 ƛ: 411 Ɯ: 412 Ɲ: 413 ƞ: 414 Ɵ: 415 Ơ: 416 ơ: 417 Ƣ: 418 ƣ: 419 Ƥ: 420 ƥ: 421 Ʀ: 422 Ƨ: 423 ƨ: 424 Ʃ: 425 ƪ: 426 ƫ: 427 Ƭ: 428 ƭ: 429 Ʈ: 430 Ư: 431 ư: 432 Ʊ: 433 Ʋ: 434 Ƴ: 435 ƴ: 436 Ƶ: 437 ƶ: 438 Ʒ: 439 Ƹ: 440 ƹ: 441 ƺ: 442 ƻ: 443 Ƽ: 444 ƽ: 445 ƾ: 446 ƿ: 447 ǀ: 448 ǁ: 449 ǂ: 450 ǃ: 451 Ǆ: 452 ǅ: 453 ǆ: 454 Ǉ: 455 ǈ: 456 ǉ: 457 Ǌ: 458 ǋ: 459 ǌ: 460 Ǎ: 461 ǎ: 462 Ǐ: 463 ǐ: 464 Ǒ: 465 ǒ: 466 Ǔ: 467 ǔ: 468 Ǖ: 469 ǖ: 470 Ǘ: 471 ǘ: 472 Ǚ: 473 ǚ: 474 Ǜ: 475 ǜ: 476 ǝ: 477 Ǟ: 478 ǟ: 479 Ǡ: 480 ǡ: 481 Ǣ: 482 ǣ: 483 Ǥ: 484 ǥ: 485 Ǧ: 486 ǧ: 487 Ǩ: 488 ǩ: 489 Ǫ: 490 ǫ: 491 Ǭ: 492 ǭ: 493 Ǯ: 494 ǯ: 495 ǰ: 496 Ǳ: 497 ǲ: 498 ǳ: 499 "
     ]
    }
   ],
   "source": [
    "for i in range(250, 500):\n",
    "    print(f\"{chr(i)}: {i}\", end=' ')"
   ]
  },
  {
   "cell_type": "code",
   "execution_count": 104,
   "id": "64a76d07-2f1c-4544-9099-e1971dac7d6c",
   "metadata": {},
   "outputs": [
    {
     "name": "stdout",
     "output_type": "stream",
     "text": [
      "Ǵ: 500 ǵ: 501 Ƕ: 502 Ƿ: 503 Ǹ: 504 ǹ: 505 Ǻ: 506 ǻ: 507 Ǽ: 508 ǽ: 509 Ǿ: 510 ǿ: 511 Ȁ: 512 ȁ: 513 Ȃ: 514 ȃ: 515 Ȅ: 516 ȅ: 517 Ȇ: 518 ȇ: 519 Ȉ: 520 ȉ: 521 Ȋ: 522 ȋ: 523 Ȍ: 524 ȍ: 525 Ȏ: 526 ȏ: 527 Ȑ: 528 ȑ: 529 Ȓ: 530 ȓ: 531 Ȕ: 532 ȕ: 533 Ȗ: 534 ȗ: 535 Ș: 536 ș: 537 Ț: 538 ț: 539 Ȝ: 540 ȝ: 541 Ȟ: 542 ȟ: 543 Ƞ: 544 ȡ: 545 Ȣ: 546 ȣ: 547 Ȥ: 548 ȥ: 549 Ȧ: 550 ȧ: 551 Ȩ: 552 ȩ: 553 Ȫ: 554 ȫ: 555 Ȭ: 556 ȭ: 557 Ȯ: 558 ȯ: 559 Ȱ: 560 ȱ: 561 Ȳ: 562 ȳ: 563 ȴ: 564 ȵ: 565 ȶ: 566 ȷ: 567 ȸ: 568 ȹ: 569 Ⱥ: 570 Ȼ: 571 ȼ: 572 Ƚ: 573 Ⱦ: 574 ȿ: 575 ɀ: 576 Ɂ: 577 ɂ: 578 Ƀ: 579 Ʉ: 580 Ʌ: 581 Ɇ: 582 ɇ: 583 Ɉ: 584 ɉ: 585 Ɋ: 586 ɋ: 587 Ɍ: 588 ɍ: 589 Ɏ: 590 ɏ: 591 ɐ: 592 ɑ: 593 ɒ: 594 ɓ: 595 ɔ: 596 ɕ: 597 ɖ: 598 ɗ: 599 ɘ: 600 ə: 601 ɚ: 602 ɛ: 603 ɜ: 604 ɝ: 605 ɞ: 606 ɟ: 607 ɠ: 608 ɡ: 609 ɢ: 610 ɣ: 611 ɤ: 612 ɥ: 613 ɦ: 614 ɧ: 615 ɨ: 616 ɩ: 617 ɪ: 618 ɫ: 619 ɬ: 620 ɭ: 621 ɮ: 622 ɯ: 623 ɰ: 624 ɱ: 625 ɲ: 626 ɳ: 627 ɴ: 628 ɵ: 629 ɶ: 630 ɷ: 631 ɸ: 632 ɹ: 633 ɺ: 634 ɻ: 635 ɼ: 636 ɽ: 637 ɾ: 638 ɿ: 639 ʀ: 640 ʁ: 641 ʂ: 642 ʃ: 643 ʄ: 644 ʅ: 645 ʆ: 646 ʇ: 647 ʈ: 648 ʉ: 649 ʊ: 650 ʋ: 651 ʌ: 652 ʍ: 653 ʎ: 654 ʏ: 655 ʐ: 656 ʑ: 657 ʒ: 658 ʓ: 659 ʔ: 660 ʕ: 661 ʖ: 662 ʗ: 663 ʘ: 664 ʙ: 665 ʚ: 666 ʛ: 667 ʜ: 668 ʝ: 669 ʞ: 670 ʟ: 671 ʠ: 672 ʡ: 673 ʢ: 674 ʣ: 675 ʤ: 676 ʥ: 677 ʦ: 678 ʧ: 679 ʨ: 680 ʩ: 681 ʪ: 682 ʫ: 683 ʬ: 684 ʭ: 685 ʮ: 686 ʯ: 687 ʰ: 688 ʱ: 689 ʲ: 690 ʳ: 691 ʴ: 692 ʵ: 693 ʶ: 694 ʷ: 695 ʸ: 696 ʹ: 697 ʺ: 698 ʻ: 699 ʼ: 700 ʽ: 701 ʾ: 702 ʿ: 703 ˀ: 704 ˁ: 705 ˂: 706 ˃: 707 ˄: 708 ˅: 709 ˆ: 710 ˇ: 711 ˈ: 712 ˉ: 713 ˊ: 714 ˋ: 715 ˌ: 716 ˍ: 717 ˎ: 718 ˏ: 719 ː: 720 ˑ: 721 ˒: 722 ˓: 723 ˔: 724 ˕: 725 ˖: 726 ˗: 727 ˘: 728 ˙: 729 ˚: 730 ˛: 731 ˜: 732 ˝: 733 ˞: 734 ˟: 735 ˠ: 736 ˡ: 737 ˢ: 738 ˣ: 739 ˤ: 740 ˥: 741 ˦: 742 ˧: 743 ˨: 744 ˩: 745 ˪: 746 ˫: 747 ˬ: 748 ˭: 749 ˮ: 750 ˯: 751 ˰: 752 ˱: 753 ˲: 754 ˳: 755 ˴: 756 ˵: 757 ˶: 758 ˷: 759 ˸: 760 ˹: 761 ˺: 762 ˻: 763 ˼: 764 ˽: 765 ˾: 766 ˿: 767 ̀: 768 ́: 769 ̂: 770 ̃: 771 ̄: 772 ̅: 773 ̆: 774 ̇: 775 ̈: 776 ̉: 777 ̊: 778 ̋: 779 ̌: 780 ̍: 781 ̎: 782 ̏: 783 ̐: 784 ̑: 785 ̒: 786 ̓: 787 ̔: 788 ̕: 789 ̖: 790 ̗: 791 ̘: 792 ̙: 793 ̚: 794 ̛: 795 ̜: 796 ̝: 797 ̞: 798 ̟: 799 ̠: 800 ̡: 801 ̢: 802 ̣: 803 ̤: 804 ̥: 805 ̦: 806 ̧: 807 ̨: 808 ̩: 809 ̪: 810 ̫: 811 ̬: 812 ̭: 813 ̮: 814 ̯: 815 ̰: 816 ̱: 817 ̲: 818 ̳: 819 ̴: 820 ̵: 821 ̶: 822 ̷: 823 ̸: 824 ̹: 825 ̺: 826 ̻: 827 ̼: 828 ̽: 829 ̾: 830 ̿: 831 ̀: 832 ́: 833 ͂: 834 ̓: 835 ̈́: 836 ͅ: 837 ͆: 838 ͇: 839 ͈: 840 ͉: 841 ͊: 842 ͋: 843 ͌: 844 ͍: 845 ͎: 846 ͏: 847 ͐: 848 ͑: 849 ͒: 850 ͓: 851 ͔: 852 ͕: 853 ͖: 854 ͗: 855 ͘: 856 ͙: 857 ͚: 858 ͛: 859 ͜: 860 ͝: 861 ͞: 862 ͟: 863 ͠: 864 ͡: 865 ͢: 866 ͣ: 867 ͤ: 868 ͥ: 869 ͦ: 870 ͧ: 871 ͨ: 872 ͩ: 873 ͪ: 874 ͫ: 875 ͬ: 876 ͭ: 877 ͮ: 878 ͯ: 879 Ͱ: 880 ͱ: 881 Ͳ: 882 ͳ: 883 ʹ: 884 ͵: 885 Ͷ: 886 ͷ: 887 ͸: 888 ͹: 889 ͺ: 890 ͻ: 891 ͼ: 892 ͽ: 893 ;: 894 Ϳ: 895 ΀: 896 ΁: 897 ΂: 898 ΃: 899 ΄: 900 ΅: 901 Ά: 902 ·: 903 Έ: 904 Ή: 905 Ί: 906 ΋: 907 Ό: 908 ΍: 909 Ύ: 910 Ώ: 911 ΐ: 912 Α: 913 Β: 914 Γ: 915 Δ: 916 Ε: 917 Ζ: 918 Η: 919 Θ: 920 Ι: 921 Κ: 922 Λ: 923 Μ: 924 Ν: 925 Ξ: 926 Ο: 927 Π: 928 Ρ: 929 ΢: 930 Σ: 931 Τ: 932 Υ: 933 Φ: 934 Χ: 935 Ψ: 936 Ω: 937 Ϊ: 938 Ϋ: 939 ά: 940 έ: 941 ή: 942 ί: 943 ΰ: 944 α: 945 β: 946 γ: 947 δ: 948 ε: 949 ζ: 950 η: 951 θ: 952 ι: 953 κ: 954 λ: 955 μ: 956 ν: 957 ξ: 958 ο: 959 π: 960 ρ: 961 ς: 962 σ: 963 τ: 964 υ: 965 φ: 966 χ: 967 ψ: 968 ω: 969 ϊ: 970 ϋ: 971 ό: 972 ύ: 973 ώ: 974 Ϗ: 975 ϐ: 976 ϑ: 977 ϒ: 978 ϓ: 979 ϔ: 980 ϕ: 981 ϖ: 982 ϗ: 983 Ϙ: 984 ϙ: 985 Ϛ: 986 ϛ: 987 Ϝ: 988 ϝ: 989 Ϟ: 990 ϟ: 991 Ϡ: 992 ϡ: 993 Ϣ: 994 ϣ: 995 Ϥ: 996 ϥ: 997 Ϧ: 998 ϧ: 999 "
     ]
    }
   ],
   "source": [
    "for i in range(500, 1000):\n",
    "    print(f\"{chr(i)}: {i}\", end=' ')"
   ]
  },
  {
   "cell_type": "code",
   "execution_count": 106,
   "id": "6cac0f48-a5d8-4f03-9d2a-524140db04c8",
   "metadata": {},
   "outputs": [
    {
     "name": "stdout",
     "output_type": "stream",
     "text": [
      "Ϩ: 1000 ϩ: 1001 Ϫ: 1002 ϫ: 1003 Ϭ: 1004 ϭ: 1005 Ϯ: 1006 ϯ: 1007 ϰ: 1008 ϱ: 1009 ϲ: 1010 ϳ: 1011 ϴ: 1012 ϵ: 1013 ϶: 1014 Ϸ: 1015 ϸ: 1016 Ϲ: 1017 Ϻ: 1018 ϻ: 1019 ϼ: 1020 Ͻ: 1021 Ͼ: 1022 Ͽ: 1023 Ѐ: 1024 Ё: 1025 Ђ: 1026 Ѓ: 1027 Є: 1028 Ѕ: 1029 І: 1030 Ї: 1031 Ј: 1032 Љ: 1033 Њ: 1034 Ћ: 1035 Ќ: 1036 Ѝ: 1037 Ў: 1038 Џ: 1039 А: 1040 Б: 1041 В: 1042 Г: 1043 Д: 1044 Е: 1045 Ж: 1046 З: 1047 И: 1048 Й: 1049 К: 1050 Л: 1051 М: 1052 Н: 1053 О: 1054 П: 1055 Р: 1056 С: 1057 Т: 1058 У: 1059 Ф: 1060 Х: 1061 Ц: 1062 Ч: 1063 Ш: 1064 Щ: 1065 Ъ: 1066 Ы: 1067 Ь: 1068 Э: 1069 Ю: 1070 Я: 1071 а: 1072 б: 1073 в: 1074 г: 1075 д: 1076 е: 1077 ж: 1078 з: 1079 и: 1080 й: 1081 к: 1082 л: 1083 м: 1084 н: 1085 о: 1086 п: 1087 р: 1088 с: 1089 т: 1090 у: 1091 ф: 1092 х: 1093 ц: 1094 ч: 1095 ш: 1096 щ: 1097 ъ: 1098 ы: 1099 ь: 1100 э: 1101 ю: 1102 я: 1103 ѐ: 1104 ё: 1105 ђ: 1106 ѓ: 1107 є: 1108 ѕ: 1109 і: 1110 ї: 1111 ј: 1112 љ: 1113 њ: 1114 ћ: 1115 ќ: 1116 ѝ: 1117 ў: 1118 џ: 1119 Ѡ: 1120 ѡ: 1121 Ѣ: 1122 ѣ: 1123 Ѥ: 1124 ѥ: 1125 Ѧ: 1126 ѧ: 1127 Ѩ: 1128 ѩ: 1129 Ѫ: 1130 ѫ: 1131 Ѭ: 1132 ѭ: 1133 Ѯ: 1134 ѯ: 1135 Ѱ: 1136 ѱ: 1137 Ѳ: 1138 ѳ: 1139 Ѵ: 1140 ѵ: 1141 Ѷ: 1142 ѷ: 1143 Ѹ: 1144 ѹ: 1145 Ѻ: 1146 ѻ: 1147 Ѽ: 1148 ѽ: 1149 Ѿ: 1150 ѿ: 1151 Ҁ: 1152 ҁ: 1153 ҂: 1154 ҃: 1155 ҄: 1156 ҅: 1157 ҆: 1158 ҇: 1159 ҈: 1160 ҉: 1161 Ҋ: 1162 ҋ: 1163 Ҍ: 1164 ҍ: 1165 Ҏ: 1166 ҏ: 1167 Ґ: 1168 ґ: 1169 Ғ: 1170 ғ: 1171 Ҕ: 1172 ҕ: 1173 Җ: 1174 җ: 1175 Ҙ: 1176 ҙ: 1177 Қ: 1178 қ: 1179 Ҝ: 1180 ҝ: 1181 Ҟ: 1182 ҟ: 1183 Ҡ: 1184 ҡ: 1185 Ң: 1186 ң: 1187 Ҥ: 1188 ҥ: 1189 Ҧ: 1190 ҧ: 1191 Ҩ: 1192 ҩ: 1193 Ҫ: 1194 ҫ: 1195 Ҭ: 1196 ҭ: 1197 Ү: 1198 ү: 1199 Ұ: 1200 ұ: 1201 Ҳ: 1202 ҳ: 1203 Ҵ: 1204 ҵ: 1205 Ҷ: 1206 ҷ: 1207 Ҹ: 1208 ҹ: 1209 Һ: 1210 һ: 1211 Ҽ: 1212 ҽ: 1213 Ҿ: 1214 ҿ: 1215 Ӏ: 1216 Ӂ: 1217 ӂ: 1218 Ӄ: 1219 ӄ: 1220 Ӆ: 1221 ӆ: 1222 Ӈ: 1223 ӈ: 1224 Ӊ: 1225 ӊ: 1226 Ӌ: 1227 ӌ: 1228 Ӎ: 1229 ӎ: 1230 ӏ: 1231 Ӑ: 1232 ӑ: 1233 Ӓ: 1234 ӓ: 1235 Ӕ: 1236 ӕ: 1237 Ӗ: 1238 ӗ: 1239 Ә: 1240 ә: 1241 Ӛ: 1242 ӛ: 1243 Ӝ: 1244 ӝ: 1245 Ӟ: 1246 ӟ: 1247 Ӡ: 1248 ӡ: 1249 Ӣ: 1250 ӣ: 1251 Ӥ: 1252 ӥ: 1253 Ӧ: 1254 ӧ: 1255 Ө: 1256 ө: 1257 Ӫ: 1258 ӫ: 1259 Ӭ: 1260 ӭ: 1261 Ӯ: 1262 ӯ: 1263 Ӱ: 1264 ӱ: 1265 Ӳ: 1266 ӳ: 1267 Ӵ: 1268 ӵ: 1269 Ӷ: 1270 ӷ: 1271 Ӹ: 1272 ӹ: 1273 Ӻ: 1274 ӻ: 1275 Ӽ: 1276 ӽ: 1277 Ӿ: 1278 ӿ: 1279 Ԁ: 1280 ԁ: 1281 Ԃ: 1282 ԃ: 1283 Ԅ: 1284 ԅ: 1285 Ԇ: 1286 ԇ: 1287 Ԉ: 1288 ԉ: 1289 Ԋ: 1290 ԋ: 1291 Ԍ: 1292 ԍ: 1293 Ԏ: 1294 ԏ: 1295 Ԑ: 1296 ԑ: 1297 Ԓ: 1298 ԓ: 1299 Ԕ: 1300 ԕ: 1301 Ԗ: 1302 ԗ: 1303 Ԙ: 1304 ԙ: 1305 Ԛ: 1306 ԛ: 1307 Ԝ: 1308 ԝ: 1309 Ԟ: 1310 ԟ: 1311 Ԡ: 1312 ԡ: 1313 Ԣ: 1314 ԣ: 1315 Ԥ: 1316 ԥ: 1317 Ԧ: 1318 ԧ: 1319 Ԩ: 1320 ԩ: 1321 Ԫ: 1322 ԫ: 1323 Ԭ: 1324 ԭ: 1325 Ԯ: 1326 ԯ: 1327 ԰: 1328 Ա: 1329 Բ: 1330 Գ: 1331 Դ: 1332 Ե: 1333 Զ: 1334 Է: 1335 Ը: 1336 Թ: 1337 Ժ: 1338 Ի: 1339 Լ: 1340 Խ: 1341 Ծ: 1342 Կ: 1343 Հ: 1344 Ձ: 1345 Ղ: 1346 Ճ: 1347 Մ: 1348 Յ: 1349 Ն: 1350 Շ: 1351 Ո: 1352 Չ: 1353 Պ: 1354 Ջ: 1355 Ռ: 1356 Ս: 1357 Վ: 1358 Տ: 1359 Ր: 1360 Ց: 1361 Ւ: 1362 Փ: 1363 Ք: 1364 Օ: 1365 Ֆ: 1366 ՗: 1367 ՘: 1368 ՙ: 1369 ՚: 1370 ՛: 1371 ՜: 1372 ՝: 1373 ՞: 1374 ՟: 1375 ՠ: 1376 ա: 1377 բ: 1378 գ: 1379 դ: 1380 ե: 1381 զ: 1382 է: 1383 ը: 1384 թ: 1385 ժ: 1386 ի: 1387 լ: 1388 խ: 1389 ծ: 1390 կ: 1391 հ: 1392 ձ: 1393 ղ: 1394 ճ: 1395 մ: 1396 յ: 1397 ն: 1398 շ: 1399 ո: 1400 չ: 1401 պ: 1402 ջ: 1403 ռ: 1404 ս: 1405 վ: 1406 տ: 1407 ր: 1408 ց: 1409 ւ: 1410 փ: 1411 ք: 1412 օ: 1413 ֆ: 1414 և: 1415 ֈ: 1416 ։: 1417 ֊: 1418 ֋: 1419 ֌: 1420 ֍: 1421 ֎: 1422 ֏: 1423 ֐: 1424 ֑: 1425 ֒: 1426 ֓: 1427 ֔: 1428 ֕: 1429 ֖: 1430 ֗: 1431 ֘: 1432 ֙: 1433 ֚: 1434 ֛: 1435 ֜: 1436 ֝: 1437 ֞: 1438 ֟: 1439 ֠: 1440 ֡: 1441 ֢: 1442 ֣: 1443 ֤: 1444 ֥: 1445 ֦: 1446 ֧: 1447 ֨: 1448 ֩: 1449 ֪: 1450 ֫: 1451 ֬: 1452 ֭: 1453 ֮: 1454 ֯: 1455 ְ: 1456 ֱ: 1457 ֲ: 1458 ֳ: 1459 ִ: 1460 ֵ: 1461 ֶ: 1462 ַ: 1463 ָ: 1464 ֹ: 1465 ֺ: 1466 ֻ: 1467 ּ: 1468 ֽ: 1469 ־: 1470 ֿ: 1471 ׀: 1472 ׁ: 1473 ׂ: 1474 ׃: 1475 ׄ: 1476 ׅ: 1477 ׆: 1478 ׇ: 1479 ׈: 1480 ׉: 1481 ׊: 1482 ׋: 1483 ׌: 1484 ׍: 1485 ׎: 1486 ׏: 1487 א: 1488 ב: 1489 ג: 1490 ד: 1491 ה: 1492 ו: 1493 ז: 1494 ח: 1495 ט: 1496 י: 1497 ך: 1498 כ: 1499 "
     ]
    }
   ],
   "source": [
    "for i in range(1000, 1500):\n",
    "    print(f\"{chr(i)}: {i}\", end=' ')"
   ]
  },
  {
   "cell_type": "code",
   "execution_count": 108,
   "id": "59f0f0a1-464c-41f2-835a-d41455626765",
   "metadata": {},
   "outputs": [
    {
     "name": "stdout",
     "output_type": "stream",
     "text": [
      "ל: 1500 ם: 1501 מ: 1502 ן: 1503 נ: 1504 ס: 1505 ע: 1506 ף: 1507 פ: 1508 ץ: 1509 צ: 1510 ק: 1511 ר: 1512 ש: 1513 ת: 1514 ׫: 1515 ׬: 1516 ׭: 1517 ׮: 1518 ׯ: 1519 װ: 1520 ױ: 1521 ײ: 1522 ׳: 1523 ״: 1524 ׵: 1525 ׶: 1526 ׷: 1527 ׸: 1528 ׹: 1529 ׺: 1530 ׻: 1531 ׼: 1532 ׽: 1533 ׾: 1534 ׿: 1535 ؀: 1536 ؁: 1537 ؂: 1538 ؃: 1539 ؄: 1540 ؅: 1541 ؆: 1542 ؇: 1543 ؈: 1544 ؉: 1545 ؊: 1546 ؋: 1547 ،: 1548 ؍: 1549 ؎: 1550 ؏: 1551 ؐ: 1552 ؑ: 1553 ؒ: 1554 ؓ: 1555 ؔ: 1556 ؕ: 1557 ؖ: 1558 ؗ: 1559 ؘ: 1560 ؙ: 1561 ؚ: 1562 ؛: 1563 ؜: 1564 ؝: 1565 ؞: 1566 ؟: 1567 ؠ: 1568 ء: 1569 آ: 1570 أ: 1571 ؤ: 1572 إ: 1573 ئ: 1574 ا: 1575 ب: 1576 ة: 1577 ت: 1578 ث: 1579 ج: 1580 ح: 1581 خ: 1582 د: 1583 ذ: 1584 ر: 1585 ز: 1586 س: 1587 ش: 1588 ص: 1589 ض: 1590 ط: 1591 ظ: 1592 ع: 1593 غ: 1594 ػ: 1595 ؼ: 1596 ؽ: 1597 ؾ: 1598 ؿ: 1599 ـ: 1600 ف: 1601 ق: 1602 ك: 1603 ل: 1604 م: 1605 ن: 1606 ه: 1607 و: 1608 ى: 1609 ي: 1610 ً: 1611 ٌ: 1612 ٍ: 1613 َ: 1614 ُ: 1615 ِ: 1616 ّ: 1617 ْ: 1618 ٓ: 1619 ٔ: 1620 ٕ: 1621 ٖ: 1622 ٗ: 1623 ٘: 1624 ٙ: 1625 ٚ: 1626 ٛ: 1627 ٜ: 1628 ٝ: 1629 ٞ: 1630 ٟ: 1631 ٠: 1632 ١: 1633 ٢: 1634 ٣: 1635 ٤: 1636 ٥: 1637 ٦: 1638 ٧: 1639 ٨: 1640 ٩: 1641 ٪: 1642 ٫: 1643 ٬: 1644 ٭: 1645 ٮ: 1646 ٯ: 1647 ٰ: 1648 ٱ: 1649 ٲ: 1650 ٳ: 1651 ٴ: 1652 ٵ: 1653 ٶ: 1654 ٷ: 1655 ٸ: 1656 ٹ: 1657 ٺ: 1658 ٻ: 1659 ټ: 1660 ٽ: 1661 پ: 1662 ٿ: 1663 ڀ: 1664 ځ: 1665 ڂ: 1666 ڃ: 1667 ڄ: 1668 څ: 1669 چ: 1670 ڇ: 1671 ڈ: 1672 ډ: 1673 ڊ: 1674 ڋ: 1675 ڌ: 1676 ڍ: 1677 ڎ: 1678 ڏ: 1679 ڐ: 1680 ڑ: 1681 ڒ: 1682 ړ: 1683 ڔ: 1684 ڕ: 1685 ږ: 1686 ڗ: 1687 ژ: 1688 ڙ: 1689 ښ: 1690 ڛ: 1691 ڜ: 1692 ڝ: 1693 ڞ: 1694 ڟ: 1695 ڠ: 1696 ڡ: 1697 ڢ: 1698 ڣ: 1699 ڤ: 1700 ڥ: 1701 ڦ: 1702 ڧ: 1703 ڨ: 1704 ک: 1705 ڪ: 1706 ګ: 1707 ڬ: 1708 ڭ: 1709 ڮ: 1710 گ: 1711 ڰ: 1712 ڱ: 1713 ڲ: 1714 ڳ: 1715 ڴ: 1716 ڵ: 1717 ڶ: 1718 ڷ: 1719 ڸ: 1720 ڹ: 1721 ں: 1722 ڻ: 1723 ڼ: 1724 ڽ: 1725 ھ: 1726 ڿ: 1727 ۀ: 1728 ہ: 1729 ۂ: 1730 ۃ: 1731 ۄ: 1732 ۅ: 1733 ۆ: 1734 ۇ: 1735 ۈ: 1736 ۉ: 1737 ۊ: 1738 ۋ: 1739 ی: 1740 ۍ: 1741 ێ: 1742 ۏ: 1743 ې: 1744 ۑ: 1745 ے: 1746 ۓ: 1747 ۔: 1748 ە: 1749 ۖ: 1750 ۗ: 1751 ۘ: 1752 ۙ: 1753 ۚ: 1754 ۛ: 1755 ۜ: 1756 ۝: 1757 ۞: 1758 ۟: 1759 ۠: 1760 ۡ: 1761 ۢ: 1762 ۣ: 1763 ۤ: 1764 ۥ: 1765 ۦ: 1766 ۧ: 1767 ۨ: 1768 ۩: 1769 ۪: 1770 ۫: 1771 ۬: 1772 ۭ: 1773 ۮ: 1774 ۯ: 1775 ۰: 1776 ۱: 1777 ۲: 1778 ۳: 1779 ۴: 1780 ۵: 1781 ۶: 1782 ۷: 1783 ۸: 1784 ۹: 1785 ۺ: 1786 ۻ: 1787 ۼ: 1788 ۽: 1789 ۾: 1790 ۿ: 1791 ܀: 1792 ܁: 1793 ܂: 1794 ܃: 1795 ܄: 1796 ܅: 1797 ܆: 1798 ܇: 1799 ܈: 1800 ܉: 1801 ܊: 1802 ܋: 1803 ܌: 1804 ܍: 1805 ܎: 1806 ܏: 1807 ܐ: 1808 ܑ: 1809 ܒ: 1810 ܓ: 1811 ܔ: 1812 ܕ: 1813 ܖ: 1814 ܗ: 1815 ܘ: 1816 ܙ: 1817 ܚ: 1818 ܛ: 1819 ܜ: 1820 ܝ: 1821 ܞ: 1822 ܟ: 1823 ܠ: 1824 ܡ: 1825 ܢ: 1826 ܣ: 1827 ܤ: 1828 ܥ: 1829 ܦ: 1830 ܧ: 1831 ܨ: 1832 ܩ: 1833 ܪ: 1834 ܫ: 1835 ܬ: 1836 ܭ: 1837 ܮ: 1838 ܯ: 1839 ܰ: 1840 ܱ: 1841 ܲ: 1842 ܳ: 1843 ܴ: 1844 ܵ: 1845 ܶ: 1846 ܷ: 1847 ܸ: 1848 ܹ: 1849 ܺ: 1850 ܻ: 1851 ܼ: 1852 ܽ: 1853 ܾ: 1854 ܿ: 1855 ݀: 1856 ݁: 1857 ݂: 1858 ݃: 1859 ݄: 1860 ݅: 1861 ݆: 1862 ݇: 1863 ݈: 1864 ݉: 1865 ݊: 1866 ݋: 1867 ݌: 1868 ݍ: 1869 ݎ: 1870 ݏ: 1871 ݐ: 1872 ݑ: 1873 ݒ: 1874 ݓ: 1875 ݔ: 1876 ݕ: 1877 ݖ: 1878 ݗ: 1879 ݘ: 1880 ݙ: 1881 ݚ: 1882 ݛ: 1883 ݜ: 1884 ݝ: 1885 ݞ: 1886 ݟ: 1887 ݠ: 1888 ݡ: 1889 ݢ: 1890 ݣ: 1891 ݤ: 1892 ݥ: 1893 ݦ: 1894 ݧ: 1895 ݨ: 1896 ݩ: 1897 ݪ: 1898 ݫ: 1899 ݬ: 1900 ݭ: 1901 ݮ: 1902 ݯ: 1903 ݰ: 1904 ݱ: 1905 ݲ: 1906 ݳ: 1907 ݴ: 1908 ݵ: 1909 ݶ: 1910 ݷ: 1911 ݸ: 1912 ݹ: 1913 ݺ: 1914 ݻ: 1915 ݼ: 1916 ݽ: 1917 ݾ: 1918 ݿ: 1919 ހ: 1920 ށ: 1921 ނ: 1922 ރ: 1923 ބ: 1924 ޅ: 1925 ކ: 1926 އ: 1927 ވ: 1928 މ: 1929 ފ: 1930 ދ: 1931 ތ: 1932 ލ: 1933 ގ: 1934 ޏ: 1935 ސ: 1936 ޑ: 1937 ޒ: 1938 ޓ: 1939 ޔ: 1940 ޕ: 1941 ޖ: 1942 ޗ: 1943 ޘ: 1944 ޙ: 1945 ޚ: 1946 ޛ: 1947 ޜ: 1948 ޝ: 1949 ޞ: 1950 ޟ: 1951 ޠ: 1952 ޡ: 1953 ޢ: 1954 ޣ: 1955 ޤ: 1956 ޥ: 1957 ަ: 1958 ާ: 1959 ި: 1960 ީ: 1961 ު: 1962 ޫ: 1963 ެ: 1964 ޭ: 1965 ޮ: 1966 ޯ: 1967 ް: 1968 ޱ: 1969 ޲: 1970 ޳: 1971 ޴: 1972 ޵: 1973 ޶: 1974 ޷: 1975 ޸: 1976 ޹: 1977 ޺: 1978 ޻: 1979 ޼: 1980 ޽: 1981 ޾: 1982 ޿: 1983 ߀: 1984 ߁: 1985 ߂: 1986 ߃: 1987 ߄: 1988 ߅: 1989 ߆: 1990 ߇: 1991 ߈: 1992 ߉: 1993 ߊ: 1994 ߋ: 1995 ߌ: 1996 ߍ: 1997 ߎ: 1998 ߏ: 1999 "
     ]
    }
   ],
   "source": [
    "for i in range(1500, 2000):\n",
    "    print(f\"{chr(i)}: {i}\", end=' ')"
   ]
  },
  {
   "cell_type": "code",
   "execution_count": 110,
   "id": "9ade4b53-8132-4620-b675-2519f5956ef5",
   "metadata": {},
   "outputs": [
    {
     "name": "stdout",
     "output_type": "stream",
     "text": [
      "ߐ: 2000 ߑ: 2001 ߒ: 2002 ߓ: 2003 ߔ: 2004 ߕ: 2005 ߖ: 2006 ߗ: 2007 ߘ: 2008 ߙ: 2009 ߚ: 2010 ߛ: 2011 ߜ: 2012 ߝ: 2013 ߞ: 2014 ߟ: 2015 ߠ: 2016 ߡ: 2017 ߢ: 2018 ߣ: 2019 ߤ: 2020 ߥ: 2021 ߦ: 2022 ߧ: 2023 ߨ: 2024 ߩ: 2025 ߪ: 2026 ߫: 2027 ߬: 2028 ߭: 2029 ߮: 2030 ߯: 2031 ߰: 2032 ߱: 2033 ߲: 2034 ߳: 2035 ߴ: 2036 ߵ: 2037 ߶: 2038 ߷: 2039 ߸: 2040 ߹: 2041 ߺ: 2042 ߻: 2043 ߼: 2044 ߽: 2045 ߾: 2046 ߿: 2047 ࠀ: 2048 ࠁ: 2049 ࠂ: 2050 ࠃ: 2051 ࠄ: 2052 ࠅ: 2053 ࠆ: 2054 ࠇ: 2055 ࠈ: 2056 ࠉ: 2057 ࠊ: 2058 ࠋ: 2059 ࠌ: 2060 ࠍ: 2061 ࠎ: 2062 ࠏ: 2063 ࠐ: 2064 ࠑ: 2065 ࠒ: 2066 ࠓ: 2067 ࠔ: 2068 ࠕ: 2069 ࠖ: 2070 ࠗ: 2071 ࠘: 2072 ࠙: 2073 ࠚ: 2074 ࠛ: 2075 ࠜ: 2076 ࠝ: 2077 ࠞ: 2078 ࠟ: 2079 ࠠ: 2080 ࠡ: 2081 ࠢ: 2082 ࠣ: 2083 ࠤ: 2084 ࠥ: 2085 ࠦ: 2086 ࠧ: 2087 ࠨ: 2088 ࠩ: 2089 ࠪ: 2090 ࠫ: 2091 ࠬ: 2092 ࠭: 2093 ࠮: 2094 ࠯: 2095 ࠰: 2096 ࠱: 2097 ࠲: 2098 ࠳: 2099 ࠴: 2100 ࠵: 2101 ࠶: 2102 ࠷: 2103 ࠸: 2104 ࠹: 2105 ࠺: 2106 ࠻: 2107 ࠼: 2108 ࠽: 2109 ࠾: 2110 ࠿: 2111 ࡀ: 2112 ࡁ: 2113 ࡂ: 2114 ࡃ: 2115 ࡄ: 2116 ࡅ: 2117 ࡆ: 2118 ࡇ: 2119 ࡈ: 2120 ࡉ: 2121 ࡊ: 2122 ࡋ: 2123 ࡌ: 2124 ࡍ: 2125 ࡎ: 2126 ࡏ: 2127 ࡐ: 2128 ࡑ: 2129 ࡒ: 2130 ࡓ: 2131 ࡔ: 2132 ࡕ: 2133 ࡖ: 2134 ࡗ: 2135 ࡘ: 2136 ࡙: 2137 ࡚: 2138 ࡛: 2139 ࡜: 2140 ࡝: 2141 ࡞: 2142 ࡟: 2143 ࡠ: 2144 ࡡ: 2145 ࡢ: 2146 ࡣ: 2147 ࡤ: 2148 ࡥ: 2149 ࡦ: 2150 ࡧ: 2151 ࡨ: 2152 ࡩ: 2153 ࡪ: 2154 ࡫: 2155 ࡬: 2156 ࡭: 2157 ࡮: 2158 ࡯: 2159 ࡰ: 2160 ࡱ: 2161 ࡲ: 2162 ࡳ: 2163 ࡴ: 2164 ࡵ: 2165 ࡶ: 2166 ࡷ: 2167 ࡸ: 2168 ࡹ: 2169 ࡺ: 2170 ࡻ: 2171 ࡼ: 2172 ࡽ: 2173 ࡾ: 2174 ࡿ: 2175 ࢀ: 2176 ࢁ: 2177 ࢂ: 2178 ࢃ: 2179 ࢄ: 2180 ࢅ: 2181 ࢆ: 2182 ࢇ: 2183 ࢈: 2184 ࢉ: 2185 ࢊ: 2186 ࢋ: 2187 ࢌ: 2188 ࢍ: 2189 ࢎ: 2190 ࢏: 2191 ࢐: 2192 ࢑: 2193 ࢒: 2194 ࢓: 2195 ࢔: 2196 ࢕: 2197 ࢖: 2198 ࢗ: 2199 ࢘: 2200 ࢙: 2201 ࢚: 2202 ࢛: 2203 ࢜: 2204 ࢝: 2205 ࢞: 2206 ࢟: 2207 ࢠ: 2208 ࢡ: 2209 ࢢ: 2210 ࢣ: 2211 ࢤ: 2212 ࢥ: 2213 ࢦ: 2214 ࢧ: 2215 ࢨ: 2216 ࢩ: 2217 ࢪ: 2218 ࢫ: 2219 ࢬ: 2220 ࢭ: 2221 ࢮ: 2222 ࢯ: 2223 ࢰ: 2224 ࢱ: 2225 ࢲ: 2226 ࢳ: 2227 ࢴ: 2228 ࢵ: 2229 ࢶ: 2230 ࢷ: 2231 ࢸ: 2232 ࢹ: 2233 ࢺ: 2234 ࢻ: 2235 ࢼ: 2236 ࢽ: 2237 ࢾ: 2238 ࢿ: 2239 ࣀ: 2240 ࣁ: 2241 ࣂ: 2242 ࣃ: 2243 ࣄ: 2244 ࣅ: 2245 ࣆ: 2246 ࣇ: 2247 ࣈ: 2248 ࣉ: 2249 ࣊: 2250 ࣋: 2251 ࣌: 2252 ࣍: 2253 ࣎: 2254 ࣏: 2255 ࣐: 2256 ࣑: 2257 ࣒: 2258 ࣓: 2259 ࣔ: 2260 ࣕ: 2261 ࣖ: 2262 ࣗ: 2263 ࣘ: 2264 ࣙ: 2265 ࣚ: 2266 ࣛ: 2267 ࣜ: 2268 ࣝ: 2269 ࣞ: 2270 ࣟ: 2271 ࣠: 2272 ࣡: 2273 ࣢: 2274 ࣣ: 2275 ࣤ: 2276 ࣥ: 2277 ࣦ: 2278 ࣧ: 2279 ࣨ: 2280 ࣩ: 2281 ࣪: 2282 ࣫: 2283 ࣬: 2284 ࣭: 2285 ࣮: 2286 ࣯: 2287 ࣰ: 2288 ࣱ: 2289 ࣲ: 2290 ࣳ: 2291 ࣴ: 2292 ࣵ: 2293 ࣶ: 2294 ࣷ: 2295 ࣸ: 2296 ࣹ: 2297 ࣺ: 2298 ࣻ: 2299 ࣼ: 2300 ࣽ: 2301 ࣾ: 2302 ࣿ: 2303 ऀ: 2304 ँ: 2305 ं: 2306 ः: 2307 ऄ: 2308 अ: 2309 आ: 2310 इ: 2311 ई: 2312 उ: 2313 ऊ: 2314 ऋ: 2315 ऌ: 2316 ऍ: 2317 ऎ: 2318 ए: 2319 ऐ: 2320 ऑ: 2321 ऒ: 2322 ओ: 2323 औ: 2324 क: 2325 ख: 2326 ग: 2327 घ: 2328 ङ: 2329 च: 2330 छ: 2331 ज: 2332 झ: 2333 ञ: 2334 ट: 2335 ठ: 2336 ड: 2337 ढ: 2338 ण: 2339 त: 2340 थ: 2341 द: 2342 ध: 2343 न: 2344 ऩ: 2345 प: 2346 फ: 2347 ब: 2348 भ: 2349 म: 2350 य: 2351 र: 2352 ऱ: 2353 ल: 2354 ळ: 2355 ऴ: 2356 व: 2357 श: 2358 ष: 2359 स: 2360 ह: 2361 ऺ: 2362 ऻ: 2363 ़: 2364 ऽ: 2365 ा: 2366 ि: 2367 ी: 2368 ु: 2369 ू: 2370 ृ: 2371 ॄ: 2372 ॅ: 2373 ॆ: 2374 े: 2375 ै: 2376 ॉ: 2377 ॊ: 2378 ो: 2379 ौ: 2380 ्: 2381 ॎ: 2382 ॏ: 2383 ॐ: 2384 ॑: 2385 ॒: 2386 ॓: 2387 ॔: 2388 ॕ: 2389 ॖ: 2390 ॗ: 2391 क़: 2392 ख़: 2393 ग़: 2394 ज़: 2395 ड़: 2396 ढ़: 2397 फ़: 2398 य़: 2399 ॠ: 2400 ॡ: 2401 ॢ: 2402 ॣ: 2403 ।: 2404 ॥: 2405 ०: 2406 १: 2407 २: 2408 ३: 2409 ४: 2410 ५: 2411 ६: 2412 ७: 2413 ८: 2414 ९: 2415 ॰: 2416 ॱ: 2417 ॲ: 2418 ॳ: 2419 ॴ: 2420 ॵ: 2421 ॶ: 2422 ॷ: 2423 ॸ: 2424 ॹ: 2425 ॺ: 2426 ॻ: 2427 ॼ: 2428 ॽ: 2429 ॾ: 2430 ॿ: 2431 ঀ: 2432 ঁ: 2433 ং: 2434 ঃ: 2435 ঄: 2436 অ: 2437 আ: 2438 ই: 2439 ঈ: 2440 উ: 2441 ঊ: 2442 ঋ: 2443 ঌ: 2444 ঍: 2445 ঎: 2446 এ: 2447 ঐ: 2448 ঑: 2449 ঒: 2450 ও: 2451 ঔ: 2452 ক: 2453 খ: 2454 গ: 2455 ঘ: 2456 ঙ: 2457 চ: 2458 ছ: 2459 জ: 2460 ঝ: 2461 ঞ: 2462 ট: 2463 ঠ: 2464 ড: 2465 ঢ: 2466 ণ: 2467 ত: 2468 থ: 2469 দ: 2470 ধ: 2471 ন: 2472 ঩: 2473 প: 2474 ফ: 2475 ব: 2476 ভ: 2477 ম: 2478 য: 2479 র: 2480 ঱: 2481 ল: 2482 ঳: 2483 ঴: 2484 ঵: 2485 শ: 2486 ষ: 2487 স: 2488 হ: 2489 ঺: 2490 ঻: 2491 ়: 2492 ঽ: 2493 া: 2494 ি: 2495 ী: 2496 ু: 2497 ূ: 2498 ৃ: 2499 "
     ]
    }
   ],
   "source": [
    "for i in range(2000, 2500):\n",
    "    print(f\"{chr(i)}: {i}\", end=' ')"
   ]
  },
  {
   "cell_type": "code",
   "execution_count": 112,
   "id": "1b0ca60d-ebf8-4a21-9d7b-6bd99599ff5e",
   "metadata": {},
   "outputs": [
    {
     "name": "stdout",
     "output_type": "stream",
     "text": [
      "ৄ: 2500 ৅: 2501 ৆: 2502 ে: 2503 ৈ: 2504 ৉: 2505 ৊: 2506 ো: 2507 ৌ: 2508 ্: 2509 ৎ: 2510 ৏: 2511 ৐: 2512 ৑: 2513 ৒: 2514 ৓: 2515 ৔: 2516 ৕: 2517 ৖: 2518 ৗ: 2519 ৘: 2520 ৙: 2521 ৚: 2522 ৛: 2523 ড়: 2524 ঢ়: 2525 ৞: 2526 য়: 2527 ৠ: 2528 ৡ: 2529 ৢ: 2530 ৣ: 2531 ৤: 2532 ৥: 2533 ০: 2534 ১: 2535 ২: 2536 ৩: 2537 ৪: 2538 ৫: 2539 ৬: 2540 ৭: 2541 ৮: 2542 ৯: 2543 ৰ: 2544 ৱ: 2545 ৲: 2546 ৳: 2547 ৴: 2548 ৵: 2549 ৶: 2550 ৷: 2551 ৸: 2552 ৹: 2553 ৺: 2554 ৻: 2555 ৼ: 2556 ৽: 2557 ৾: 2558 ৿: 2559 ਀: 2560 ਁ: 2561 ਂ: 2562 ਃ: 2563 ਄: 2564 ਅ: 2565 ਆ: 2566 ਇ: 2567 ਈ: 2568 ਉ: 2569 ਊ: 2570 ਋: 2571 ਌: 2572 ਍: 2573 ਎: 2574 ਏ: 2575 ਐ: 2576 ਑: 2577 ਒: 2578 ਓ: 2579 ਔ: 2580 ਕ: 2581 ਖ: 2582 ਗ: 2583 ਘ: 2584 ਙ: 2585 ਚ: 2586 ਛ: 2587 ਜ: 2588 ਝ: 2589 ਞ: 2590 ਟ: 2591 ਠ: 2592 ਡ: 2593 ਢ: 2594 ਣ: 2595 ਤ: 2596 ਥ: 2597 ਦ: 2598 ਧ: 2599 ਨ: 2600 ਩: 2601 ਪ: 2602 ਫ: 2603 ਬ: 2604 ਭ: 2605 ਮ: 2606 ਯ: 2607 ਰ: 2608 ਱: 2609 ਲ: 2610 ਲ਼: 2611 ਴: 2612 ਵ: 2613 ਸ਼: 2614 ਷: 2615 ਸ: 2616 ਹ: 2617 ਺: 2618 ਻: 2619 ਼: 2620 ਽: 2621 ਾ: 2622 ਿ: 2623 ੀ: 2624 ੁ: 2625 ੂ: 2626 ੃: 2627 ੄: 2628 ੅: 2629 ੆: 2630 ੇ: 2631 ੈ: 2632 ੉: 2633 ੊: 2634 ੋ: 2635 ੌ: 2636 ੍: 2637 ੎: 2638 ੏: 2639 ੐: 2640 ੑ: 2641 ੒: 2642 ੓: 2643 ੔: 2644 ੕: 2645 ੖: 2646 ੗: 2647 ੘: 2648 ਖ਼: 2649 ਗ਼: 2650 ਜ਼: 2651 ੜ: 2652 ੝: 2653 ਫ਼: 2654 ੟: 2655 ੠: 2656 ੡: 2657 ੢: 2658 ੣: 2659 ੤: 2660 ੥: 2661 ੦: 2662 ੧: 2663 ੨: 2664 ੩: 2665 ੪: 2666 ੫: 2667 ੬: 2668 ੭: 2669 ੮: 2670 ੯: 2671 ੰ: 2672 ੱ: 2673 ੲ: 2674 ੳ: 2675 ੴ: 2676 ੵ: 2677 ੶: 2678 ੷: 2679 ੸: 2680 ੹: 2681 ੺: 2682 ੻: 2683 ੼: 2684 ੽: 2685 ੾: 2686 ੿: 2687 ઀: 2688 ઁ: 2689 ં: 2690 ઃ: 2691 ઄: 2692 અ: 2693 આ: 2694 ઇ: 2695 ઈ: 2696 ઉ: 2697 ઊ: 2698 ઋ: 2699 ઌ: 2700 ઍ: 2701 ઎: 2702 એ: 2703 ઐ: 2704 ઑ: 2705 ઒: 2706 ઓ: 2707 ઔ: 2708 ક: 2709 ખ: 2710 ગ: 2711 ઘ: 2712 ઙ: 2713 ચ: 2714 છ: 2715 જ: 2716 ઝ: 2717 ઞ: 2718 ટ: 2719 ઠ: 2720 ડ: 2721 ઢ: 2722 ણ: 2723 ત: 2724 થ: 2725 દ: 2726 ધ: 2727 ન: 2728 ઩: 2729 પ: 2730 ફ: 2731 બ: 2732 ભ: 2733 મ: 2734 ય: 2735 ર: 2736 ઱: 2737 લ: 2738 ળ: 2739 ઴: 2740 વ: 2741 શ: 2742 ષ: 2743 સ: 2744 હ: 2745 ઺: 2746 ઻: 2747 ઼: 2748 ઽ: 2749 ા: 2750 િ: 2751 ી: 2752 ુ: 2753 ૂ: 2754 ૃ: 2755 ૄ: 2756 ૅ: 2757 ૆: 2758 ે: 2759 ૈ: 2760 ૉ: 2761 ૊: 2762 ો: 2763 ૌ: 2764 ્: 2765 ૎: 2766 ૏: 2767 ૐ: 2768 ૑: 2769 ૒: 2770 ૓: 2771 ૔: 2772 ૕: 2773 ૖: 2774 ૗: 2775 ૘: 2776 ૙: 2777 ૚: 2778 ૛: 2779 ૜: 2780 ૝: 2781 ૞: 2782 ૟: 2783 ૠ: 2784 ૡ: 2785 ૢ: 2786 ૣ: 2787 ૤: 2788 ૥: 2789 ૦: 2790 ૧: 2791 ૨: 2792 ૩: 2793 ૪: 2794 ૫: 2795 ૬: 2796 ૭: 2797 ૮: 2798 ૯: 2799 ૰: 2800 ૱: 2801 ૲: 2802 ૳: 2803 ૴: 2804 ૵: 2805 ૶: 2806 ૷: 2807 ૸: 2808 ૹ: 2809 ૺ: 2810 ૻ: 2811 ૼ: 2812 ૽: 2813 ૾: 2814 ૿: 2815 ଀: 2816 ଁ: 2817 ଂ: 2818 ଃ: 2819 ଄: 2820 ଅ: 2821 ଆ: 2822 ଇ: 2823 ଈ: 2824 ଉ: 2825 ଊ: 2826 ଋ: 2827 ଌ: 2828 ଍: 2829 ଎: 2830 ଏ: 2831 ଐ: 2832 ଑: 2833 ଒: 2834 ଓ: 2835 ଔ: 2836 କ: 2837 ଖ: 2838 ଗ: 2839 ଘ: 2840 ଙ: 2841 ଚ: 2842 ଛ: 2843 ଜ: 2844 ଝ: 2845 ଞ: 2846 ଟ: 2847 ଠ: 2848 ଡ: 2849 ଢ: 2850 ଣ: 2851 ତ: 2852 ଥ: 2853 ଦ: 2854 ଧ: 2855 ନ: 2856 ଩: 2857 ପ: 2858 ଫ: 2859 ବ: 2860 ଭ: 2861 ମ: 2862 ଯ: 2863 ର: 2864 ଱: 2865 ଲ: 2866 ଳ: 2867 ଴: 2868 ଵ: 2869 ଶ: 2870 ଷ: 2871 ସ: 2872 ହ: 2873 ଺: 2874 ଻: 2875 ଼: 2876 ଽ: 2877 ା: 2878 ି: 2879 ୀ: 2880 ୁ: 2881 ୂ: 2882 ୃ: 2883 ୄ: 2884 ୅: 2885 ୆: 2886 େ: 2887 ୈ: 2888 ୉: 2889 ୊: 2890 ୋ: 2891 ୌ: 2892 ୍: 2893 ୎: 2894 ୏: 2895 ୐: 2896 ୑: 2897 ୒: 2898 ୓: 2899 ୔: 2900 ୕: 2901 ୖ: 2902 ୗ: 2903 ୘: 2904 ୙: 2905 ୚: 2906 ୛: 2907 ଡ଼: 2908 ଢ଼: 2909 ୞: 2910 ୟ: 2911 ୠ: 2912 ୡ: 2913 ୢ: 2914 ୣ: 2915 ୤: 2916 ୥: 2917 ୦: 2918 ୧: 2919 ୨: 2920 ୩: 2921 ୪: 2922 ୫: 2923 ୬: 2924 ୭: 2925 ୮: 2926 ୯: 2927 ୰: 2928 ୱ: 2929 ୲: 2930 ୳: 2931 ୴: 2932 ୵: 2933 ୶: 2934 ୷: 2935 ୸: 2936 ୹: 2937 ୺: 2938 ୻: 2939 ୼: 2940 ୽: 2941 ୾: 2942 ୿: 2943 ஀: 2944 ஁: 2945 ஂ: 2946 ஃ: 2947 ஄: 2948 அ: 2949 ஆ: 2950 இ: 2951 ஈ: 2952 உ: 2953 ஊ: 2954 ஋: 2955 ஌: 2956 ஍: 2957 எ: 2958 ஏ: 2959 ஐ: 2960 ஑: 2961 ஒ: 2962 ஓ: 2963 ஔ: 2964 க: 2965 ஖: 2966 ஗: 2967 ஘: 2968 ங: 2969 ச: 2970 ஛: 2971 ஜ: 2972 ஝: 2973 ஞ: 2974 ட: 2975 ஠: 2976 ஡: 2977 ஢: 2978 ண: 2979 த: 2980 ஥: 2981 ஦: 2982 ஧: 2983 ந: 2984 ன: 2985 ப: 2986 ஫: 2987 ஬: 2988 ஭: 2989 ம: 2990 ய: 2991 ர: 2992 ற: 2993 ல: 2994 ள: 2995 ழ: 2996 வ: 2997 ஶ: 2998 ஷ: 2999 "
     ]
    }
   ],
   "source": [
    "for i in range(2500, 3000):\n",
    "    print(f\"{chr(i)}: {i}\", end=' ')"
   ]
  },
  {
   "cell_type": "code",
   "execution_count": 114,
   "id": "faf246de-842c-4770-8e76-6dae809b1e33",
   "metadata": {},
   "outputs": [
    {
     "name": "stdout",
     "output_type": "stream",
     "text": [
      "ஸ: 3000 ஹ: 3001 ஺: 3002 ஻: 3003 ஼: 3004 ஽: 3005 ா: 3006 ி: 3007 ீ: 3008 ு: 3009 ூ: 3010 ௃: 3011 ௄: 3012 ௅: 3013 ெ: 3014 ே: 3015 ை: 3016 ௉: 3017 ொ: 3018 ோ: 3019 ௌ: 3020 ்: 3021 ௎: 3022 ௏: 3023 ௐ: 3024 ௑: 3025 ௒: 3026 ௓: 3027 ௔: 3028 ௕: 3029 ௖: 3030 ௗ: 3031 ௘: 3032 ௙: 3033 ௚: 3034 ௛: 3035 ௜: 3036 ௝: 3037 ௞: 3038 ௟: 3039 ௠: 3040 ௡: 3041 ௢: 3042 ௣: 3043 ௤: 3044 ௥: 3045 ௦: 3046 ௧: 3047 ௨: 3048 ௩: 3049 ௪: 3050 ௫: 3051 ௬: 3052 ௭: 3053 ௮: 3054 ௯: 3055 ௰: 3056 ௱: 3057 ௲: 3058 ௳: 3059 ௴: 3060 ௵: 3061 ௶: 3062 ௷: 3063 ௸: 3064 ௹: 3065 ௺: 3066 ௻: 3067 ௼: 3068 ௽: 3069 ௾: 3070 ௿: 3071 ఀ: 3072 ఁ: 3073 ం: 3074 ః: 3075 ఄ: 3076 అ: 3077 ఆ: 3078 ఇ: 3079 ఈ: 3080 ఉ: 3081 ఊ: 3082 ఋ: 3083 ఌ: 3084 ఍: 3085 ఎ: 3086 ఏ: 3087 ఐ: 3088 ఑: 3089 ఒ: 3090 ఓ: 3091 ఔ: 3092 క: 3093 ఖ: 3094 గ: 3095 ఘ: 3096 ఙ: 3097 చ: 3098 ఛ: 3099 జ: 3100 ఝ: 3101 ఞ: 3102 ట: 3103 ఠ: 3104 డ: 3105 ఢ: 3106 ణ: 3107 త: 3108 థ: 3109 ద: 3110 ధ: 3111 న: 3112 ఩: 3113 ప: 3114 ఫ: 3115 బ: 3116 భ: 3117 మ: 3118 య: 3119 ర: 3120 ఱ: 3121 ల: 3122 ళ: 3123 ఴ: 3124 వ: 3125 శ: 3126 ష: 3127 స: 3128 హ: 3129 ఺: 3130 ఻: 3131 ఼: 3132 ఽ: 3133 ా: 3134 ి: 3135 ీ: 3136 ు: 3137 ూ: 3138 ృ: 3139 ౄ: 3140 ౅: 3141 ె: 3142 ే: 3143 ై: 3144 ౉: 3145 ొ: 3146 ో: 3147 ౌ: 3148 ్: 3149 ౎: 3150 ౏: 3151 ౐: 3152 ౑: 3153 ౒: 3154 ౓: 3155 ౔: 3156 ౕ: 3157 ౖ: 3158 ౗: 3159 ౘ: 3160 ౙ: 3161 ౚ: 3162 ౛: 3163 ౜: 3164 ౝ: 3165 ౞: 3166 ౟: 3167 ౠ: 3168 ౡ: 3169 ౢ: 3170 ౣ: 3171 ౤: 3172 ౥: 3173 ౦: 3174 ౧: 3175 ౨: 3176 ౩: 3177 ౪: 3178 ౫: 3179 ౬: 3180 ౭: 3181 ౮: 3182 ౯: 3183 ౰: 3184 ౱: 3185 ౲: 3186 ౳: 3187 ౴: 3188 ౵: 3189 ౶: 3190 ౷: 3191 ౸: 3192 ౹: 3193 ౺: 3194 ౻: 3195 ౼: 3196 ౽: 3197 ౾: 3198 ౿: 3199 ಀ: 3200 ಁ: 3201 ಂ: 3202 ಃ: 3203 ಄: 3204 ಅ: 3205 ಆ: 3206 ಇ: 3207 ಈ: 3208 ಉ: 3209 ಊ: 3210 ಋ: 3211 ಌ: 3212 ಍: 3213 ಎ: 3214 ಏ: 3215 ಐ: 3216 ಑: 3217 ಒ: 3218 ಓ: 3219 ಔ: 3220 ಕ: 3221 ಖ: 3222 ಗ: 3223 ಘ: 3224 ಙ: 3225 ಚ: 3226 ಛ: 3227 ಜ: 3228 ಝ: 3229 ಞ: 3230 ಟ: 3231 ಠ: 3232 ಡ: 3233 ಢ: 3234 ಣ: 3235 ತ: 3236 ಥ: 3237 ದ: 3238 ಧ: 3239 ನ: 3240 ಩: 3241 ಪ: 3242 ಫ: 3243 ಬ: 3244 ಭ: 3245 ಮ: 3246 ಯ: 3247 ರ: 3248 ಱ: 3249 ಲ: 3250 ಳ: 3251 ಴: 3252 ವ: 3253 ಶ: 3254 ಷ: 3255 ಸ: 3256 ಹ: 3257 ಺: 3258 ಻: 3259 ಼: 3260 ಽ: 3261 ಾ: 3262 ಿ: 3263 ೀ: 3264 ು: 3265 ೂ: 3266 ೃ: 3267 ೄ: 3268 ೅: 3269 ೆ: 3270 ೇ: 3271 ೈ: 3272 ೉: 3273 ೊ: 3274 ೋ: 3275 ೌ: 3276 ್: 3277 ೎: 3278 ೏: 3279 ೐: 3280 ೑: 3281 ೒: 3282 ೓: 3283 ೔: 3284 ೕ: 3285 ೖ: 3286 ೗: 3287 ೘: 3288 ೙: 3289 ೚: 3290 ೛: 3291 ೜: 3292 ೝ: 3293 ೞ: 3294 ೟: 3295 ೠ: 3296 ೡ: 3297 ೢ: 3298 ೣ: 3299 ೤: 3300 ೥: 3301 ೦: 3302 ೧: 3303 ೨: 3304 ೩: 3305 ೪: 3306 ೫: 3307 ೬: 3308 ೭: 3309 ೮: 3310 ೯: 3311 ೰: 3312 ೱ: 3313 ೲ: 3314 ೳ: 3315 ೴: 3316 ೵: 3317 ೶: 3318 ೷: 3319 ೸: 3320 ೹: 3321 ೺: 3322 ೻: 3323 ೼: 3324 ೽: 3325 ೾: 3326 ೿: 3327 ഀ: 3328 ഁ: 3329 ം: 3330 ഃ: 3331 ഄ: 3332 അ: 3333 ആ: 3334 ഇ: 3335 ഈ: 3336 ഉ: 3337 ഊ: 3338 ഋ: 3339 ഌ: 3340 ഍: 3341 എ: 3342 ഏ: 3343 ഐ: 3344 ഑: 3345 ഒ: 3346 ഓ: 3347 ഔ: 3348 ക: 3349 ഖ: 3350 ഗ: 3351 ഘ: 3352 ങ: 3353 ച: 3354 ഛ: 3355 ജ: 3356 ഝ: 3357 ഞ: 3358 ട: 3359 ഠ: 3360 ഡ: 3361 ഢ: 3362 ണ: 3363 ത: 3364 ഥ: 3365 ദ: 3366 ധ: 3367 ന: 3368 ഩ: 3369 പ: 3370 ഫ: 3371 ബ: 3372 ഭ: 3373 മ: 3374 യ: 3375 ര: 3376 റ: 3377 ല: 3378 ള: 3379 ഴ: 3380 വ: 3381 ശ: 3382 ഷ: 3383 സ: 3384 ഹ: 3385 ഺ: 3386 ഻: 3387 ഼: 3388 ഽ: 3389 ാ: 3390 ി: 3391 ീ: 3392 ു: 3393 ൂ: 3394 ൃ: 3395 ൄ: 3396 ൅: 3397 െ: 3398 േ: 3399 ൈ: 3400 ൉: 3401 ൊ: 3402 ോ: 3403 ൌ: 3404 ്: 3405 ൎ: 3406 ൏: 3407 ൐: 3408 ൑: 3409 ൒: 3410 ൓: 3411 ൔ: 3412 ൕ: 3413 ൖ: 3414 ൗ: 3415 ൘: 3416 ൙: 3417 ൚: 3418 ൛: 3419 ൜: 3420 ൝: 3421 ൞: 3422 ൟ: 3423 ൠ: 3424 ൡ: 3425 ൢ: 3426 ൣ: 3427 ൤: 3428 ൥: 3429 ൦: 3430 ൧: 3431 ൨: 3432 ൩: 3433 ൪: 3434 ൫: 3435 ൬: 3436 ൭: 3437 ൮: 3438 ൯: 3439 ൰: 3440 ൱: 3441 ൲: 3442 ൳: 3443 ൴: 3444 ൵: 3445 ൶: 3446 ൷: 3447 ൸: 3448 ൹: 3449 ൺ: 3450 ൻ: 3451 ർ: 3452 ൽ: 3453 ൾ: 3454 ൿ: 3455 ඀: 3456 ඁ: 3457 ං: 3458 ඃ: 3459 ඄: 3460 අ: 3461 ආ: 3462 ඇ: 3463 ඈ: 3464 ඉ: 3465 ඊ: 3466 උ: 3467 ඌ: 3468 ඍ: 3469 ඎ: 3470 ඏ: 3471 ඐ: 3472 එ: 3473 ඒ: 3474 ඓ: 3475 ඔ: 3476 ඕ: 3477 ඖ: 3478 ඗: 3479 ඘: 3480 ඙: 3481 ක: 3482 ඛ: 3483 ග: 3484 ඝ: 3485 ඞ: 3486 ඟ: 3487 ච: 3488 ඡ: 3489 ජ: 3490 ඣ: 3491 ඤ: 3492 ඥ: 3493 ඦ: 3494 ට: 3495 ඨ: 3496 ඩ: 3497 ඪ: 3498 ණ: 3499 "
     ]
    }
   ],
   "source": [
    "for i in range(3000, 3500):\n",
    "    print(f\"{chr(i)}: {i}\", end=' ')"
   ]
  },
  {
   "cell_type": "code",
   "execution_count": 116,
   "id": "8a9c6e52-536d-453c-8364-150c184be5ac",
   "metadata": {},
   "outputs": [
    {
     "name": "stdout",
     "output_type": "stream",
     "text": [
      "అ: 3077 ఆ: 3078 ఇ: 3079 ఈ: 3080 ఉ: 3081 ఊ: 3082 ఋ: 3083 ఌ: 3084 ఍: 3085 ఎ: 3086 ఏ: 3087 ఐ: 3088 ఑: 3089 ఒ: 3090 ఓ: 3091 ఔ: 3092 క: 3093 ఖ: 3094 గ: 3095 ఘ: 3096 ఙ: 3097 చ: 3098 ఛ: 3099 జ: 3100 ఝ: 3101 ఞ: 3102 ట: 3103 ఠ: 3104 డ: 3105 ఢ: 3106 ణ: 3107 త: 3108 థ: 3109 ద: 3110 ధ: 3111 న: 3112 ఩: 3113 ప: 3114 ఫ: 3115 బ: 3116 భ: 3117 మ: 3118 య: 3119 ర: 3120 ఱ: 3121 ల: 3122 ళ: 3123 ఴ: 3124 వ: 3125 శ: 3126 ష: 3127 స: 3128 హ: 3129 "
     ]
    }
   ],
   "source": [
    "for i in range(3077, 3130):\n",
    "    print(f\"{chr(i)}: {i}\", end=' ')"
   ]
  },
  {
   "cell_type": "code",
   "execution_count": null,
   "id": "ac10b1a0-cdd5-4cba-9058-17543b806cc8",
   "metadata": {},
   "outputs": [],
   "source": []
  }
 ],
 "metadata": {
  "kernelspec": {
   "display_name": "Python [conda env:base] *",
   "language": "python",
   "name": "conda-base-py"
  },
  "language_info": {
   "codemirror_mode": {
    "name": "ipython",
    "version": 3
   },
   "file_extension": ".py",
   "mimetype": "text/x-python",
   "name": "python",
   "nbconvert_exporter": "python",
   "pygments_lexer": "ipython3",
   "version": "3.12.7"
  }
 },
 "nbformat": 4,
 "nbformat_minor": 5
}
