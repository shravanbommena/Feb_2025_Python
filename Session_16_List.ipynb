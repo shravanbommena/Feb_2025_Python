{
 "cells": [
  {
   "cell_type": "markdown",
   "id": "2ae2744d-8aee-42e1-af40-90e7c61fb1ed",
   "metadata": {},
   "source": [
    "- basic representations\n",
    "- inbuilt functions\n",
    "    - min max len type sum reversed sorted\n",
    "- concatenation\n",
    "- index\n",
    "- in vs range\n",
    "- mutable vs immutable\n",
    "- slice\n",
    "- methods"
   ]
  },
  {
   "cell_type": "markdown",
   "id": "76c105aa-09b8-4ec2-91fa-739a8302cb08",
   "metadata": {},
   "source": [
    "**Basic Representations**"
   ]
  },
  {
   "cell_type": "markdown",
   "id": "55b992f3-f842-499c-a021-0c709fc9626c",
   "metadata": {},
   "source": [
    "- strings will use in quotes\n",
    "- list elements is in square brackets"
   ]
  },
  {
   "cell_type": "code",
   "execution_count": 11,
   "id": "e0e03684-30df-44da-862c-e4eb7d3a7dde",
   "metadata": {},
   "outputs": [
    {
     "data": {
      "text/plain": [
       "[1, 2, 3, 4]"
      ]
     },
     "execution_count": 11,
     "metadata": {},
     "output_type": "execute_result"
    }
   ],
   "source": [
    "list1 = [1,2,3,4]\n",
    "list1"
   ]
  },
  {
   "cell_type": "code",
   "execution_count": 13,
   "id": "f1da7a7f-8373-4998-b24e-38336b22ba13",
   "metadata": {},
   "outputs": [
    {
     "name": "stdout",
     "output_type": "stream",
     "text": [
      "[1, 2, 3, 4]\n"
     ]
    }
   ],
   "source": [
    "print(list1)"
   ]
  },
  {
   "cell_type": "code",
   "execution_count": 17,
   "id": "c08e455b-37f9-4d96-b1f6-bc4c4737ed77",
   "metadata": {},
   "outputs": [
    {
     "data": {
      "text/plain": [
       "list"
      ]
     },
     "execution_count": 17,
     "metadata": {},
     "output_type": "execute_result"
    }
   ],
   "source": [
    "type(list1)\n",
    "# for strings  ==== str\n",
    "# we will say strings ======== but type is str\n",
    "# we will say list ========== type also list"
   ]
  },
  {
   "cell_type": "code",
   "execution_count": 19,
   "id": "0ae3b9e6-4140-430e-974f-4b11665e24cd",
   "metadata": {},
   "outputs": [
    {
     "data": {
      "text/plain": [
       "['A', 'B', 'C']"
      ]
     },
     "execution_count": 19,
     "metadata": {},
     "output_type": "execute_result"
    }
   ],
   "source": [
    "list2 = ['A','B','C']\n",
    "list2"
   ]
  },
  {
   "cell_type": "code",
   "execution_count": 23,
   "id": "2d24bc66-c9a0-460e-b894-2dce9d5ddaf0",
   "metadata": {},
   "outputs": [
    {
     "data": {
      "text/plain": [
       "[1, 2, 3, 'A', 'B', 'C']"
      ]
     },
     "execution_count": 23,
     "metadata": {},
     "output_type": "execute_result"
    }
   ],
   "source": [
    "list3 = [1,2,3,'A','B','C']\n",
    "list3"
   ]
  },
  {
   "cell_type": "code",
   "execution_count": 85,
   "id": "4d8404ff-b338-4cf4-86fb-3de9ea97df80",
   "metadata": {},
   "outputs": [
    {
     "name": "stdout",
     "output_type": "stream",
     "text": [
      "[1, 2, 3, 4]\n",
      "['A', 'B', 'C']\n",
      "[1, 2, 3, 'A', 'B', 'C']\n",
      "[True, 1, 2, 3]\n",
      "[False, 1, 2, 3, 'A', 'B', 'C']\n",
      "[True, 1, 2, 3, 4.2, 5.8, 'A', 'B', 'C']\n",
      "[5, True, 1, 2, 'A', 7.2]\n",
      "['20', 20]\n",
      "['20', 20]\n"
     ]
    }
   ],
   "source": [
    "list1 = [1,2,3,4]\n",
    "print(list1)\n",
    "list2 = ['A','B','C']\n",
    "print(list2)\n",
    "list3 = [1,2,3,'A','B','C']\n",
    "print(list3)\n",
    "list4 = [True,1,2,3]\n",
    "print(list4)\n",
    "list5 = [False,1,2,3,'A','B','C']\n",
    "print(list5)\n",
    "list6 = [True,1,2,3,4.2,5.8,'A','B','C']\n",
    "print(list6)\n",
    "list7 = [0b00101,True,1,2,'A',7.2]\n",
    "print(list7)\n",
    "a = '20'\n",
    "b = 20\n",
    "list8 = [a,b]\n",
    "print(list8)\n",
    "b=30\n",
    "print(list8)\n",
    "list9 = [10,20,30,['Apple','Banana']]\n",
    "list10=[[10]]\n",
    "#heterogeneous = different value\n",
    "#homoegeneous = same values\n",
    "\n",
    "# even underscore will work"
   ]
  },
  {
   "cell_type": "code",
   "execution_count": 105,
   "id": "531e7b79-6c8b-49d0-a445-fb06f822149a",
   "metadata": {},
   "outputs": [
    {
     "name": "stdout",
     "output_type": "stream",
     "text": [
      "2\n",
      "75\n",
      "5\n",
      "<class 'list'>\n",
      "112\n",
      "[2, 5, 10, 20, 75]\n",
      "[75, 20, 10, 5, 2]\n",
      "75,5,2,20,10,"
     ]
    }
   ],
   "source": [
    "list1 = [10,20,2,5,75]\n",
    "list2 = ['Apple','apple','cherry','banana']\n",
    "list3 = [10,20,2,5,75,'Apple','apple','cherry','banana']\n",
    "print(min(list1))    # 2\n",
    "print(max(list1))\n",
    "print(len(list1))\n",
    "print(type(list1))\n",
    "print(sum(list1))\n",
    "print(sorted(list1))\n",
    "print(sorted(list1,reverse=True))\n",
    "a = reversed(list1)\n",
    "for i in a:\n",
    "    print(i, end=',')"
   ]
  },
  {
   "cell_type": "code",
   "execution_count": 115,
   "id": "79726444-f31f-432d-b6bf-bda3d7ffcb02",
   "metadata": {},
   "outputs": [
    {
     "name": "stdout",
     "output_type": "stream",
     "text": [
      "Apple\n",
      "cherry\n",
      "4\n",
      "<class 'list'>\n"
     ]
    }
   ],
   "source": [
    "print(min(list2))    # 2\n",
    "print(max(list2))\n",
    "print(len(list2))\n",
    "print(type(list2))\n",
    "\n",
    "\n"
   ]
  },
  {
   "cell_type": "code",
   "execution_count": 117,
   "id": "e827aec2-ee80-47b2-a4f2-67eb451036e4",
   "metadata": {},
   "outputs": [
    {
     "ename": "TypeError",
     "evalue": "unsupported operand type(s) for +: 'int' and 'str'",
     "output_type": "error",
     "traceback": [
      "\u001b[1;31m---------------------------------------------------------------------------\u001b[0m",
      "\u001b[1;31mTypeError\u001b[0m                                 Traceback (most recent call last)",
      "Cell \u001b[1;32mIn[117], line 1\u001b[0m\n\u001b[1;32m----> 1\u001b[0m \u001b[38;5;28mprint\u001b[39m(\u001b[38;5;28msum\u001b[39m(list2))\n",
      "\u001b[1;31mTypeError\u001b[0m: unsupported operand type(s) for +: 'int' and 'str'"
     ]
    }
   ],
   "source": [
    "print(sum(list2))   #  TypeError: int str"
   ]
  },
  {
   "cell_type": "code",
   "execution_count": 111,
   "id": "bec73507-d609-412c-977a-616a3c96efd9",
   "metadata": {},
   "outputs": [
    {
     "name": "stdout",
     "output_type": "stream",
     "text": [
      "['Apple', 'apple', 'banana', 'cherry']\n",
      "['cherry', 'banana', 'apple', 'Apple']\n"
     ]
    }
   ],
   "source": [
    "print(sorted(list2))\n",
    "print(sorted(list2,reverse=True)) "
   ]
  },
  {
   "cell_type": "code",
   "execution_count": 109,
   "id": "8096840a-da95-4ad0-970e-4b1edaf09c47",
   "metadata": {},
   "outputs": [
    {
     "name": "stdout",
     "output_type": "stream",
     "text": [
      "banana,cherry,apple,Apple,"
     ]
    }
   ],
   "source": [
    "a = reversed(list2)\n",
    "for i in a:\n",
    "    print(i, end=',')"
   ]
  },
  {
   "cell_type": "code",
   "execution_count": 121,
   "id": "29b391a6-2ab0-4cc7-b1e5-c6545e95c610",
   "metadata": {},
   "outputs": [
    {
     "ename": "TypeError",
     "evalue": "'<' not supported between instances of 'str' and 'int'",
     "output_type": "error",
     "traceback": [
      "\u001b[1;31m---------------------------------------------------------------------------\u001b[0m",
      "\u001b[1;31mTypeError\u001b[0m                                 Traceback (most recent call last)",
      "Cell \u001b[1;32mIn[121], line 1\u001b[0m\n\u001b[1;32m----> 1\u001b[0m \u001b[38;5;28mprint\u001b[39m(\u001b[38;5;28mmin\u001b[39m(list3))    \u001b[38;5;66;03m# 2\u001b[39;00m\n\u001b[0;32m      2\u001b[0m \u001b[38;5;28mprint\u001b[39m(\u001b[38;5;28mmax\u001b[39m(list3))\n\u001b[0;32m      3\u001b[0m \u001b[38;5;28mprint\u001b[39m(\u001b[38;5;28mlen\u001b[39m(list3))\n",
      "\u001b[1;31mTypeError\u001b[0m: '<' not supported between instances of 'str' and 'int'"
     ]
    }
   ],
   "source": [
    "print(min(list3))    # TypeError not supported between instaces of 'str and 'int\n"
   ]
  },
  {
   "cell_type": "code",
   "execution_count": 125,
   "id": "c079dfb7-de14-45b3-a54c-8bd78d5637cb",
   "metadata": {},
   "outputs": [
    {
     "ename": "TypeError",
     "evalue": "'>' not supported between instances of 'str' and 'int'",
     "output_type": "error",
     "traceback": [
      "\u001b[1;31m---------------------------------------------------------------------------\u001b[0m",
      "\u001b[1;31mTypeError\u001b[0m                                 Traceback (most recent call last)",
      "Cell \u001b[1;32mIn[125], line 1\u001b[0m\n\u001b[1;32m----> 1\u001b[0m \u001b[38;5;28mprint\u001b[39m(\u001b[38;5;28mmax\u001b[39m(list3))\n",
      "\u001b[1;31mTypeError\u001b[0m: '>' not supported between instances of 'str' and 'int'"
     ]
    }
   ],
   "source": [
    "print(max(list3))  # TypeError not supported between instaces of 'str and 'int\n"
   ]
  },
  {
   "cell_type": "code",
   "execution_count": 139,
   "id": "c539f611-2655-4434-9862-7568e7b90bf3",
   "metadata": {},
   "outputs": [
    {
     "name": "stdout",
     "output_type": "stream",
     "text": [
      "9\n",
      "<class 'list'>\n"
     ]
    }
   ],
   "source": [
    "print(len(list3))\n",
    "print(type(list3))\n"
   ]
  },
  {
   "cell_type": "code",
   "execution_count": 129,
   "id": "41e83443-2d81-4786-a09f-f45c9bab28f4",
   "metadata": {},
   "outputs": [
    {
     "ename": "TypeError",
     "evalue": "unsupported operand type(s) for +: 'int' and 'str'",
     "output_type": "error",
     "traceback": [
      "\u001b[1;31m---------------------------------------------------------------------------\u001b[0m",
      "\u001b[1;31mTypeError\u001b[0m                                 Traceback (most recent call last)",
      "Cell \u001b[1;32mIn[129], line 1\u001b[0m\n\u001b[1;32m----> 1\u001b[0m \u001b[38;5;28mprint\u001b[39m(\u001b[38;5;28msum\u001b[39m(list3))\n",
      "\u001b[1;31mTypeError\u001b[0m: unsupported operand type(s) for +: 'int' and 'str'"
     ]
    }
   ],
   "source": [
    "print(sum(list3))\n"
   ]
  },
  {
   "cell_type": "code",
   "execution_count": 131,
   "id": "1d548052-0f22-4c30-a635-32f6d2559cb0",
   "metadata": {},
   "outputs": [
    {
     "ename": "TypeError",
     "evalue": "'<' not supported between instances of 'str' and 'int'",
     "output_type": "error",
     "traceback": [
      "\u001b[1;31m---------------------------------------------------------------------------\u001b[0m",
      "\u001b[1;31mTypeError\u001b[0m                                 Traceback (most recent call last)",
      "Cell \u001b[1;32mIn[131], line 1\u001b[0m\n\u001b[1;32m----> 1\u001b[0m \u001b[38;5;28mprint\u001b[39m(\u001b[38;5;28msorted\u001b[39m(list3))\n\u001b[0;32m      2\u001b[0m \u001b[38;5;28mprint\u001b[39m(\u001b[38;5;28msorted\u001b[39m(list3,reverse\u001b[38;5;241m=\u001b[39m\u001b[38;5;28;01mTrue\u001b[39;00m))\n\u001b[0;32m      3\u001b[0m a \u001b[38;5;241m=\u001b[39m \u001b[38;5;28mreversed\u001b[39m(list3)\n",
      "\u001b[1;31mTypeError\u001b[0m: '<' not supported between instances of 'str' and 'int'"
     ]
    }
   ],
   "source": [
    "print(sorted(list3))\n"
   ]
  },
  {
   "cell_type": "code",
   "execution_count": 137,
   "id": "1554f7a8-cd83-4d5c-bf69-9d6a3df1d622",
   "metadata": {},
   "outputs": [
    {
     "ename": "TypeError",
     "evalue": "'<' not supported between instances of 'int' and 'str'",
     "output_type": "error",
     "traceback": [
      "\u001b[1;31m---------------------------------------------------------------------------\u001b[0m",
      "\u001b[1;31mTypeError\u001b[0m                                 Traceback (most recent call last)",
      "Cell \u001b[1;32mIn[137], line 1\u001b[0m\n\u001b[1;32m----> 1\u001b[0m \u001b[38;5;28mprint\u001b[39m(\u001b[38;5;28msorted\u001b[39m(list3,reverse\u001b[38;5;241m=\u001b[39m\u001b[38;5;28;01mTrue\u001b[39;00m))\n",
      "\u001b[1;31mTypeError\u001b[0m: '<' not supported between instances of 'int' and 'str'"
     ]
    }
   ],
   "source": [
    "print(sorted(list3,reverse=True))\n"
   ]
  },
  {
   "cell_type": "code",
   "execution_count": 135,
   "id": "34814db1-87ac-4bb4-a834-47685958511c",
   "metadata": {},
   "outputs": [
    {
     "name": "stdout",
     "output_type": "stream",
     "text": [
      "banana,cherry,apple,Apple,75,5,2,20,10,"
     ]
    }
   ],
   "source": [
    "a = reversed(list3)\n",
    "for i in a:\n",
    "    print(i, end=',')"
   ]
  },
  {
   "cell_type": "markdown",
   "id": "db2b51f9-79e9-45ee-ba0d-4895dfc1e29c",
   "metadata": {},
   "source": [
    "- for all int values in single list working\n",
    "- for all string values sum is not working as typeError\n",
    "- for when mix between string,num values sorted,sum,min,max not wrking, others are working"
   ]
  },
  {
   "cell_type": "code",
   "execution_count": 142,
   "id": "6cab1c2b-2f79-4601-ac20-3aab9dff4ee8",
   "metadata": {},
   "outputs": [
    {
     "data": {
      "text/plain": [
       "[75, 5, 2, 20, 10]"
      ]
     },
     "execution_count": 142,
     "metadata": {},
     "output_type": "execute_result"
    }
   ],
   "source": [
    "list(reversed(list1))"
   ]
  },
  {
   "cell_type": "code",
   "execution_count": 151,
   "id": "046857bd-8e67-46a4-aaea-45c5d88f5952",
   "metadata": {},
   "outputs": [],
   "source": [
    "# In the interview\n",
    "# list1 = [10,20,2,5,75]\n",
    "# Q1) sort the list witout sorted function\n",
    "# Q2) find max value without max jfunction\n",
    "# Q3) find the min value without min function\n",
    "# Q4) Reverse the elements without reversed functioin\n",
    "# Q5) Sum the elements without using sum function\n",
    "# Q6) find the second mininum and second maximum\n",
    "# list1 = [10,20,2,5,75]\n",
    "# list1 = [20,10,5,55,42,75]\n",
    "# max_v1 = list1[0]\n",
    "# for i in list1:\n",
    "#     if max_v1 < i:\n",
    "#         max_v1=i\n",
    "        \n",
    "# print(max_v1)\n",
    "# max_v2 = list1[0]\n",
    "# for i in list1:\n",
    "#     if max_v2 < i and max_v1 != i:\n",
    "#         max_v2 = i\n",
    "        \n",
    "# print(max_v2)"
   ]
  },
  {
   "cell_type": "code",
   "execution_count": 148,
   "id": "446bbe72-cd37-4b6d-b6fc-6525d2870aa5",
   "metadata": {},
   "outputs": [],
   "source": [
    "# list1 = [10,20,2,5,75]\n",
    "# max_value = list1[0]\n",
    "# for i in list1:\n",
    "#     if max_value > i:\n",
    "#         max_value= i\n",
    "\n",
    "# print(max_value)"
   ]
  },
  {
   "cell_type": "markdown",
   "id": "f4fbccfd-ac1f-4a7e-95d7-05eaebd561a4",
   "metadata": {},
   "source": [
    "**concatenation**"
   ]
  },
  {
   "cell_type": "code",
   "execution_count": 169,
   "id": "380275c4-2556-4f1e-bd93-877f6a101865",
   "metadata": {},
   "outputs": [
    {
     "data": {
      "text/plain": [
       "[1, 2, 3, 4, 1, 2, 3, 4]"
      ]
     },
     "execution_count": 169,
     "metadata": {},
     "output_type": "execute_result"
    }
   ],
   "source": [
    "list1 = [1,2,3,4]\n",
    "list2 = ['A','B','C','D']\n",
    "list1+list2\n",
    "# list1-list2    # typeError: unsupported operand\n",
    "#list1*list2    # TypeError: can't multiply sequence by non-int of type 'list'\n",
    "list1*2\n",
    "# list1/list2    # typeError: unsupp\n"
   ]
  },
  {
   "cell_type": "code",
   "execution_count": 165,
   "id": "dc8bdcfc-bc7d-4fae-b040-c0c45e21e9f2",
   "metadata": {},
   "outputs": [
    {
     "name": "stdout",
     "output_type": "stream",
     "text": [
      "pythonpython\n",
      "pythonpython\n"
     ]
    }
   ],
   "source": [
    "print('python'*2)\n",
    "print('python'+'python')"
   ]
  },
  {
   "cell_type": "markdown",
   "id": "bde92c9b-abd4-4c3c-8fe0-a7b15bdcd0eb",
   "metadata": {},
   "source": [
    "**index**"
   ]
  },
  {
   "cell_type": "code",
   "execution_count": 172,
   "id": "4801eb65-75c7-445e-a785-8e62ad578010",
   "metadata": {},
   "outputs": [
    {
     "data": {
      "text/plain": [
       "(1, 1)"
      ]
     },
     "execution_count": 172,
     "metadata": {},
     "output_type": "execute_result"
    }
   ],
   "source": [
    "# -6  -5  -4   -3    -2    -1\n",
    "# 10  20  30   'A'   'B'   'C'\n",
    "#  0   1   2    3     4     5\n",
    "list1 = [1,2,3,'A','B','C']\n",
    "list1[0],list1[-6]"
   ]
  },
  {
   "cell_type": "code",
   "execution_count": 182,
   "id": "349eda5a-7df2-4de2-8824-b27c77c02c0a",
   "metadata": {},
   "outputs": [
    {
     "name": "stdout",
     "output_type": "stream",
     "text": [
      "Positive index of 10: 0\n",
      "Negative index of 10: -6\n",
      "Positive index is 0 and negative index is -6 of 10\n",
      "Positive index of 20: 1\n",
      "Negative index of 20: -5\n",
      "Positive index is 1 and negative index is -5 of 20\n",
      "Positive index of 30: 2\n",
      "Negative index of 30: -4\n",
      "Positive index is 2 and negative index is -4 of 30\n",
      "Positive index of A: 3\n",
      "Negative index of A: -3\n",
      "Positive index is 3 and negative index is -3 of A\n",
      "Positive index of B: 4\n",
      "Negative index of B: -2\n",
      "Positive index is 4 and negative index is -2 of B\n",
      "Positive index of C: 5\n",
      "Negative index of C: -1\n",
      "Positive index is 5 and negative index is -1 of C\n"
     ]
    }
   ],
   "source": [
    "# Positive index of 10 is 0\n",
    "# negative index of 10 is -6\n",
    "# \n",
    "list1 = [10,20,30,'A','B','C']\n",
    "\n",
    "n = len(list1)\n",
    "for i in range(n):\n",
    "    print(f\"Positive index of {list1[i]}: {i}\")\n",
    "    print(f\"Negative index of {list1[i]}: {i-n}\")\n",
    "    print(f\"Positive index is {i} and negative index is {i-n} of {list1[i]}\")"
   ]
  },
  {
   "cell_type": "code",
   "execution_count": 184,
   "id": "c03f5204-8331-4d53-954a-6406112f2b67",
   "metadata": {},
   "outputs": [
    {
     "data": {
      "text/plain": [
       "10"
      ]
     },
     "execution_count": 184,
     "metadata": {},
     "output_type": "execute_result"
    }
   ],
   "source": [
    "list1 = [[10]]\n",
    "# inside list how many elements are there:1\n",
    "# [10]\n",
    "list1[0][0]\n"
   ]
  },
  {
   "cell_type": "code",
   "execution_count": 186,
   "id": "a9cda4f6-dde1-4aab-b098-762c87543eb5",
   "metadata": {},
   "outputs": [
    {
     "data": {
      "text/plain": [
       "1"
      ]
     },
     "execution_count": 186,
     "metadata": {},
     "output_type": "execute_result"
    }
   ],
   "source": [
    "list1 = [[10,20]]\n",
    "len(list1)"
   ]
  },
  {
   "cell_type": "code",
   "execution_count": 188,
   "id": "108c3af0-d2c5-4efd-b6a3-b5fb297527b6",
   "metadata": {},
   "outputs": [
    {
     "data": {
      "text/plain": [
       "(1, 2)"
      ]
     },
     "execution_count": 188,
     "metadata": {},
     "output_type": "execute_result"
    }
   ],
   "source": [
    "list1 = [[10,20]]\n",
    "list2 = [10,20]\n",
    "len(list1), len(list2)"
   ]
  },
  {
   "cell_type": "code",
   "execution_count": 196,
   "id": "c5718653-df15-4dd5-b75c-35cc154e5390",
   "metadata": {},
   "outputs": [
    {
     "data": {
      "text/plain": [
       "2"
      ]
     },
     "execution_count": 196,
     "metadata": {},
     "output_type": "execute_result"
    }
   ],
   "source": [
    "list1 = [10,[20]]\n",
    "len(list1)\n"
   ]
  },
  {
   "cell_type": "code",
   "execution_count": 194,
   "id": "2babced4-9191-4e27-ada2-9f5da6774178",
   "metadata": {},
   "outputs": [
    {
     "data": {
      "text/plain": [
       "20"
      ]
     },
     "execution_count": 194,
     "metadata": {},
     "output_type": "execute_result"
    }
   ],
   "source": [
    "list1[1][0]\n"
   ]
  },
  {
   "cell_type": "code",
   "execution_count": 198,
   "id": "94b4eaa4-4bf0-429e-ab06-dfc25288eb55",
   "metadata": {},
   "outputs": [
    {
     "data": {
      "text/plain": [
       "'Cherry'"
      ]
     },
     "execution_count": 198,
     "metadata": {},
     "output_type": "execute_result"
    }
   ],
   "source": [
    "list1 = [10,20,30,'A',['Banana','Cherry']]\n",
    "list1[4][1]"
   ]
  },
  {
   "cell_type": "code",
   "execution_count": 200,
   "id": "3e192429-7bae-48c3-be44-23f3f0521e36",
   "metadata": {},
   "outputs": [
    {
     "data": {
      "text/plain": [
       "'Cherry'"
      ]
     },
     "execution_count": 200,
     "metadata": {},
     "output_type": "execute_result"
    }
   ],
   "source": [
    "list1 = ['A',['Apple','B',['Banana'],'C',['Cherry']]]\n",
    "list1[1][4][0]"
   ]
  },
  {
   "cell_type": "code",
   "execution_count": 212,
   "id": "6c4feb02-a013-468f-8e3b-68ffde12fef2",
   "metadata": {},
   "outputs": [
    {
     "data": {
      "text/plain": [
       "'Dragon fruite'"
      ]
     },
     "execution_count": 212,
     "metadata": {},
     "output_type": "execute_result"
    }
   ],
   "source": [
    "list1=['A',['Apple','B',['Banana','C',['Cherry','D',['Dragon fruite']]]]]\n",
    "list1[1][2][2][2][0]"
   ]
  },
  {
   "cell_type": "code",
   "execution_count": 224,
   "id": "717ef19b-f06b-4e1c-ab3c-9343a4543859",
   "metadata": {},
   "outputs": [
    {
     "data": {
      "text/plain": [
       "'Bat'"
      ]
     },
     "execution_count": 224,
     "metadata": {},
     "output_type": "execute_result"
    }
   ],
   "source": [
    "list1 = ['Apple',['Kashmir',['India',['Cricket',['Bat']]]]]\n",
    "list1[1][1][1][1][0]"
   ]
  },
  {
   "cell_type": "code",
   "execution_count": 232,
   "id": "49eace8f-c67b-4ed5-9686-043293d6475a",
   "metadata": {},
   "outputs": [
    {
     "data": {
      "text/plain": [
       "'Viky'"
      ]
     },
     "execution_count": 232,
     "metadata": {},
     "output_type": "execute_result"
    }
   ],
   "source": [
    "list1 = ['Orange',['Nagpur',['MH',['Shivaji',['Shambaji',['Viky']]]]]]\n",
    "list1[1][1][1][1][1][0]"
   ]
  },
  {
   "cell_type": "markdown",
   "id": "36d8a797-5ccf-4586-9f93-4c48ac7f7796",
   "metadata": {},
   "source": [
    "**range vs in**\n",
    "\n",
    "- when we have use with index then go for range\n",
    "- when we have use with only element go for in"
   ]
  },
  {
   "cell_type": "markdown",
   "id": "d85696c7-a271-4e16-8348-2b6466cbeedb",
   "metadata": {},
   "source": [
    "**mutable vs immutable**"
   ]
  },
  {
   "cell_type": "code",
   "execution_count": 9,
   "id": "f0e2a139-a82e-45f2-b8b8-9bb7f6a89be9",
   "metadata": {},
   "outputs": [
    {
     "data": {
      "text/plain": [
       "[1, 2, 5, 4, 5, 6]"
      ]
     },
     "execution_count": 9,
     "metadata": {},
     "output_type": "execute_result"
    }
   ],
   "source": [
    "list1 = [1,2,3,4,5,6]\n",
    "list1[2] = 5\n",
    "list1"
   ]
  },
  {
   "cell_type": "markdown",
   "id": "d7856fef-ece3-4788-89fc-54f9556782fd",
   "metadata": {},
   "source": [
    "**list are mutable**"
   ]
  },
  {
   "cell_type": "markdown",
   "id": "5df0915d-2d7c-42b0-bcd2-ad8c379d2785",
   "metadata": {},
   "source": [
    "**slice**"
   ]
  },
  {
   "cell_type": "code",
   "execution_count": 49,
   "id": "8fcd7256-d647-4942-8c76-13b156f71713",
   "metadata": {},
   "outputs": [
    {
     "name": "stdout",
     "output_type": "stream",
     "text": [
      "[30, 50, 'B', 'D']\n",
      "[]\n",
      "[30]\n",
      "[]\n",
      "[]\n",
      "['cat']\n",
      "[]\n",
      "['cat', 'apple', 'D', 'B']\n",
      "[]\n",
      "['apple', 'D', 'B', 50]\n"
     ]
    }
   ],
   "source": [
    "l1 = [10,20,30,40,50,'A','B','C','D','E','apple','banana','cat','mouse']\n",
    "l1[:]     # full list\n",
    "l1[::]    # full list\n",
    "l1[::-1]  # reverse list\n",
    "print(l1[2:10:2]) # works\n",
    "print(l1[2:10:-2]) # not works\n",
    "print(l1[2:-10:2])  # works \n",
    "print(l1[-2:10:2])  # works --> not works\n",
    "print(l1[2:-10:-2]) # maybe --> not works\n",
    "print(l1[-2:10:-2]) # works\n",
    "print(l1[-2:-10:2]) # not works\n",
    "print(l1[-2:-10:-2]) # works\n",
    "print(l1[10:2:2]) #not works\n",
    "print(l1[10:2:-2]) # works"
   ]
  },
  {
   "cell_type": "code",
   "execution_count": 55,
   "id": "7f4824e3-2e99-4efe-8f20-cf48cf8cb4ad",
   "metadata": {},
   "outputs": [
    {
     "name": "stdout",
     "output_type": "stream",
     "text": [
      "14\n"
     ]
    },
    {
     "data": {
      "text/plain": [
       "[]"
      ]
     },
     "execution_count": 55,
     "metadata": {},
     "output_type": "execute_result"
    }
   ],
   "source": [
    "print(len(l1))\n",
    "\n",
    "l1[-2:10]"
   ]
  },
  {
   "cell_type": "markdown",
   "id": "7869772c-c20d-407c-85e6-ea387004e0f1",
   "metadata": {},
   "source": [
    "**methods**"
   ]
  },
  {
   "cell_type": "markdown",
   "id": "92fc1f0c-9e26-45e8-a543-c4e09e0f09c6",
   "metadata": {},
   "source": [
    "- if we wants to know the strings methods\n",
    "dir('')"
   ]
  },
  {
   "cell_type": "code",
   "execution_count": 32,
   "id": "4ed9ac90-441c-4e76-b97a-d11c90edc912",
   "metadata": {},
   "outputs": [
    {
     "name": "stdout",
     "output_type": "stream",
     "text": [
      "['__add__', '__class__', '__class_getitem__', '__contains__', '__delattr__', '__delitem__', '__dir__', '__doc__', '__eq__', '__format__', '__ge__', '__getattribute__', '__getitem__', '__getstate__', '__gt__', '__hash__', '__iadd__', '__imul__', '__init__', '__init_subclass__', '__iter__', '__le__', '__len__', '__lt__', '__mul__', '__ne__', '__new__', '__reduce__', '__reduce_ex__', '__repr__', '__reversed__', '__rmul__', '__setattr__', '__setitem__', '__sizeof__', '__str__', '__subclasshook__', 'append', 'clear', 'copy', 'count', 'extend', 'index', 'insert', 'pop', 'remove', 'reverse', 'sort'] "
     ]
    }
   ],
   "source": [
    "print(dir([]),end=' ')"
   ]
  },
  {
   "cell_type": "markdown",
   "id": "53f51519-ed8b-4883-9db5-98cb892e039d",
   "metadata": {},
   "source": [
    "- clear\n",
    "- copy\n",
    "- count"
   ]
  },
  {
   "cell_type": "code",
   "execution_count": 37,
   "id": "01388b66-f6a7-419b-ab2f-dfdd258428ec",
   "metadata": {},
   "outputs": [
    {
     "data": {
      "text/plain": [
       "[]"
      ]
     },
     "execution_count": 37,
     "metadata": {},
     "output_type": "execute_result"
    }
   ],
   "source": [
    "l1 = [30,20,50,60,80, 50, 20,20,80]\n",
    "l1.clear()\n",
    "l1"
   ]
  },
  {
   "cell_type": "code",
   "execution_count": 43,
   "id": "7d545591-2317-46bd-804f-f4516aaead62",
   "metadata": {},
   "outputs": [
    {
     "data": {
      "text/plain": [
       "[30, 20, 50, 60, 80, 50, 20, 20, 80]"
      ]
     },
     "execution_count": 43,
     "metadata": {},
     "output_type": "execute_result"
    }
   ],
   "source": [
    "l1 = [30,20,50,60,80, 50, 20,20,80]\n",
    "l2 = l1.copy()\n",
    "l2\n"
   ]
  },
  {
   "cell_type": "code",
   "execution_count": 45,
   "id": "82395092-5a87-40eb-8b81-100a09f889a5",
   "metadata": {},
   "outputs": [
    {
     "data": {
      "text/plain": [
       "2"
      ]
     },
     "execution_count": 45,
     "metadata": {},
     "output_type": "execute_result"
    }
   ],
   "source": [
    "l1 = [30,20,50,60,80, 50, 20,20,80]\n",
    "l1.count(80)"
   ]
  },
  {
   "cell_type": "code",
   "execution_count": null,
   "id": "0a3dc646-1a75-4680-8f0e-28153244f1d3",
   "metadata": {},
   "outputs": [],
   "source": [
    "l1 = [10,20,30,'A','B','C']\n"
   ]
  },
  {
   "cell_type": "code",
   "execution_count": 62,
   "id": "17482444-710e-4414-897e-0537e3888b67",
   "metadata": {},
   "outputs": [
    {
     "name": "stdout",
     "output_type": "stream",
     "text": [
      "[]\n",
      "[10, 20, 30, 'A', 'B', 'C']\n",
      "[]\n"
     ]
    }
   ],
   "source": [
    "l1 = [10,20,30,'A','B','C']\n",
    "l2 = l1.copy()\n",
    "l3 = l1\n",
    "l1[0]=1\n",
    "\n",
    "l1.clear()\n",
    "print(l1)\n",
    "print(l2)\n",
    "print(l3)"
   ]
  },
  {
   "cell_type": "markdown",
   "id": "004816a3-e60a-4df3-9b22-ce2e4f463ca5",
   "metadata": {},
   "source": [
    "**append**\n",
    "\n",
    "- append is very very important method in the entire list\n",
    "- in our life we will use this method very very frequently\n",
    "- append means adding an element at last"
   ]
  },
  {
   "cell_type": "code",
   "execution_count": 65,
   "id": "f35fb9a4-ca21-416c-9ea1-86a80e85d19b",
   "metadata": {},
   "outputs": [
    {
     "data": {
      "text/plain": [
       "[10, 20, 30, 'apple']"
      ]
     },
     "execution_count": 65,
     "metadata": {},
     "output_type": "execute_result"
    }
   ],
   "source": [
    "l1 =[10,20,30]\n",
    "l1.append('apple')\n",
    "l1"
   ]
  },
  {
   "cell_type": "code",
   "execution_count": 67,
   "id": "d7074273-7578-44dc-ba75-f43e6fc7ab7b",
   "metadata": {},
   "outputs": [
    {
     "data": {
      "text/plain": [
       "[10, 20, 30, 'apple', 'banana']"
      ]
     },
     "execution_count": 67,
     "metadata": {},
     "output_type": "execute_result"
    }
   ],
   "source": [
    "l1 =[10,20,30]\n",
    "l1.append('apple')\n",
    "l1.append('banana')\n",
    "l1"
   ]
  },
  {
   "cell_type": "code",
   "execution_count": 71,
   "id": "c946a1b0-d91c-4338-b81e-5eb22e2cf7bf",
   "metadata": {},
   "outputs": [
    {
     "ename": "TypeError",
     "evalue": "list.append() takes exactly one argument (2 given)",
     "output_type": "error",
     "traceback": [
      "\u001b[1;31m---------------------------------------------------------------------------\u001b[0m",
      "\u001b[1;31mTypeError\u001b[0m                                 Traceback (most recent call last)",
      "Cell \u001b[1;32mIn[71], line 2\u001b[0m\n\u001b[0;32m      1\u001b[0m l1 \u001b[38;5;241m=\u001b[39m[\u001b[38;5;241m10\u001b[39m,\u001b[38;5;241m20\u001b[39m,\u001b[38;5;241m30\u001b[39m]\n\u001b[1;32m----> 2\u001b[0m l1\u001b[38;5;241m.\u001b[39mappend(\u001b[38;5;124m'\u001b[39m\u001b[38;5;124mapple\u001b[39m\u001b[38;5;124m'\u001b[39m,\u001b[38;5;124m'\u001b[39m\u001b[38;5;124mbanana\u001b[39m\u001b[38;5;124m'\u001b[39m)\n\u001b[0;32m      3\u001b[0m l1\n",
      "\u001b[1;31mTypeError\u001b[0m: list.append() takes exactly one argument (2 given)"
     ]
    }
   ],
   "source": [
    "l1 =[10,20,30]\n",
    "l1.append('apple','banana')\n",
    "l1"
   ]
  },
  {
   "cell_type": "code",
   "execution_count": 69,
   "id": "fbb26aae-7016-4b7c-930c-47bc97f82b99",
   "metadata": {},
   "outputs": [
    {
     "data": {
      "text/plain": [
       "[10, 20, 30, ['apple', 'banana']]"
      ]
     },
     "execution_count": 69,
     "metadata": {},
     "output_type": "execute_result"
    }
   ],
   "source": [
    "l1 = [10,20,30]\n",
    "l1.append(['apple','banana'])\n",
    "l1"
   ]
  },
  {
   "cell_type": "markdown",
   "id": "84a39bae-342c-4acf-a1f7-64f3cefb6cb5",
   "metadata": {},
   "source": [
    "**always recall if you see anywhere multiple values means most of the time we will keep values in list**"
   ]
  },
  {
   "cell_type": "code",
   "execution_count": 78,
   "id": "93ff71bb-1ca3-4c13-9976-bc66e01bbe6c",
   "metadata": {},
   "outputs": [
    {
     "data": {
      "text/plain": [
       "[10, 20, 30, 'apple']"
      ]
     },
     "execution_count": 78,
     "metadata": {},
     "output_type": "execute_result"
    }
   ],
   "source": [
    "l1 = [10,20,30]\n",
    "l1.append('apple')\n",
    "l1"
   ]
  },
  {
   "cell_type": "code",
   "execution_count": 80,
   "id": "26e21625-f196-4c12-ab75-bf39bde101fa",
   "metadata": {},
   "outputs": [
    {
     "data": {
      "text/plain": [
       "[10, 20, 30, 'apple', 'banana']"
      ]
     },
     "execution_count": 80,
     "metadata": {},
     "output_type": "execute_result"
    }
   ],
   "source": [
    "l1 = [10,20,30]\n",
    "l1.append('apple')\n",
    "l1.append('banana')\n",
    "l1"
   ]
  },
  {
   "cell_type": "code",
   "execution_count": 82,
   "id": "5b9328e8-e97a-453c-82de-9e1b2c5be89d",
   "metadata": {},
   "outputs": [
    {
     "ename": "TypeError",
     "evalue": "list.append() takes exactly one argument (2 given)",
     "output_type": "error",
     "traceback": [
      "\u001b[1;31m---------------------------------------------------------------------------\u001b[0m",
      "\u001b[1;31mTypeError\u001b[0m                                 Traceback (most recent call last)",
      "Cell \u001b[1;32mIn[82], line 2\u001b[0m\n\u001b[0;32m      1\u001b[0m l1 \u001b[38;5;241m=\u001b[39m [\u001b[38;5;241m10\u001b[39m,\u001b[38;5;241m20\u001b[39m,\u001b[38;5;241m30\u001b[39m]\n\u001b[1;32m----> 2\u001b[0m l1\u001b[38;5;241m.\u001b[39mappend(\u001b[38;5;124m'\u001b[39m\u001b[38;5;124mapple\u001b[39m\u001b[38;5;124m'\u001b[39m,\u001b[38;5;124m'\u001b[39m\u001b[38;5;124mbanana\u001b[39m\u001b[38;5;124m'\u001b[39m)\n\u001b[0;32m      3\u001b[0m l1\n",
      "\u001b[1;31mTypeError\u001b[0m: list.append() takes exactly one argument (2 given)"
     ]
    }
   ],
   "source": [
    "l1 = [10,20,30]\n",
    "l1.append('apple','banana')\n",
    "l1"
   ]
  },
  {
   "cell_type": "code",
   "execution_count": 84,
   "id": "eff43bc5-3f57-482f-ba3d-7e236d7cae36",
   "metadata": {},
   "outputs": [
    {
     "data": {
      "text/plain": [
       "[10, 20, 30, ['append', 'banana']]"
      ]
     },
     "execution_count": 84,
     "metadata": {},
     "output_type": "execute_result"
    }
   ],
   "source": [
    "l1 = [10,20,30]\n",
    "l1.append(['append','banana'])\n",
    "l1"
   ]
  },
  {
   "cell_type": "markdown",
   "id": "9a4ba386-2c46-4f16-8101-cb985a82ed80",
   "metadata": {},
   "source": [
    "**append method is used to store the outputs**"
   ]
  },
  {
   "cell_type": "code",
   "execution_count": 89,
   "id": "5d5ad353-eeea-4592-80df-aec69722f57b",
   "metadata": {},
   "outputs": [
    {
     "data": {
      "text/plain": [
       "[1, 2, 3, 4, 5]"
      ]
     },
     "execution_count": 89,
     "metadata": {},
     "output_type": "execute_result"
    }
   ],
   "source": [
    "# for exampe i want to append a numbers from 1 to 5\n",
    "# l1 = [1,2,3,4,5]\n",
    "l1 = []\n",
    "############\n",
    "l1.append(1)\n",
    "l1.append(2)\n",
    "l1.append(3)\n",
    "l1.append(4)\n",
    "l1.append(5)\n",
    "# l1.append(i)\n",
    "##############\n",
    "l1\n"
   ]
  },
  {
   "cell_type": "code",
   "execution_count": 91,
   "id": "6b0fcb26-9d0d-4710-abe6-26719f68ad83",
   "metadata": {},
   "outputs": [
    {
     "data": {
      "text/plain": [
       "[1, 2, 3, 4, 5]"
      ]
     },
     "execution_count": 91,
     "metadata": {},
     "output_type": "execute_result"
    }
   ],
   "source": [
    "l1 =[]\n",
    "for i in range(1,6):\n",
    "    l1.append(i)\n",
    "\n",
    "l1"
   ]
  },
  {
   "cell_type": "code",
   "execution_count": 99,
   "id": "7f725675-b53a-4d73-93a9-d41ad36cf8a0",
   "metadata": {},
   "outputs": [
    {
     "data": {
      "text/plain": [
       "[529, 400, 2025]"
      ]
     },
     "execution_count": 99,
     "metadata": {},
     "output_type": "execute_result"
    }
   ],
   "source": [
    "# wap ask the user enter 3 random numbers \n",
    "# and perform the square of the numbers and save those squares in a list\n",
    "import random\n",
    "# l1 = []\n",
    "for i in range(3):\n",
    "    n = random.randint(1,100)\n",
    "    # print(n)\n",
    "    s = n**2\n",
    "#     print(s)\n",
    "    l1.append(s)\n",
    "\n",
    "l1\n"
   ]
  },
  {
   "cell_type": "code",
   "execution_count": 103,
   "id": "a83001d2-729b-428c-b5a0-28456f46f9a0",
   "metadata": {},
   "outputs": [
    {
     "data": {
      "text/plain": [
       "['98:9604', '99:9801', '79:6241']"
      ]
     },
     "execution_count": 103,
     "metadata": {},
     "output_type": "execute_result"
    }
   ],
   "source": [
    "import random\n",
    "l1 = []\n",
    "for i in range(3):\n",
    "    n = random.randint(1,100)\n",
    "    l1.append(f'{n}:{n*n}')\n",
    "\n",
    "l1"
   ]
  },
  {
   "cell_type": "code",
   "execution_count": 105,
   "id": "537c7e7a-fb28-4bb4-b9d9-6ac4a1388c78",
   "metadata": {},
   "outputs": [
    {
     "name": "stdout",
     "output_type": "stream",
     "text": [
      "[10, 12]\n",
      "[47, 53, 27]\n"
     ]
    }
   ],
   "source": [
    "# Q2) i already have a list of numbers\n",
    "l = [10,47,53,12,27]\n",
    "# from above list i wnat to get a even_list and odd_list\n",
    "\n",
    "even_list = []\n",
    "odd_list = []\n",
    "\n",
    "for i in l:\n",
    "    if i%2 == 0:\n",
    "        even_list.append(i)\n",
    "\n",
    "    else:\n",
    "        odd_list.append(i)\n",
    "\n",
    "print(even_list)\n",
    "print(odd_list)\n"
   ]
  },
  {
   "cell_type": "code",
   "execution_count": 107,
   "id": "d24792ba-8fec-4531-ae24-46f54a7b16bb",
   "metadata": {},
   "outputs": [
    {
     "data": {
      "text/plain": [
       "['Hyd', 'Bengaluru', 'Pune', 'Mumbai']"
      ]
     },
     "execution_count": 107,
     "metadata": {},
     "output_type": "execute_result"
    }
   ],
   "source": [
    "# Q3) input = ['hyd','bengaluru','pune','mumbai']\n",
    "# output = ['Hyd','Bengaluru','Pune','Mumbai']\n",
    "l1 = ['hyd','bengaluru','pune','mumbai']\n",
    "l2 = []\n",
    "for i in l1:\n",
    "    l2.append(i.title())\n",
    "\n",
    "l2\n",
    "\n",
    "\n"
   ]
  },
  {
   "cell_type": "code",
   "execution_count": 109,
   "id": "d80498dd-8eff-4290-8b09-fd7a9476f124",
   "metadata": {},
   "outputs": [
    {
     "data": {
      "text/plain": [
       "['HYD', 'BENGALURU', 'PUNE', 'MUMBAI']"
      ]
     },
     "execution_count": 109,
     "metadata": {},
     "output_type": "execute_result"
    }
   ],
   "source": [
    "# Q4) input = ['hyd','bengaluru','pune','mumbai']\n",
    "# output = ['HYD','BENGALURU','PUNE','MUMBAI']\n",
    "l1 = ['hyd','bengaluru','pune','mumbai']\n",
    "l2 = []\n",
    "\n",
    "for i in l1:\n",
    "    l2.append(i.upper())\n",
    "\n",
    "l2\n",
    "\n"
   ]
  },
  {
   "cell_type": "code",
   "execution_count": null,
   "id": "d972337f-ff6b-4d6a-a0c8-a01e917c479b",
   "metadata": {},
   "outputs": [],
   "source": [
    "# Q5) input = ['hyd','bengaluru','pune','mumbai']\n",
    "# output = ['ben#galuru','mu#mbai']\n"
   ]
  },
  {
   "cell_type": "code",
   "execution_count": null,
   "id": "34e6314b-e01e-42f2-95fb-a6d1c8847b9e",
   "metadata": {},
   "outputs": [],
   "source": [
    "# Q6) input = ['hyd','bengaluru','pune','mumbai']\n",
    "#     output = [hyd,pune]"
   ]
  },
  {
   "cell_type": "code",
   "execution_count": 111,
   "id": "d72e467b-a54b-47c3-8e96-c771d91898ad",
   "metadata": {},
   "outputs": [
    {
     "data": {
      "text/plain": [
       "['HAI', 'HOW', 'ARE', 'YOU']"
      ]
     },
     "execution_count": 111,
     "metadata": {},
     "output_type": "execute_result"
    }
   ],
   "source": [
    "# Q7) input = 'hai how are you'\n",
    "#      output = ['HAI','HOW','ARE','YOU']\n",
    "s = 'hai how are you'\n",
    "l1 = []\n",
    "l2 = s.split()\n",
    "for i in l2:\n",
    "    l1.append(i.upper())\n",
    "\n",
    "l1\n",
    "\n"
   ]
  },
  {
   "cell_type": "code",
   "execution_count": 113,
   "id": "b1a52d8d-51f5-4ac7-be18-90e7026f429d",
   "metadata": {},
   "outputs": [
    {
     "ename": "SyntaxError",
     "evalue": "expected ':' (2549044589.py, line 11)",
     "output_type": "error",
     "traceback": [
      "\u001b[1;36m  Cell \u001b[1;32mIn[113], line 11\u001b[1;36m\u001b[0m\n\u001b[1;33m    for i in l1\u001b[0m\n\u001b[1;37m               ^\u001b[0m\n\u001b[1;31mSyntaxError\u001b[0m\u001b[1;31m:\u001b[0m expected ':'\n"
     ]
    }
   ],
   "source": [
    "# Q8) input = 'virat.kohli@rcb.com;rohit.sharma@mi.com;ms.dhoni@csk.com'\n",
    "#      fname = ['virat','rohit','ms']\n",
    "#      sname = ['kohli','sharma','dhoni']\n",
    "#      cname = ['rcb','mi','csk']\n",
    "\n",
    "s = 'virat.kohli@rcb.com;rohit.sharma@mi.com;ms.dhoni@csk.com'\n",
    "l1 = s.split(';')\n",
    "fname = []\n",
    "sname = []\n",
    "cname = []\n",
    "for i in l1:\n",
    "    id1 = \n"
   ]
  },
  {
   "cell_type": "code",
   "execution_count": 1,
   "id": "0c462ad4-fc0b-4032-b65b-ef1624fca1a5",
   "metadata": {},
   "outputs": [],
   "source": [
    "# Q9)  input 'can canner can you can not canner with you but you can the canner'\n",
    "#  output = ['can-4','canner-3','you-3', '']"
   ]
  },
  {
   "cell_type": "code",
   "execution_count": 7,
   "id": "2e0b1487-8f28-44f6-b54e-e235447c2bc3",
   "metadata": {},
   "outputs": [
    {
     "name": "stdout",
     "output_type": "stream",
     "text": [
      "['__add__', '__class__', '__class_getitem__', '__contains__', '__delattr__', '__delitem__', '__dir__', '__doc__', '__eq__', '__format__', '__ge__', '__getattribute__', '__getitem__', '__getstate__', '__gt__', '__hash__', '__iadd__', '__imul__', '__init__', '__init_subclass__', '__iter__', '__le__', '__len__', '__lt__', '__mul__', '__ne__', '__new__', '__reduce__', '__reduce_ex__', '__repr__', '__reversed__', '__rmul__', '__setattr__', '__setitem__', '__sizeof__', '__str__', '__subclasshook__', 'append', 'clear', 'copy', 'count', 'extend', 'index', 'insert', 'pop', 'remove', 'reverse', 'sort']\n"
     ]
    }
   ],
   "source": [
    "print(dir([]))"
   ]
  },
  {
   "cell_type": "markdown",
   "id": "06aedb33-83f1-41bd-9132-e9161772d0be",
   "metadata": {},
   "source": [
    "**extend**"
   ]
  },
  {
   "cell_type": "code",
   "execution_count": 18,
   "id": "ff38ba6c-f01b-481a-a962-efc90e7e3c99",
   "metadata": {},
   "outputs": [
    {
     "data": {
      "text/plain": [
       "[1, 2, 3, 4, 5, 'A', 'B', 'C', 'D']"
      ]
     },
     "execution_count": 18,
     "metadata": {},
     "output_type": "execute_result"
    }
   ],
   "source": [
    "l1 = [1,2,3,4,5]\n",
    "l2 = ['A','B','C','D']\n",
    "l1.extend(l2)\n",
    "l1"
   ]
  },
  {
   "cell_type": "code",
   "execution_count": 22,
   "id": "82f998e6-6a27-4c5f-b00a-f43a7907a3be",
   "metadata": {},
   "outputs": [
    {
     "data": {
      "text/plain": [
       "[1, 2, 3, 4, 5, ['A', 'B', 'C', 'D']]"
      ]
     },
     "execution_count": 22,
     "metadata": {},
     "output_type": "execute_result"
    }
   ],
   "source": [
    "l1 = [1,2,3,4,5]\n",
    "l2 = ['A','B','C','D']\n",
    "l1.append(l2)\n",
    "l1"
   ]
  },
  {
   "cell_type": "code",
   "execution_count": 24,
   "id": "45e276fc-b578-49fc-9939-631b10c058b5",
   "metadata": {},
   "outputs": [
    {
     "data": {
      "text/plain": [
       "['A', 'B', 'C', 'D', 1, 2, 3, 4, 5]"
      ]
     },
     "execution_count": 24,
     "metadata": {},
     "output_type": "execute_result"
    }
   ],
   "source": [
    "l1 = [1,2,3,4,5]\n",
    "l2 = ['A','B','C','D']\n",
    "l2.extend(l1)\n",
    "l2"
   ]
  },
  {
   "cell_type": "code",
   "execution_count": 20,
   "id": "c3f91ac3-873d-4b07-9bc6-cb41ebca23ae",
   "metadata": {},
   "outputs": [
    {
     "data": {
      "text/plain": [
       "['A', 'B', 'C', 'D', [1, 2, 3, 4, 5]]"
      ]
     },
     "execution_count": 20,
     "metadata": {},
     "output_type": "execute_result"
    }
   ],
   "source": [
    "l1 = [1,2,3,4,5]\n",
    "l2 = ['A','B','C','D']\n",
    "l2.append(l1)\n",
    "l2"
   ]
  },
  {
   "cell_type": "code",
   "execution_count": 36,
   "id": "5c155fab-8cf6-4aeb-a9a9-751678c2d5b2",
   "metadata": {},
   "outputs": [
    {
     "name": "stdout",
     "output_type": "stream",
     "text": [
      "[1, 2, 3, 4, 5, 'A', 'B', 'C', 'D']\n",
      "[1, 2, 3, 4, 5]\n",
      "['A', 'B', 'C', 'D']\n",
      "l1 will be overwrite if we use extend\n",
      "[1, 2, 3, 4, 5, 'A', 'B', 'C', 'D']\n"
     ]
    }
   ],
   "source": [
    "l1 = [1,2,3,4,5]\n",
    "l2 = ['A','B','C','D']\n",
    "\n",
    "print(l1+l2)    # not overwrite, concatenation does not overwrite l1 or l2\n",
    "print(l1)\n",
    "print(l2)\n",
    "print('l1 will be overwrite if we use extend')\n",
    "l1.extend(l2)    # overwrites l2 elements to l1\n",
    "print(l1)\n"
   ]
  },
  {
   "cell_type": "markdown",
   "id": "0e205ad1-83aa-4c82-b432-fdc224c9be77",
   "metadata": {},
   "source": [
    "**index**"
   ]
  },
  {
   "cell_type": "markdown",
   "id": "5d8b1502-a91e-4511-9217-348c4b8280f5",
   "metadata": {},
   "source": [
    "- strings we have find and index\n",
    "- but in list we have only index\n",
    "- same as strings concept"
   ]
  },
  {
   "cell_type": "code",
   "execution_count": 43,
   "id": "bac3e896-3259-41ab-b02e-ca6ecfb50252",
   "metadata": {},
   "outputs": [
    {
     "data": {
      "text/plain": [
       "3"
      ]
     },
     "execution_count": 43,
     "metadata": {},
     "output_type": "execute_result"
    }
   ],
   "source": [
    "l1 = [1,2,3,50,4,2,5]\n",
    "l1.index(50)\n"
   ]
  },
  {
   "cell_type": "code",
   "execution_count": 47,
   "id": "324ef553-bd3b-4a57-913f-c8a736dfba3e",
   "metadata": {},
   "outputs": [
    {
     "data": {
      "text/plain": [
       "5"
      ]
     },
     "execution_count": 47,
     "metadata": {},
     "output_type": "execute_result"
    }
   ],
   "source": [
    "l1 = [1,2,3,50,4,2,5]\n",
    "l1.index(2, 4)"
   ]
  },
  {
   "cell_type": "code",
   "execution_count": 57,
   "id": "e4e75e09-ee43-4783-a764-beafe3ef80bd",
   "metadata": {},
   "outputs": [
    {
     "name": "stdout",
     "output_type": "stream",
     "text": [
      "8\n"
     ]
    }
   ],
   "source": [
    "l1 = [10,20,30,40,50,'Apple','Banana','Cherry',40,50]\n",
    "i1 = l1.index(40)\n",
    "print(l1.index(40,i1+1))\n"
   ]
  },
  {
   "cell_type": "markdown",
   "id": "1d4fbd46-0f78-45cc-8d01-904b3c3e0669",
   "metadata": {},
   "source": [
    "**insert**\n",
    "\n",
    "- defference between insert and append"
   ]
  },
  {
   "cell_type": "code",
   "execution_count": 66,
   "id": "d037d833-b4de-479a-a844-c0bd63664359",
   "metadata": {},
   "outputs": [
    {
     "name": "stdout",
     "output_type": "stream",
     "text": [
      "[10, 20, 20, 30, 0, 20]\n",
      "[10, 30, 20, 20, 30, 0, 20]\n"
     ]
    }
   ],
   "source": [
    "l1 = [10,20,20,30,0]\n",
    "l1.append(20)\n",
    "print(l1)\n",
    "l1.insert(1,30)      # takes two arguments, first index,value and inserts before the index\n",
    "print(l1)"
   ]
  },
  {
   "cell_type": "code",
   "execution_count": 76,
   "id": "eb7d00eb-be4f-4a6d-a800-404692920a63",
   "metadata": {},
   "outputs": [
    {
     "data": {
      "text/plain": [
       "[10, 20, 30, 40, 50, 'Apple', 100, 'Banana', 'Cherry', 40, 50]"
      ]
     },
     "execution_count": 76,
     "metadata": {},
     "output_type": "execute_result"
    }
   ],
   "source": [
    "l1 = [10,20,30,40,50,'Apple','Banana','Cherry',40,50]\n",
    "i = l1.index('Apple')\n",
    "l1.insert(i+1,100)  # inserts before the index or  new value index will be the provided i(index)\n",
    "l1"
   ]
  },
  {
   "cell_type": "code",
   "execution_count": 82,
   "id": "f7410b43-05e3-4f21-83e9-a124d9914270",
   "metadata": {},
   "outputs": [
    {
     "data": {
      "text/plain": [
       "[10, 20, 30, 40, 50, 'Apple', 'Banana', 'Cherry', 40, 50, 100]"
      ]
     },
     "execution_count": 82,
     "metadata": {},
     "output_type": "execute_result"
    }
   ],
   "source": [
    "l1 = [10,20,30,40,50,'Apple','Banana','Cherry',40,50]\n",
    "l1.append(100)        # by default last\n",
    "l1"
   ]
  },
  {
   "cell_type": "markdown",
   "id": "2bf3faae-051d-4df1-9c33-20a07d2824ad",
   "metadata": {},
   "source": [
    "**pop vs remove**"
   ]
  },
  {
   "cell_type": "code",
   "execution_count": 95,
   "id": "eab29cb7-7ab4-4290-81e4-0d6e594e4e71",
   "metadata": {},
   "outputs": [
    {
     "data": {
      "text/plain": [
       "[10, 20, 30, 40, 50, 'Apple', 'Banana', 'Cherry', 40]"
      ]
     },
     "execution_count": 95,
     "metadata": {},
     "output_type": "execute_result"
    }
   ],
   "source": [
    "l1 = [10,20,30,40,50,'Apple','Banana','Cherry',40,50]\n",
    "l1.pop()     # pops provided index value or last vaue if empty and returns the removed value\n",
    "l1"
   ]
  },
  {
   "cell_type": "code",
   "execution_count": 97,
   "id": "f9918950-d09a-4c22-b737-69f95db7f04d",
   "metadata": {},
   "outputs": [
    {
     "data": {
      "text/plain": [
       "[10, 20, 30, 40, 50, 'Banana', 'Cherry', 40, 50]"
      ]
     },
     "execution_count": 97,
     "metadata": {},
     "output_type": "execute_result"
    }
   ],
   "source": [
    "l1 = [10,20,30,40,50,'Apple','Banana','Cherry',40,50]\n",
    "l1.pop(5)     # pops provided index value or last vaue if empty and returns the removed value\n",
    "l1"
   ]
  },
  {
   "cell_type": "code",
   "execution_count": 91,
   "id": "18e5f6bd-e4f3-4cd1-a1b4-96382f1be02a",
   "metadata": {},
   "outputs": [
    {
     "data": {
      "text/plain": [
       "[10, 20, 30, 50, 'Apple', 'Banana', 'Cherry', 40, 50]"
      ]
     },
     "execution_count": 91,
     "metadata": {},
     "output_type": "execute_result"
    }
   ],
   "source": [
    "l1 = [10,20,30,40,50,'Apple','Banana','Cherry',40,50]\n",
    "l1.remove(40)    # removes the first occurence of the value\n",
    "l1"
   ]
  },
  {
   "cell_type": "code",
   "execution_count": 118,
   "id": "414d0f83-a53c-441e-94c5-8e709295eef1",
   "metadata": {},
   "outputs": [
    {
     "data": {
      "text/plain": [
       "[10, 20, 30, 40, 50, 'Banana', 'Cherry', 40, 50, 'Apple']"
      ]
     },
     "execution_count": 118,
     "metadata": {},
     "output_type": "execute_result"
    }
   ],
   "source": [
    "l1 = [10,20,30,40,50,'Apple','Banana','Cherry',40,50,'Apple']\n",
    "del(l1[5])   # builtin function removes element based on index\n",
    "l1"
   ]
  },
  {
   "cell_type": "code",
   "execution_count": 122,
   "id": "8e4ba9ec-8f6a-432b-889c-d88638d445fd",
   "metadata": {},
   "outputs": [
    {
     "name": "stdout",
     "output_type": "stream",
     "text": [
      "[10, 20, 30, 40, 50, 'Apple', 'Banana', 'Cherry', 40, 50, 'Apple']\n"
     ]
    },
    {
     "ename": "NameError",
     "evalue": "name 'l1' is not defined",
     "output_type": "error",
     "traceback": [
      "\u001b[1;31m---------------------------------------------------------------------------\u001b[0m",
      "\u001b[1;31mNameError\u001b[0m                                 Traceback (most recent call last)",
      "Cell \u001b[1;32mIn[122], line 4\u001b[0m\n\u001b[0;32m      2\u001b[0m \u001b[38;5;28mprint\u001b[39m(l1)\n\u001b[0;32m      3\u001b[0m \u001b[38;5;28;01mdel\u001b[39;00m(l1)  \u001b[38;5;66;03m# variable gone\u001b[39;00m\n\u001b[1;32m----> 4\u001b[0m l1\n",
      "\u001b[1;31mNameError\u001b[0m: name 'l1' is not defined"
     ]
    }
   ],
   "source": [
    "l1 = [10,20,30,40,50,'Apple','Banana','Cherry',40,50,'Apple']\n",
    "print(l1)\n",
    "del(l1)  # variable gone\n",
    "l1"
   ]
  },
  {
   "cell_type": "markdown",
   "id": "2e4fe16f-8cee-49aa-8dcb-7d4cba1fd98a",
   "metadata": {},
   "source": [
    "- if we want delete any element\n",
    "- pop: based on index\n",
    "- remove: based on value\n",
    "- del: is an inbuilt function and based on index"
   ]
  },
  {
   "cell_type": "code",
   "execution_count": 126,
   "id": "8a319e36-2ab7-4b0c-b44a-2172b4c67bfb",
   "metadata": {},
   "outputs": [
    {
     "data": {
      "text/plain": [
       "[10, 20, 30, 40, 50, 'Banana', 'Cherry', 40, 50, 'Apple']"
      ]
     },
     "execution_count": 126,
     "metadata": {},
     "output_type": "execute_result"
    }
   ],
   "source": [
    "l1 = [10,20,30,40,50,'Apple','Banana','Cherry',40,50,'Apple']\n",
    "del l1[5]  # del(l1[5])  we can also not provide brackets and works\n",
    "l1\n"
   ]
  },
  {
   "cell_type": "markdown",
   "id": "bb4009b1-d37f-4a02-abcf-d35c37c84d96",
   "metadata": {},
   "source": [
    "**reverse - reversed**\n",
    "\n",
    "- reverse is a method\n",
    "- reversed is a inbuilt function"
   ]
  },
  {
   "cell_type": "code",
   "execution_count": 145,
   "id": "b90ad00c-12ba-4434-bfa9-5e8f431b1b6a",
   "metadata": {},
   "outputs": [
    {
     "name": "stdout",
     "output_type": "stream",
     "text": [
      "['Apple', 50, 40, 'Cherry', 'Banana', 'Apple', 50, 40, 30, 20, 10]\n"
     ]
    }
   ],
   "source": [
    "l1 = [10,20,30,40,50,'Apple','Banana','Cherry',40,50,'Apple']\n",
    "l1.reverse()  # modifies the list so that values are placed in reverse\n",
    "print(l1)\n",
    "\n",
    "# Signature: l1.reverse()\n",
    "# Docstring: Reverse *IN PLACE*.\n",
    "# Type:      builtin_function_or_method"
   ]
  },
  {
   "cell_type": "markdown",
   "id": "3727f29a-bfaa-4037-835c-c5d4dd85fa1c",
   "metadata": {},
   "source": [
    "**in place**\n",
    "\n",
    "- when we perform the operations some times the values will not override\n",
    "- if we see **in place** word or **in place =True**\n",
    "- this indicates the output will be overwrite in corresponding variable"
   ]
  },
  {
   "cell_type": "code",
   "execution_count": 147,
   "id": "5f3147d4-7b20-40ec-a38e-cbdf474c59e4",
   "metadata": {},
   "outputs": [
    {
     "name": "stdout",
     "output_type": "stream",
     "text": [
      "[10, 20, 30, 40, 50, 'Apple', 'Banana', 'Cherry', 40, 50, 'Apple']\n",
      "['Apple', 50, 40, 'Cherry', 'Banana', 'Apple', 50, 40, 30, 20, 10]\n"
     ]
    }
   ],
   "source": [
    "l1 = [10,20,30,40,50,'Apple','Banana','Cherry',40,50,'Apple']\n",
    "l2 = reversed(l1)   # does not modify the list l1, but returns an id\n",
    "\n",
    "print(l1)\n",
    "print(list(l2))\n"
   ]
  },
  {
   "cell_type": "markdown",
   "id": "31a118ac-1b0b-4d1f-a53a-ffb7950f6ff3",
   "metadata": {},
   "source": [
    "**sort - sorted**"
   ]
  },
  {
   "cell_type": "code",
   "execution_count": 160,
   "id": "f147a740-48e6-4b81-9537-496985e5166d",
   "metadata": {},
   "outputs": [
    {
     "data": {
      "text/plain": [
       "[1, 2, 3, 4, 5, 6, 50]"
      ]
     },
     "execution_count": 160,
     "metadata": {},
     "output_type": "execute_result"
    }
   ],
   "source": [
    "l1 = [1,2,50,3,4,5,6]\n",
    "l1.sort()   # sort modifies the list\n",
    "l1"
   ]
  },
  {
   "cell_type": "code",
   "execution_count": 162,
   "id": "9057bcf2-5d86-4354-943d-47c7700fdb59",
   "metadata": {},
   "outputs": [
    {
     "data": {
      "text/plain": [
       "[50, 6, 5, 4, 3, 2, 1]"
      ]
     },
     "execution_count": 162,
     "metadata": {},
     "output_type": "execute_result"
    }
   ],
   "source": [
    "l1 = [1,2,50,3,4,5,6]\n",
    "l1.sort(reverse=True)   # sort modifies the list\n",
    "l1"
   ]
  },
  {
   "cell_type": "code",
   "execution_count": 158,
   "id": "9696ee04-1466-4abd-80d1-436216b83330",
   "metadata": {},
   "outputs": [
    {
     "name": "stdout",
     "output_type": "stream",
     "text": [
      "[1, 2, 50, 3, 4, 5, 6]\n",
      "[1, 2, 3, 4, 5, 6, 50]\n"
     ]
    }
   ],
   "source": [
    "l1 = [1,2,50,3,4,5,6]\n",
    "v =sorted(l1)   # sorted does not modify the list\n",
    "print(l1)\n",
    "print(v)"
   ]
  },
  {
   "cell_type": "code",
   "execution_count": 166,
   "id": "ae39ef6a-a511-4656-9187-2b074310fcc6",
   "metadata": {},
   "outputs": [
    {
     "name": "stdout",
     "output_type": "stream",
     "text": [
      "[1, 2, 50, 3, 4, 5, 6]\n",
      "[50, 6, 5, 4, 3, 2, 1]\n"
     ]
    }
   ],
   "source": [
    "l1 = [1,2,50,3,4,5,6]\n",
    "v =sorted(l1, reverse=True)   # sorted does not modify the list\n",
    "print(l1)\n",
    "print(v)"
   ]
  },
  {
   "cell_type": "code",
   "execution_count": 168,
   "id": "b5d9133a-e38c-40aa-a6f8-c32405c68fa4",
   "metadata": {},
   "outputs": [
    {
     "data": {
      "text/plain": [
       "['h', 'n', 'o', 'p', 't', 'y']"
      ]
     },
     "execution_count": 168,
     "metadata": {},
     "output_type": "execute_result"
    }
   ],
   "source": [
    "str1 = 'python'\n",
    "sorted(str1)  #strings list"
   ]
  },
  {
   "cell_type": "code",
   "execution_count": 172,
   "id": "9f81aaf2-c507-4c78-8b30-781235aa5a38",
   "metadata": {},
   "outputs": [
    {
     "ename": "AttributeError",
     "evalue": "'str' object has no attribute 'sort'",
     "output_type": "error",
     "traceback": [
      "\u001b[1;31m---------------------------------------------------------------------------\u001b[0m",
      "\u001b[1;31mAttributeError\u001b[0m                            Traceback (most recent call last)",
      "Cell \u001b[1;32mIn[172], line 1\u001b[0m\n\u001b[1;32m----> 1\u001b[0m str1\u001b[38;5;241m.\u001b[39msort()\n",
      "\u001b[1;31mAttributeError\u001b[0m: 'str' object has no attribute 'sort'"
     ]
    }
   ],
   "source": [
    "str1.sort()  # it is not available"
   ]
  },
  {
   "cell_type": "markdown",
   "id": "506a625a-a099-43c9-b1f9-2edfde336b55",
   "metadata": {},
   "source": [
    "- inbuilt function applicable for any data type\n",
    "- but methods works their own data types"
   ]
  },
  {
   "cell_type": "markdown",
   "id": "965fc3cc-16c9-403f-afc4-598859c6b34d",
   "metadata": {},
   "source": [
    "- clear\n",
    "- count\n",
    "- append/extend/insert\n",
    "- pop/remove/del\n",
    "- index\n",
    "- reverse/reversed\n",
    "- sort/sorted"
   ]
  },
  {
   "cell_type": "code",
   "execution_count": null,
   "id": "edc6a662-006c-40f0-b18d-6f067d173ba3",
   "metadata": {},
   "outputs": [],
   "source": []
  }
 ],
 "metadata": {
  "kernelspec": {
   "display_name": "Python [conda env:base] *",
   "language": "python",
   "name": "conda-base-py"
  },
  "language_info": {
   "codemirror_mode": {
    "name": "ipython",
    "version": 3
   },
   "file_extension": ".py",
   "mimetype": "text/x-python",
   "name": "python",
   "nbconvert_exporter": "python",
   "pygments_lexer": "ipython3",
   "version": "3.12.7"
  }
 },
 "nbformat": 4,
 "nbformat_minor": 5
}
