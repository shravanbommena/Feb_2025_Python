{
 "cells": [
  {
   "cell_type": "markdown",
   "id": "664bb911-873d-4afd-897a-c7b46148ca1b",
   "metadata": {},
   "source": [
    "## while loop"
   ]
  },
  {
   "cell_type": "markdown",
   "id": "0d6bd0ae-1d3e-4554-805d-d1ba22bb52bd",
   "metadata": {},
   "source": [
    "- initilization to start\n",
    "- increment or decrement\n",
    "- condition to stop"
   ]
  },
  {
   "cell_type": "code",
   "execution_count": null,
   "id": "71ab8cf6-9ca3-41a6-bb34-c93495bb0f55",
   "metadata": {},
   "outputs": [],
   "source": [
    "for i in range(1,10)\n",
    "in single line we have start=1 increment+=1 stop 10-1=9"
   ]
  },
  {
   "cell_type": "code",
   "execution_count": null,
   "id": "a59c1bfc-dde5-49bb-91e1-8ee9bacf75e5",
   "metadata": {},
   "outputs": [],
   "source": [
    "<initilization>\n",
    "\n",
    "while <condition>:\n",
    "    #====== python\n",
    "\n",
    "    increment/decrement"
   ]
  },
  {
   "cell_type": "code",
   "execution_count": null,
   "id": "dd8ca360-ff93-49a4-8c55-bf66a14809f5",
   "metadata": {},
   "outputs": [],
   "source": []
  },
  {
   "cell_type": "code",
   "execution_count": 4,
   "id": "286ca2a4-51f3-409c-b679-90bed6782e38",
   "metadata": {},
   "outputs": [
    {
     "name": "stdout",
     "output_type": "stream",
     "text": [
      "1 2 3 4 5 6 7 8 9 "
     ]
    }
   ],
   "source": [
    "# for i in range(1,10):\n",
    "#    print(i, end=\" \")        \n",
    "\n",
    "\n",
    "i = 1\n",
    "while i<10:\n",
    "    print(i, end=' ')\n",
    "    i+=1"
   ]
  },
  {
   "cell_type": "code",
   "execution_count": 6,
   "id": "b9ecc307-8162-40ba-a275-866112d05af7",
   "metadata": {},
   "outputs": [
    {
     "name": "stdout",
     "output_type": "stream",
     "text": [
      "1 2 "
     ]
    }
   ],
   "source": [
    "i = 1\n",
    "while i<3:\n",
    "    print(i, end=' ')\n",
    "    i+=1\n",
    "\n",
    "# step-1: i=1 while 1<3   True   print(1)  i=1+1\n",
    "# step-2: i=2 while 2<3   True   print(2)  i=2+1\n",
    "# step-3: i=3 while 3<3   False"
   ]
  },
  {
   "cell_type": "code",
   "execution_count": null,
   "id": "52917f81-61e6-47a0-8532-a29cdbba4915",
   "metadata": {},
   "outputs": [],
   "source": [
    "\n",
    "# Q2) print 10 to 1\n",
    "\n"
   ]
  },
  {
   "cell_type": "code",
   "execution_count": 8,
   "id": "71aa03f7-3e99-41f5-a804-f3d31423b2a9",
   "metadata": {},
   "outputs": [
    {
     "name": "stdout",
     "output_type": "stream",
     "text": [
      "1 2 3 4 5 6 7 8 9 10 "
     ]
    }
   ],
   "source": [
    "# Q1) print 1 to 10\n",
    "i = 1 \n",
    "while i <=10:\n",
    "    print(i, end=\" \")\n",
    "    i+=1"
   ]
  },
  {
   "cell_type": "code",
   "execution_count": 10,
   "id": "025805ae-acd4-4142-be41-f2236e370ac5",
   "metadata": {},
   "outputs": [
    {
     "name": "stdout",
     "output_type": "stream",
     "text": [
      "10 9 8 7 6 5 4 3 2 1 "
     ]
    }
   ],
   "source": [
    "# Q2) print 10 to 1\n",
    "i = 10\n",
    "while i >0:\n",
    "    print(i, end=\" \")\n",
    "    i-=1"
   ]
  },
  {
   "cell_type": "code",
   "execution_count": 12,
   "id": "eea40f87-6544-4dae-b346-b6f1b3f17226",
   "metadata": {},
   "outputs": [
    {
     "name": "stdout",
     "output_type": "stream",
     "text": [
      "-1 -2 -3 -4 -5 -6 -7 -8 -9 -10 "
     ]
    }
   ],
   "source": [
    "# Q3) print -1 to -10\n",
    "i = -1\n",
    "\n",
    "while i >=-10:\n",
    "    print(i, end=\" \")\n",
    "    i-=1"
   ]
  },
  {
   "cell_type": "code",
   "execution_count": 14,
   "id": "f845a4ba-e9d1-48b2-bf4f-801eb6c89ad6",
   "metadata": {},
   "outputs": [
    {
     "name": "stdout",
     "output_type": "stream",
     "text": [
      "-10 -9 -8 -7 -6 -5 -4 -3 -2 -1 "
     ]
    }
   ],
   "source": [
    "# Q4) print -10 to -1\n",
    "i = -10\n",
    "\n",
    "while i <=-1:\n",
    "    print(i, end=\" \")\n",
    "    i+=1\n",
    "    "
   ]
  },
  {
   "cell_type": "code",
   "execution_count": 18,
   "id": "46103ecd-d8b5-4634-a3d3-ca54ba392c37",
   "metadata": {},
   "outputs": [
    {
     "name": "stdout",
     "output_type": "stream",
     "text": [
      "10 9 8 7 6 5 4 3 2 1 "
     ]
    }
   ],
   "source": [
    "i = 10\n",
    "while True:\n",
    "    print(i, end=\" \")\n",
    "    i-=1\n",
    "    if i==0:\n",
    "        break"
   ]
  },
  {
   "cell_type": "code",
   "execution_count": null,
   "id": "9ab09f55-55d7-4c11-a994-dc2a3514c9b7",
   "metadata": {},
   "outputs": [],
   "source": []
  },
  {
   "cell_type": "code",
   "execution_count": null,
   "id": "1c9b82b2-28d3-403d-94e3-c3a6a8a81389",
   "metadata": {},
   "outputs": [],
   "source": []
  },
  {
   "cell_type": "code",
   "execution_count": null,
   "id": "b5402cb1-1de4-45ef-99ef-8a3e0df4cda1",
   "metadata": {},
   "outputs": [],
   "source": []
  }
 ],
 "metadata": {
  "kernelspec": {
   "display_name": "Python [conda env:base] *",
   "language": "python",
   "name": "conda-base-py"
  },
  "language_info": {
   "codemirror_mode": {
    "name": "ipython",
    "version": 3
   },
   "file_extension": ".py",
   "mimetype": "text/x-python",
   "name": "python",
   "nbconvert_exporter": "python",
   "pygments_lexer": "ipython3",
   "version": "3.12.7"
  }
 },
 "nbformat": 4,
 "nbformat_minor": 5
}
