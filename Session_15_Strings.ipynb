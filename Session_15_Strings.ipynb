{
 "cells": [
  {
   "cell_type": "markdown",
   "id": "2855b753-0c9b-454f-bd12-471189c3763f",
   "metadata": {},
   "source": [
    "- Basic representations\n",
    "- Inbuilt functions\n",
    "    - print\n",
    "    - type\n",
    "    - len\n",
    "    - sum\n",
    "    - max\n",
    "    - min\n",
    "    - sorted\n",
    "    - reversed\n",
    "- concatenation\n",
    "- indexing\n",
    "- mutable or immutable concept\n",
    "- slice\n",
    "- methods\n",
    "\n"
   ]
  },
  {
   "cell_type": "markdown",
   "id": "18e58ef1-85ee-40aa-ab32-45b980d15179",
   "metadata": {},
   "source": [
    "**Basic Representations**"
   ]
  },
  {
   "cell_type": "code",
   "execution_count": 9,
   "id": "b4f294d6-4674-47f2-9389-c9adb62e6123",
   "metadata": {},
   "outputs": [
    {
     "data": {
      "text/plain": [
       "'python'"
      ]
     },
     "execution_count": 9,
     "metadata": {},
     "output_type": "execute_result"
    }
   ],
   "source": [
    "name = 'python'\n",
    "name   # output with quote"
   ]
  },
  {
   "cell_type": "code",
   "execution_count": 7,
   "id": "d861987d-d855-450c-9770-17e7961c2b1b",
   "metadata": {},
   "outputs": [
    {
     "name": "stdout",
     "output_type": "stream",
     "text": [
      "python\n"
     ]
    }
   ],
   "source": [
    "print(name)   # we won't see quotes when printing"
   ]
  },
  {
   "cell_type": "code",
   "execution_count": 11,
   "id": "e801e209-6abc-43b2-ba5a-768a119b761b",
   "metadata": {},
   "outputs": [
    {
     "data": {
      "text/plain": [
       "'python'"
      ]
     },
     "execution_count": 11,
     "metadata": {},
     "output_type": "execute_result"
    }
   ],
   "source": [
    "name = \"python\"\n",
    "name"
   ]
  },
  {
   "cell_type": "markdown",
   "id": "8c0834ef-b57e-4de4-b830-4eccbe0f8d38",
   "metadata": {},
   "source": [
    "- python by default gives output in **single quotes**\n",
    "- when we print the string the output display **without quotes**"
   ]
  },
  {
   "cell_type": "code",
   "execution_count": 16,
   "id": "1e136727-e36d-4c88-8d8f-3b4387b25085",
   "metadata": {},
   "outputs": [
    {
     "name": "stdout",
     "output_type": "stream",
     "text": [
      "I love 'python'\n"
     ]
    }
   ],
   "source": [
    "string1 = \"I love 'python'\"\n",
    "print(string1)"
   ]
  },
  {
   "cell_type": "code",
   "execution_count": 20,
   "id": "a7c552cf-4773-40ce-9641-fac3dbe6f2f1",
   "metadata": {},
   "outputs": [
    {
     "name": "stdout",
     "output_type": "stream",
     "text": [
      "I love \"python\"\n"
     ]
    }
   ],
   "source": [
    "string2 = 'I love \"python\"'\n",
    "print(string2)"
   ]
  },
  {
   "cell_type": "markdown",
   "id": "b2b64295-443d-4563-a782-e300d12405f4",
   "metadata": {},
   "source": [
    "**Doc string**\n",
    "\n",
    "- triple quotes also called as doc string\n",
    "- triple quotes means the user try to convey some information\n"
   ]
  },
  {
   "cell_type": "markdown",
   "id": "bbc3baf0-84f4-4759-8c19-d84eb80cd9c3",
   "metadata": {},
   "source": [
    "**type**"
   ]
  },
  {
   "cell_type": "code",
   "execution_count": 25,
   "id": "70603cdf-aece-4e0e-a8d6-43a6c155bc83",
   "metadata": {},
   "outputs": [
    {
     "data": {
      "text/plain": [
       "str"
      ]
     },
     "execution_count": 25,
     "metadata": {},
     "output_type": "execute_result"
    }
   ],
   "source": [
    "name = 'python'\n",
    "type(name)"
   ]
  },
  {
   "cell_type": "code",
   "execution_count": 28,
   "id": "d7c4e1b1-6ea0-4723-9eba-6d8dfedb5894",
   "metadata": {},
   "outputs": [
    {
     "data": {
      "text/plain": [
       "6"
      ]
     },
     "execution_count": 28,
     "metadata": {},
     "output_type": "execute_result"
    }
   ],
   "source": [
    "name = 'python'\n",
    "len(name)"
   ]
  },
  {
   "cell_type": "code",
   "execution_count": 30,
   "id": "5197e8ca-b93e-4c07-893f-be0c666aadd9",
   "metadata": {},
   "outputs": [
    {
     "data": {
      "text/plain": [
       "'y'"
      ]
     },
     "execution_count": 30,
     "metadata": {},
     "output_type": "execute_result"
    }
   ],
   "source": [
    "name = 'python'\n",
    "max(name)"
   ]
  },
  {
   "cell_type": "code",
   "execution_count": 32,
   "id": "e6c6ced3-bafb-4aea-bfd4-dd55951e607a",
   "metadata": {},
   "outputs": [
    {
     "data": {
      "text/plain": [
       "'h'"
      ]
     },
     "execution_count": 32,
     "metadata": {},
     "output_type": "execute_result"
    }
   ],
   "source": [
    "name = 'python'\n",
    "min(name)"
   ]
  },
  {
   "cell_type": "code",
   "execution_count": 34,
   "id": "fc727e80-8bbc-4976-8fdd-7c4c352ff891",
   "metadata": {},
   "outputs": [
    {
     "ename": "TypeError",
     "evalue": "unsupported operand type(s) for +: 'int' and 'str'",
     "output_type": "error",
     "traceback": [
      "\u001b[1;31m---------------------------------------------------------------------------\u001b[0m",
      "\u001b[1;31mTypeError\u001b[0m                                 Traceback (most recent call last)",
      "Cell \u001b[1;32mIn[34], line 2\u001b[0m\n\u001b[0;32m      1\u001b[0m name \u001b[38;5;241m=\u001b[39m \u001b[38;5;124m'\u001b[39m\u001b[38;5;124mpython\u001b[39m\u001b[38;5;124m'\u001b[39m\n\u001b[1;32m----> 2\u001b[0m \u001b[38;5;28msum\u001b[39m(name)\n",
      "\u001b[1;31mTypeError\u001b[0m: unsupported operand type(s) for +: 'int' and 'str'"
     ]
    }
   ],
   "source": [
    "name = 'python'\n",
    "sum(name)"
   ]
  },
  {
   "cell_type": "code",
   "execution_count": 36,
   "id": "5534e471-cf6d-4286-b3b2-412c25a48856",
   "metadata": {},
   "outputs": [
    {
     "data": {
      "text/plain": [
       "['h', 'n', 'o', 'p', 't', 'y']"
      ]
     },
     "execution_count": 36,
     "metadata": {},
     "output_type": "execute_result"
    }
   ],
   "source": [
    "name = 'python'\n",
    "sorted(name)"
   ]
  },
  {
   "cell_type": "code",
   "execution_count": 38,
   "id": "6a22e338-9d0e-4fd6-8ed6-1855e7a23558",
   "metadata": {},
   "outputs": [
    {
     "data": {
      "text/plain": [
       "<reversed at 0x116dc8fa1a0>"
      ]
     },
     "execution_count": 38,
     "metadata": {},
     "output_type": "execute_result"
    }
   ],
   "source": [
    "name = 'python'\n",
    "reversed(name)"
   ]
  },
  {
   "cell_type": "markdown",
   "id": "192705f1-6c5b-43eb-8be1-b2cc4d9ebc1e",
   "metadata": {},
   "source": [
    "**len**"
   ]
  },
  {
   "cell_type": "code",
   "execution_count": 28,
   "id": "233decbf-34f9-4aea-beda-148fdf35a9da",
   "metadata": {},
   "outputs": [
    {
     "data": {
      "text/plain": [
       "6"
      ]
     },
     "execution_count": 28,
     "metadata": {},
     "output_type": "execute_result"
    }
   ],
   "source": [
    "name = 'python'\n",
    "len(name)"
   ]
  },
  {
   "cell_type": "markdown",
   "id": "fc887038-25cb-4a51-8b4f-ccd5fd4625d7",
   "metadata": {},
   "source": [
    "**max**"
   ]
  },
  {
   "cell_type": "code",
   "execution_count": 54,
   "id": "1e1e8b4e-2ce3-426b-8bf0-7b6c68dce4f6",
   "metadata": {},
   "outputs": [
    {
     "data": {
      "text/plain": [
       "'y'"
      ]
     },
     "execution_count": 54,
     "metadata": {},
     "output_type": "execute_result"
    }
   ],
   "source": [
    "max('python')"
   ]
  },
  {
   "cell_type": "code",
   "execution_count": 56,
   "id": "88a76dde-2983-4337-a390-af756ede0eed",
   "metadata": {},
   "outputs": [
    {
     "name": "stdout",
     "output_type": "stream",
     "text": [
      "112 p\n",
      "121 y\n",
      "116 t\n",
      "104 h\n",
      "111 o\n",
      "110 n\n"
     ]
    }
   ],
   "source": [
    "for i in 'python':\n",
    "    print(ord(i),i)"
   ]
  },
  {
   "cell_type": "markdown",
   "id": "44e61824-00fa-4c68-82d3-5e2aad232ba7",
   "metadata": {},
   "source": [
    "**min**"
   ]
  },
  {
   "cell_type": "code",
   "execution_count": 59,
   "id": "d1d9c5fc-5c8b-4acb-954f-66756d5d9d1f",
   "metadata": {},
   "outputs": [
    {
     "data": {
      "text/plain": [
       "'h'"
      ]
     },
     "execution_count": 59,
     "metadata": {},
     "output_type": "execute_result"
    }
   ],
   "source": [
    "min('python')"
   ]
  },
  {
   "cell_type": "markdown",
   "id": "049f573b-811f-4865-aa15-ca4da6b4fa67",
   "metadata": {},
   "source": [
    "**sum**"
   ]
  },
  {
   "cell_type": "code",
   "execution_count": 62,
   "id": "1cea6807-7b01-43ef-8034-6645c928283d",
   "metadata": {},
   "outputs": [
    {
     "ename": "TypeError",
     "evalue": "unsupported operand type(s) for +: 'int' and 'str'",
     "output_type": "error",
     "traceback": [
      "\u001b[1;31m---------------------------------------------------------------------------\u001b[0m",
      "\u001b[1;31mTypeError\u001b[0m                                 Traceback (most recent call last)",
      "Cell \u001b[1;32mIn[62], line 1\u001b[0m\n\u001b[1;32m----> 1\u001b[0m \u001b[38;5;28msum\u001b[39m(\u001b[38;5;124m'\u001b[39m\u001b[38;5;124mpython\u001b[39m\u001b[38;5;124m'\u001b[39m)\n",
      "\u001b[1;31mTypeError\u001b[0m: unsupported operand type(s) for +: 'int' and 'str'"
     ]
    }
   ],
   "source": [
    "sum('python')"
   ]
  },
  {
   "cell_type": "code",
   "execution_count": 64,
   "id": "80d11bcb-8268-4681-82da-19f584cdd102",
   "metadata": {},
   "outputs": [
    {
     "data": {
      "text/plain": [
       "190"
      ]
     },
     "execution_count": 64,
     "metadata": {},
     "output_type": "execute_result"
    }
   ],
   "source": [
    "sum(range(1,20))"
   ]
  },
  {
   "cell_type": "markdown",
   "id": "17cd942c-c353-4d36-bcf2-31eb5b5a1992",
   "metadata": {},
   "source": [
    "**sorted**"
   ]
  },
  {
   "cell_type": "markdown",
   "id": "59061bd5-f3f7-4376-9ce2-f74263ef4c30",
   "metadata": {},
   "source": [
    "- sorted means either ascending or descending order\n",
    "- ascending order: small to big\n",
    "- descending order: big to small"
   ]
  },
  {
   "cell_type": "code",
   "execution_count": null,
   "id": "0ed8e7ca-f03f-4506-a857-451aa86e1b6d",
   "metadata": {},
   "outputs": [],
   "source": [
    "sorted('python')\n"
   ]
  },
  {
   "cell_type": "code",
   "execution_count": null,
   "id": "ef70597a-a2c9-4ee5-a0e4-2499aae7e503",
   "metadata": {},
   "outputs": [],
   "source": [
    "**iterable**: anythoing that can be print using loop\n",
    "\n",
    "/ : means don't give keyword arguments before, you can give after\n",
    "\n",
    "* :"
   ]
  },
  {
   "cell_type": "code",
   "execution_count": 68,
   "id": "3662c96e-3fe6-4d6b-94bd-1544c5233b97",
   "metadata": {},
   "outputs": [
    {
     "name": "stdout",
     "output_type": "stream",
     "text": [
      "30\n"
     ]
    }
   ],
   "source": [
    "def add(a,b):\n",
    "    print(a+b)\n",
    "\n",
    "add(10,20)"
   ]
  },
  {
   "cell_type": "code",
   "execution_count": 70,
   "id": "d872b90a-8536-4184-a7a3-8877ef5c23d5",
   "metadata": {},
   "outputs": [
    {
     "name": "stdout",
     "output_type": "stream",
     "text": [
      "30\n"
     ]
    }
   ],
   "source": [
    "def add(a,b):\n",
    "    print(a+b)\n",
    "\n",
    "add(a=10,b=20)"
   ]
  },
  {
   "cell_type": "code",
   "execution_count": 72,
   "id": "316d5df7-b162-47c2-a3bf-f6bad0eae93e",
   "metadata": {},
   "outputs": [
    {
     "ename": "TypeError",
     "evalue": "add() got some positional-only arguments passed as keyword arguments: 'a'",
     "output_type": "error",
     "traceback": [
      "\u001b[1;31m---------------------------------------------------------------------------\u001b[0m",
      "\u001b[1;31mTypeError\u001b[0m                                 Traceback (most recent call last)",
      "Cell \u001b[1;32mIn[72], line 4\u001b[0m\n\u001b[0;32m      1\u001b[0m \u001b[38;5;28;01mdef\u001b[39;00m \u001b[38;5;21madd\u001b[39m(a,\u001b[38;5;241m/\u001b[39m,b):\n\u001b[0;32m      2\u001b[0m     \u001b[38;5;28mprint\u001b[39m(a\u001b[38;5;241m+\u001b[39mb)\n\u001b[1;32m----> 4\u001b[0m add(a\u001b[38;5;241m=\u001b[39m\u001b[38;5;241m10\u001b[39m,b\u001b[38;5;241m=\u001b[39m\u001b[38;5;241m20\u001b[39m)\n",
      "\u001b[1;31mTypeError\u001b[0m: add() got some positional-only arguments passed as keyword arguments: 'a'"
     ]
    }
   ],
   "source": [
    "def add(a,/,b):\n",
    "    print(a+b)\n",
    "\n",
    "add(a=10,b=20)"
   ]
  },
  {
   "cell_type": "code",
   "execution_count": 74,
   "id": "8a631021-046b-4abd-be3c-ea6623c0406c",
   "metadata": {},
   "outputs": [
    {
     "name": "stdout",
     "output_type": "stream",
     "text": [
      "30\n"
     ]
    }
   ],
   "source": [
    "def add(a,/,b):\n",
    "    print(a+b)\n",
    "\n",
    "add(10,b=20)"
   ]
  },
  {
   "cell_type": "code",
   "execution_count": 76,
   "id": "224ed0d3-7476-467b-853a-62693b50e7f5",
   "metadata": {},
   "outputs": [
    {
     "ename": "SyntaxError",
     "evalue": "positional argument follows keyword argument (187450653.py, line 4)",
     "output_type": "error",
     "traceback": [
      "\u001b[1;36m  Cell \u001b[1;32mIn[76], line 4\u001b[1;36m\u001b[0m\n\u001b[1;33m    add(a=10,20)\u001b[0m\n\u001b[1;37m               ^\u001b[0m\n\u001b[1;31mSyntaxError\u001b[0m\u001b[1;31m:\u001b[0m positional argument follows keyword argument\n"
     ]
    }
   ],
   "source": [
    "def add(a,/,b):\n",
    "    print(a+b)\n",
    "\n",
    "add(a=10,20)"
   ]
  },
  {
   "cell_type": "code",
   "execution_count": 81,
   "id": "5f6347dd-eb38-4da4-8d96-9bafffd260f6",
   "metadata": {},
   "outputs": [
    {
     "ename": "TypeError",
     "evalue": "add() got some positional-only arguments passed as keyword arguments: 'a'",
     "output_type": "error",
     "traceback": [
      "\u001b[1;31m---------------------------------------------------------------------------\u001b[0m",
      "\u001b[1;31mTypeError\u001b[0m                                 Traceback (most recent call last)",
      "Cell \u001b[1;32mIn[81], line 4\u001b[0m\n\u001b[0;32m      1\u001b[0m \u001b[38;5;28;01mdef\u001b[39;00m \u001b[38;5;21madd\u001b[39m(a,\u001b[38;5;241m/\u001b[39m,b):\n\u001b[0;32m      2\u001b[0m     \u001b[38;5;28mprint\u001b[39m(a\u001b[38;5;241m+\u001b[39mb)\n\u001b[1;32m----> 4\u001b[0m add(\u001b[38;5;241m20\u001b[39m,a\u001b[38;5;241m=\u001b[39m\u001b[38;5;241m10\u001b[39m)\n",
      "\u001b[1;31mTypeError\u001b[0m: add() got some positional-only arguments passed as keyword arguments: 'a'"
     ]
    }
   ],
   "source": [
    "def add(a,/,b):\n",
    "    print(a+b)\n",
    "\n",
    "add(20,a=10)"
   ]
  },
  {
   "cell_type": "code",
   "execution_count": 83,
   "id": "04af605a-e61d-4f5e-9cb9-d258d2fd5eaf",
   "metadata": {},
   "outputs": [
    {
     "ename": "TypeError",
     "evalue": "sorted expected 1 argument, got 0",
     "output_type": "error",
     "traceback": [
      "\u001b[1;31m---------------------------------------------------------------------------\u001b[0m",
      "\u001b[1;31mTypeError\u001b[0m                                 Traceback (most recent call last)",
      "Cell \u001b[1;32mIn[83], line 1\u001b[0m\n\u001b[1;32m----> 1\u001b[0m \u001b[38;5;28msorted\u001b[39m(iterable\u001b[38;5;241m=\u001b[39m\u001b[38;5;124m'\u001b[39m\u001b[38;5;124mpython\u001b[39m\u001b[38;5;124m'\u001b[39m)\n",
      "\u001b[1;31mTypeError\u001b[0m: sorted expected 1 argument, got 0"
     ]
    }
   ],
   "source": [
    "sorted(iterable='python')"
   ]
  },
  {
   "cell_type": "markdown",
   "id": "614b02cf-7d8b-4fa6-afe6-521dfadc8f88",
   "metadata": {},
   "source": [
    "**Note:** \n",
    "- / before don't use argument name\n",
    "- / after you can use argument name, that is your wish\n",
    "- \\* indicates no need to maintain the order of the orguments"
   ]
  },
  {
   "cell_type": "code",
   "execution_count": 89,
   "id": "ce825de8-2459-41aa-926d-3affe4864750",
   "metadata": {},
   "outputs": [
    {
     "name": "stdout",
     "output_type": "stream",
     "text": [
      "60\n"
     ]
    }
   ],
   "source": [
    "def add(a,/,*,b,c):\n",
    "    print(a+b+c)\n",
    "\n",
    "add(10,c=20,b=30)"
   ]
  },
  {
   "cell_type": "code",
   "execution_count": 91,
   "id": "ba7d6e78-4245-42ae-870b-00710bc24fb5",
   "metadata": {},
   "outputs": [
    {
     "ename": "TypeError",
     "evalue": "add() takes 1 positional argument but 3 were given",
     "output_type": "error",
     "traceback": [
      "\u001b[1;31m---------------------------------------------------------------------------\u001b[0m",
      "\u001b[1;31mTypeError\u001b[0m                                 Traceback (most recent call last)",
      "Cell \u001b[1;32mIn[91], line 4\u001b[0m\n\u001b[0;32m      1\u001b[0m \u001b[38;5;28;01mdef\u001b[39;00m \u001b[38;5;21madd\u001b[39m(a,\u001b[38;5;241m/\u001b[39m,\u001b[38;5;241m*\u001b[39m,b,c):\n\u001b[0;32m      2\u001b[0m     \u001b[38;5;28mprint\u001b[39m(a\u001b[38;5;241m+\u001b[39mb\u001b[38;5;241m+\u001b[39mc)\n\u001b[1;32m----> 4\u001b[0m add(\u001b[38;5;241m10\u001b[39m,\u001b[38;5;241m20\u001b[39m,\u001b[38;5;241m30\u001b[39m)\n",
      "\u001b[1;31mTypeError\u001b[0m: add() takes 1 positional argument but 3 were given"
     ]
    }
   ],
   "source": [
    "def add(a,/,*,b,c):\n",
    "    print(a+b+c)\n",
    "\n",
    "add(10,20,30)"
   ]
  },
  {
   "cell_type": "code",
   "execution_count": 93,
   "id": "78bf641e-1f45-4e83-8b5c-ff00c38e310c",
   "metadata": {},
   "outputs": [
    {
     "ename": "TypeError",
     "evalue": "add() takes 1 positional argument but 2 positional arguments (and 1 keyword-only argument) were given",
     "output_type": "error",
     "traceback": [
      "\u001b[1;31m---------------------------------------------------------------------------\u001b[0m",
      "\u001b[1;31mTypeError\u001b[0m                                 Traceback (most recent call last)",
      "Cell \u001b[1;32mIn[93], line 4\u001b[0m\n\u001b[0;32m      1\u001b[0m \u001b[38;5;28;01mdef\u001b[39;00m \u001b[38;5;21madd\u001b[39m(a,\u001b[38;5;241m/\u001b[39m,\u001b[38;5;241m*\u001b[39m,b,c):\n\u001b[0;32m      2\u001b[0m     pritn(a\u001b[38;5;241m+\u001b[39mb\u001b[38;5;241m+\u001b[39mc)\n\u001b[1;32m----> 4\u001b[0m add(\u001b[38;5;241m10\u001b[39m,\u001b[38;5;241m20\u001b[39m,c\u001b[38;5;241m=\u001b[39m\u001b[38;5;241m30\u001b[39m)\n",
      "\u001b[1;31mTypeError\u001b[0m: add() takes 1 positional argument but 2 positional arguments (and 1 keyword-only argument) were given"
     ]
    }
   ],
   "source": [
    "def add(a,/,*,b,c):\n",
    "    pritn(a+b+c)\n",
    "\n",
    "add(10,20,c=30)"
   ]
  },
  {
   "cell_type": "markdown",
   "id": "992f36e2-014c-44b7-bfbe-80890b371da6",
   "metadata": {},
   "source": [
    "**Note**\n",
    "\n",
    "\\* indicates provide the argument name\n",
    "<!-- <img src='C:\\\\Users\\\\user\\\\Pictures\\\\special_char.PNG'> -->\n",
    "![alt text](Pictures\\special_char.png)\n",
    "\n",
    "- reference: https://realpython.com/python-asterisk-and-slash-special-parameters/"
   ]
  },
  {
   "cell_type": "code",
   "execution_count": null,
   "id": "c4e30de0-6f06-4875-976f-982d76a3289f",
   "metadata": {},
   "outputs": [],
   "source": [
    "sorted('python',True)  # W  by default reverse=False\n",
    "sorted(iterable='python')  # F\n",
    "sorted('python', reverse=True)  # W\n",
    "sorted(iterable='python', reverse=True)  # F\n",
    "sorted('python',True)  #F\n",
    "\n",
    "# / before don't use === correct\n",
    "# * after you should use ==== wrong"
   ]
  },
  {
   "cell_type": "markdown",
   "id": "38dfcb8e-43c0-4bce-8324-60883b4e7b10",
   "metadata": {},
   "source": [
    "**reversed**"
   ]
  },
  {
   "cell_type": "code",
   "execution_count": 99,
   "id": "6ec0e80b-9c7a-443f-96f1-5c8ed8f13354",
   "metadata": {},
   "outputs": [
    {
     "ename": "TypeError",
     "evalue": "reversed() takes no keyword arguments",
     "output_type": "error",
     "traceback": [
      "\u001b[1;31m---------------------------------------------------------------------------\u001b[0m",
      "\u001b[1;31mTypeError\u001b[0m                                 Traceback (most recent call last)",
      "Cell \u001b[1;32mIn[99], line 1\u001b[0m\n\u001b[1;32m----> 1\u001b[0m \u001b[38;5;28mreversed\u001b[39m(sequence\u001b[38;5;241m=\u001b[39m\u001b[38;5;124m'\u001b[39m\u001b[38;5;124mprashanth\u001b[39m\u001b[38;5;124m'\u001b[39m)\n",
      "\u001b[1;31mTypeError\u001b[0m: reversed() takes no keyword arguments"
     ]
    }
   ],
   "source": [
    "reversed(sequence='prashanth')"
   ]
  },
  {
   "cell_type": "code",
   "execution_count": 101,
   "id": "6ef694d0-901e-43e6-b87c-66ec27b0bfe9",
   "metadata": {},
   "outputs": [
    {
     "data": {
      "text/plain": [
       "<reversed at 0x116dfb9c670>"
      ]
     },
     "execution_count": 101,
     "metadata": {},
     "output_type": "execute_result"
    }
   ],
   "source": [
    "reversed('prashanth')   # we can see when answer is in < > the answer can be seen by for loop or list() method list(ans)"
   ]
  },
  {
   "cell_type": "code",
   "execution_count": 103,
   "id": "16832950-c159-4a78-8339-11d102379900",
   "metadata": {},
   "outputs": [
    {
     "data": {
      "text/plain": [
       "<reversed at 0x116dfb9e590>"
      ]
     },
     "execution_count": 103,
     "metadata": {},
     "output_type": "execute_result"
    }
   ],
   "source": [
    "ans = reversed('prashanth')\n",
    "ans"
   ]
  },
  {
   "cell_type": "markdown",
   "id": "8a36b023-c3dc-422b-b8f7-eac293c2cc90",
   "metadata": {},
   "source": [
    "- Answer saved at address memory location\n",
    "- we can see the answer by using for loop or list\n",
    "- whenever we see less than greater than symbol answer\n",
    "- try to apply for loop or list"
   ]
  },
  {
   "cell_type": "code",
   "execution_count": 105,
   "id": "d454aaf4-7d0f-4026-95a4-48db3599503b",
   "metadata": {},
   "outputs": [
    {
     "name": "stdout",
     "output_type": "stream",
     "text": [
      "h\n",
      "t\n",
      "n\n",
      "a\n",
      "h\n",
      "s\n",
      "a\n",
      "r\n",
      "p\n"
     ]
    }
   ],
   "source": [
    "for i in ans:\n",
    "    print(i)"
   ]
  },
  {
   "cell_type": "code",
   "execution_count": 118,
   "id": "86d39f65-d4c3-4649-8528-56ed30c8b8fa",
   "metadata": {},
   "outputs": [
    {
     "data": {
      "text/plain": [
       "['h', 't', 'n', 'a', 'h', 's', 'a', 'r', 'p']"
      ]
     },
     "execution_count": 118,
     "metadata": {},
     "output_type": "execute_result"
    }
   ],
   "source": [
    "ans = reversed('prashanth')\n",
    "list(ans)"
   ]
  },
  {
   "cell_type": "markdown",
   "id": "8ff11514-6944-45ac-bdf6-2789a8085c2e",
   "metadata": {},
   "source": [
    "**Concatenation**"
   ]
  },
  {
   "cell_type": "code",
   "execution_count": 138,
   "id": "1d8b3fbd-a14b-439e-af42-a54c0ebf0820",
   "metadata": {},
   "outputs": [
    {
     "name": "stdout",
     "output_type": "stream",
     "text": [
      "hellopython\n"
     ]
    }
   ],
   "source": [
    "str1 = 'hello'\n",
    "str2 = 'python'\n",
    "print(str1+str2)\n",
    "\n"
   ]
  },
  {
   "cell_type": "code",
   "execution_count": 132,
   "id": "9f6a7c2f-b56c-4874-ae23-2a7a92bf286f",
   "metadata": {},
   "outputs": [
    {
     "ename": "TypeError",
     "evalue": "unsupported operand type(s) for -: 'str' and 'str'",
     "output_type": "error",
     "traceback": [
      "\u001b[1;31m---------------------------------------------------------------------------\u001b[0m",
      "\u001b[1;31mTypeError\u001b[0m                                 Traceback (most recent call last)",
      "Cell \u001b[1;32mIn[132], line 1\u001b[0m\n\u001b[1;32m----> 1\u001b[0m str1\u001b[38;5;241m-\u001b[39mstr2\n",
      "\u001b[1;31mTypeError\u001b[0m: unsupported operand type(s) for -: 'str' and 'str'"
     ]
    }
   ],
   "source": [
    "str1-str2"
   ]
  },
  {
   "cell_type": "code",
   "execution_count": 136,
   "id": "7c1b1758-a72c-45ac-b515-2600f29f763a",
   "metadata": {},
   "outputs": [
    {
     "ename": "TypeError",
     "evalue": "can't multiply sequence by non-int of type 'str'",
     "output_type": "error",
     "traceback": [
      "\u001b[1;31m---------------------------------------------------------------------------\u001b[0m",
      "\u001b[1;31mTypeError\u001b[0m                                 Traceback (most recent call last)",
      "Cell \u001b[1;32mIn[136], line 1\u001b[0m\n\u001b[1;32m----> 1\u001b[0m \u001b[38;5;28mprint\u001b[39m(str1\u001b[38;5;241m*\u001b[39mstr2)\n",
      "\u001b[1;31mTypeError\u001b[0m: can't multiply sequence by non-int of type 'str'"
     ]
    }
   ],
   "source": [
    "print(str1*str2)"
   ]
  },
  {
   "cell_type": "code",
   "execution_count": 134,
   "id": "d2f72b1a-efe8-4064-8223-359771197007",
   "metadata": {},
   "outputs": [
    {
     "ename": "TypeError",
     "evalue": "unsupported operand type(s) for /: 'str' and 'str'",
     "output_type": "error",
     "traceback": [
      "\u001b[1;31m---------------------------------------------------------------------------\u001b[0m",
      "\u001b[1;31mTypeError\u001b[0m                                 Traceback (most recent call last)",
      "Cell \u001b[1;32mIn[134], line 1\u001b[0m\n\u001b[1;32m----> 1\u001b[0m str1\u001b[38;5;241m/\u001b[39mstr2\n",
      "\u001b[1;31mTypeError\u001b[0m: unsupported operand type(s) for /: 'str' and 'str'"
     ]
    }
   ],
   "source": [
    "str1/str2"
   ]
  },
  {
   "cell_type": "code",
   "execution_count": 142,
   "id": "6edbbf95-e190-4a38-9066-e0dab06465a3",
   "metadata": {},
   "outputs": [
    {
     "data": {
      "text/plain": [
       "'python python python '"
      ]
     },
     "execution_count": 142,
     "metadata": {},
     "output_type": "execute_result"
    }
   ],
   "source": [
    "'python '*3"
   ]
  },
  {
   "cell_type": "code",
   "execution_count": 144,
   "id": "2dbc51dd-5af7-4fe9-9c9f-698a6bbde946",
   "metadata": {},
   "outputs": [
    {
     "data": {
      "text/plain": [
       "'hello python'"
      ]
     },
     "execution_count": 144,
     "metadata": {},
     "output_type": "execute_result"
    }
   ],
   "source": [
    "str1= 'hello '\n",
    "str2 = 'python'\n",
    "str1+str2"
   ]
  },
  {
   "cell_type": "code",
   "execution_count": 146,
   "id": "33f0164e-c9b9-4e3e-8863-2064752f3a74",
   "metadata": {},
   "outputs": [
    {
     "data": {
      "text/plain": [
       "'hello python'"
      ]
     },
     "execution_count": 146,
     "metadata": {},
     "output_type": "execute_result"
    }
   ],
   "source": [
    "str1 = 'hello'\n",
    "str2 = ' python'\n",
    "str1+str2"
   ]
  },
  {
   "cell_type": "code",
   "execution_count": 148,
   "id": "2a83fd7e-bdfd-4263-92af-729d35567eb3",
   "metadata": {},
   "outputs": [
    {
     "data": {
      "text/plain": [
       "'hello python'"
      ]
     },
     "execution_count": 148,
     "metadata": {},
     "output_type": "execute_result"
    }
   ],
   "source": [
    "str1 = 'hello'\n",
    "str2 = 'python'\n",
    "str1+ ' '+ str2"
   ]
  },
  {
   "cell_type": "code",
   "execution_count": 173,
   "id": "c352da77-550b-40e1-8893-fb4433a1f57f",
   "metadata": {},
   "outputs": [
    {
     "name": "stdout",
     "output_type": "stream",
     "text": [
      "shravan\n"
     ]
    }
   ],
   "source": [
    "name = 'shravan'\n",
    "print(name)\n"
   ]
  },
  {
   "cell_type": "code",
   "execution_count": 175,
   "id": "5f06a777-18c2-4081-8861-aa49ed1239f8",
   "metadata": {},
   "outputs": [
    {
     "data": {
      "text/plain": [
       "32"
      ]
     },
     "execution_count": 175,
     "metadata": {},
     "output_type": "execute_result"
    }
   ],
   "source": [
    "min(name)\n",
    "ord(' ')"
   ]
  },
  {
   "cell_type": "code",
   "execution_count": 177,
   "id": "0a028986-40cb-4e9d-afeb-8343dc507787",
   "metadata": {},
   "outputs": [
    {
     "data": {
      "text/plain": [
       "'v'"
      ]
     },
     "execution_count": 177,
     "metadata": {},
     "output_type": "execute_result"
    }
   ],
   "source": [
    "max(name)"
   ]
  },
  {
   "cell_type": "code",
   "execution_count": 179,
   "id": "ac4116ca-0915-43bb-a80a-f87a0b05c45e",
   "metadata": {},
   "outputs": [
    {
     "data": {
      "text/plain": [
       "7"
      ]
     },
     "execution_count": 179,
     "metadata": {},
     "output_type": "execute_result"
    }
   ],
   "source": [
    "len(name)"
   ]
  },
  {
   "cell_type": "code",
   "execution_count": 181,
   "id": "425e675d-a441-4ae5-a5fd-d10468d1765e",
   "metadata": {},
   "outputs": [
    {
     "data": {
      "text/plain": [
       "['a', 'a', 'h', 'n', 'r', 's', 'v']"
      ]
     },
     "execution_count": 181,
     "metadata": {},
     "output_type": "execute_result"
    }
   ],
   "source": [
    "sorted(name)"
   ]
  },
  {
   "cell_type": "code",
   "execution_count": 183,
   "id": "c7a1272b-b865-47ed-a43f-7c73baa81ccc",
   "metadata": {},
   "outputs": [
    {
     "ename": "TypeError",
     "evalue": "sorted expected 1 argument, got 0",
     "output_type": "error",
     "traceback": [
      "\u001b[1;31m---------------------------------------------------------------------------\u001b[0m",
      "\u001b[1;31mTypeError\u001b[0m                                 Traceback (most recent call last)",
      "Cell \u001b[1;32mIn[183], line 1\u001b[0m\n\u001b[1;32m----> 1\u001b[0m \u001b[38;5;28msorted\u001b[39m(iterable\u001b[38;5;241m=\u001b[39mname)\n",
      "\u001b[1;31mTypeError\u001b[0m: sorted expected 1 argument, got 0"
     ]
    }
   ],
   "source": [
    "sorted(iterable=name)"
   ]
  },
  {
   "cell_type": "code",
   "execution_count": 185,
   "id": "56f3aa8d-add0-4a98-8d62-4a17c0f5a8ac",
   "metadata": {},
   "outputs": [
    {
     "data": {
      "text/plain": [
       "['v', 's', 'r', 'n', 'h', 'a', 'a']"
      ]
     },
     "execution_count": 185,
     "metadata": {},
     "output_type": "execute_result"
    }
   ],
   "source": [
    "sorted(name, reverse=True)"
   ]
  },
  {
   "cell_type": "code",
   "execution_count": 187,
   "id": "a2393334-85fb-4df8-91a8-cdcbedf1bc4c",
   "metadata": {},
   "outputs": [
    {
     "ename": "TypeError",
     "evalue": "sorted expected 1 argument, got 0",
     "output_type": "error",
     "traceback": [
      "\u001b[1;31m---------------------------------------------------------------------------\u001b[0m",
      "\u001b[1;31mTypeError\u001b[0m                                 Traceback (most recent call last)",
      "Cell \u001b[1;32mIn[187], line 1\u001b[0m\n\u001b[1;32m----> 1\u001b[0m \u001b[38;5;28msorted\u001b[39m(iterable\u001b[38;5;241m=\u001b[39mname, reverse\u001b[38;5;241m=\u001b[39m\u001b[38;5;28;01mTrue\u001b[39;00m)\n",
      "\u001b[1;31mTypeError\u001b[0m: sorted expected 1 argument, got 0"
     ]
    }
   ],
   "source": [
    "sorted(iterable=name, reverse=True)"
   ]
  },
  {
   "cell_type": "code",
   "execution_count": 189,
   "id": "af595526-19f1-45c7-8939-a26b7ade9774",
   "metadata": {},
   "outputs": [
    {
     "data": {
      "text/plain": [
       "['a', 'a', 'h', 'n', 'r', 's', 'v']"
      ]
     },
     "execution_count": 189,
     "metadata": {},
     "output_type": "execute_result"
    }
   ],
   "source": [
    "sorted(name, reverse=False)"
   ]
  },
  {
   "cell_type": "code",
   "execution_count": 191,
   "id": "c1ec88a9-f125-4f37-9c99-127e86f0c050",
   "metadata": {},
   "outputs": [
    {
     "data": {
      "text/plain": [
       "<reversed at 0x116dedf96f0>"
      ]
     },
     "execution_count": 191,
     "metadata": {},
     "output_type": "execute_result"
    }
   ],
   "source": [
    "reversed(name)"
   ]
  },
  {
   "cell_type": "code",
   "execution_count": 195,
   "id": "2010dfbb-01d1-47dd-84cc-5b6260cfb2fd",
   "metadata": {},
   "outputs": [
    {
     "name": "stdout",
     "output_type": "stream",
     "text": [
      "navarhs"
     ]
    }
   ],
   "source": [
    "ans = reversed(name)\n",
    "for i in ans:\n",
    "    print(i,end='')"
   ]
  },
  {
   "cell_type": "code",
   "execution_count": 197,
   "id": "5992a504-8e7c-4c2c-8b45-07845e88ced1",
   "metadata": {},
   "outputs": [
    {
     "data": {
      "text/plain": [
       "['n', 'a', 'v', 'a', 'r', 'h', 's']"
      ]
     },
     "execution_count": 197,
     "metadata": {},
     "output_type": "execute_result"
    }
   ],
   "source": [
    "ans = reversed(name)\n",
    "list(ans)"
   ]
  },
  {
   "cell_type": "code",
   "execution_count": 199,
   "id": "e1069f1a-e076-43d1-8601-3cd263d05c25",
   "metadata": {},
   "outputs": [
    {
     "data": {
      "text/plain": [
       "'HelloWorld'"
      ]
     },
     "execution_count": 199,
     "metadata": {},
     "output_type": "execute_result"
    }
   ],
   "source": [
    "str1 = 'Hello'\n",
    "str2 = 'World'\n",
    "str1+str2"
   ]
  },
  {
   "cell_type": "code",
   "execution_count": 201,
   "id": "68eb9f8d-5fda-4cf6-a7a9-c4eb2199ac1a",
   "metadata": {},
   "outputs": [
    {
     "data": {
      "text/plain": [
       "'HelloHelloHello'"
      ]
     },
     "execution_count": 201,
     "metadata": {},
     "output_type": "execute_result"
    }
   ],
   "source": [
    "str1*3"
   ]
  },
  {
   "cell_type": "code",
   "execution_count": 203,
   "id": "ef370d86-0ab5-4a49-8732-488d43ff5841",
   "metadata": {},
   "outputs": [
    {
     "data": {
      "text/plain": [
       "'Hello   '"
      ]
     },
     "execution_count": 203,
     "metadata": {},
     "output_type": "execute_result"
    }
   ],
   "source": [
    "str1+\" \"*3"
   ]
  },
  {
   "cell_type": "code",
   "execution_count": 205,
   "id": "2f7edc9f-aac3-4219-b9a4-95c2b1614c03",
   "metadata": {},
   "outputs": [
    {
     "data": {
      "text/plain": [
       "'Hello Hello Hello '"
      ]
     },
     "execution_count": 205,
     "metadata": {},
     "output_type": "execute_result"
    }
   ],
   "source": [
    "(str1+\" \")*3"
   ]
  },
  {
   "cell_type": "code",
   "execution_count": 215,
   "id": "628c2c91-bef4-46cf-9089-2f1b99457655",
   "metadata": {},
   "outputs": [
    {
     "ename": "TypeError",
     "evalue": "add() takes 2 positional arguments but 3 were given",
     "output_type": "error",
     "traceback": [
      "\u001b[1;31m---------------------------------------------------------------------------\u001b[0m",
      "\u001b[1;31mTypeError\u001b[0m                                 Traceback (most recent call last)",
      "Cell \u001b[1;32mIn[215], line 4\u001b[0m\n\u001b[0;32m      1\u001b[0m \u001b[38;5;28;01mdef\u001b[39;00m \u001b[38;5;21madd\u001b[39m(a,\u001b[38;5;241m/\u001b[39m,b,\u001b[38;5;241m*\u001b[39m,c):\n\u001b[0;32m      2\u001b[0m     \u001b[38;5;28mprint\u001b[39m(a\u001b[38;5;241m+\u001b[39mb\u001b[38;5;241m+\u001b[39mc)\n\u001b[1;32m----> 4\u001b[0m add(\u001b[38;5;241m10\u001b[39m,\u001b[38;5;241m20\u001b[39m,\u001b[38;5;241m30\u001b[39m)\n",
      "\u001b[1;31mTypeError\u001b[0m: add() takes 2 positional arguments but 3 were given"
     ]
    }
   ],
   "source": [
    "def add(a,/,b,*,c):\n",
    "    print(a+b+c)\n",
    "\n",
    "add(10,20,30)"
   ]
  },
  {
   "cell_type": "code",
   "execution_count": 217,
   "id": "93bc4424-ad11-4d79-8749-cf77e479c46a",
   "metadata": {},
   "outputs": [
    {
     "ename": "SyntaxError",
     "evalue": "positional argument follows keyword argument (427406301.py, line 4)",
     "output_type": "error",
     "traceback": [
      "\u001b[1;36m  Cell \u001b[1;32mIn[217], line 4\u001b[1;36m\u001b[0m\n\u001b[1;33m    add(a=10,20,30)\u001b[0m\n\u001b[1;37m                  ^\u001b[0m\n\u001b[1;31mSyntaxError\u001b[0m\u001b[1;31m:\u001b[0m positional argument follows keyword argument\n"
     ]
    }
   ],
   "source": [
    "def add(a,/,b,*,c):\n",
    "    print(a+b+c)\n",
    "\n",
    "add(a=10,20,30)"
   ]
  },
  {
   "cell_type": "code",
   "execution_count": 221,
   "id": "1bc27a98-64d5-4c03-8396-9db1839ea90e",
   "metadata": {},
   "outputs": [
    {
     "ename": "TypeError",
     "evalue": "add() got some positional-only arguments passed as keyword arguments: 'a'",
     "output_type": "error",
     "traceback": [
      "\u001b[1;31m---------------------------------------------------------------------------\u001b[0m",
      "\u001b[1;31mTypeError\u001b[0m                                 Traceback (most recent call last)",
      "Cell \u001b[1;32mIn[221], line 4\u001b[0m\n\u001b[0;32m      1\u001b[0m \u001b[38;5;28;01mdef\u001b[39;00m \u001b[38;5;21madd\u001b[39m(a,\u001b[38;5;241m/\u001b[39m,b,\u001b[38;5;241m*\u001b[39m,c):\n\u001b[0;32m      2\u001b[0m     \u001b[38;5;28mprint\u001b[39m(a\u001b[38;5;241m+\u001b[39mb\u001b[38;5;241m+\u001b[39mc)\n\u001b[1;32m----> 4\u001b[0m add(a\u001b[38;5;241m=\u001b[39m\u001b[38;5;241m10\u001b[39m,b\u001b[38;5;241m=\u001b[39m\u001b[38;5;241m20\u001b[39m)\n",
      "\u001b[1;31mTypeError\u001b[0m: add() got some positional-only arguments passed as keyword arguments: 'a'"
     ]
    }
   ],
   "source": [
    "def add(a,/,b,*,c):\n",
    "    print(a+b+c)\n",
    "\n",
    "add(a=10,b=20)"
   ]
  },
  {
   "cell_type": "code",
   "execution_count": 223,
   "id": "962249d8-e20d-44fc-a053-1be0947d7ca0",
   "metadata": {},
   "outputs": [
    {
     "ename": "TypeError",
     "evalue": "add() got some positional-only arguments passed as keyword arguments: 'a'",
     "output_type": "error",
     "traceback": [
      "\u001b[1;31m---------------------------------------------------------------------------\u001b[0m",
      "\u001b[1;31mTypeError\u001b[0m                                 Traceback (most recent call last)",
      "Cell \u001b[1;32mIn[223], line 4\u001b[0m\n\u001b[0;32m      1\u001b[0m \u001b[38;5;28;01mdef\u001b[39;00m \u001b[38;5;21madd\u001b[39m(a,\u001b[38;5;241m/\u001b[39m,b,\u001b[38;5;241m*\u001b[39m,c):\n\u001b[0;32m      2\u001b[0m     \u001b[38;5;28mprint\u001b[39m(a\u001b[38;5;241m+\u001b[39mb\u001b[38;5;241m+\u001b[39mc)\n\u001b[1;32m----> 4\u001b[0m add(a\u001b[38;5;241m=\u001b[39m\u001b[38;5;241m10\u001b[39m,b\u001b[38;5;241m=\u001b[39m\u001b[38;5;241m20\u001b[39m,c\u001b[38;5;241m=\u001b[39m\u001b[38;5;241m30\u001b[39m)\n",
      "\u001b[1;31mTypeError\u001b[0m: add() got some positional-only arguments passed as keyword arguments: 'a'"
     ]
    }
   ],
   "source": [
    "def add(a,/,b,*,c):\n",
    "    print(a+b+c)\n",
    "\n",
    "add(a=10,b=20,c=30)"
   ]
  },
  {
   "cell_type": "code",
   "execution_count": 225,
   "id": "c71967c8-b42c-4970-ba03-7ff2572c86ef",
   "metadata": {},
   "outputs": [
    {
     "name": "stdout",
     "output_type": "stream",
     "text": [
      "60\n"
     ]
    }
   ],
   "source": [
    "def add(a,/,b,*,c):\n",
    "    print(a+b+c)\n",
    "\n",
    "add(10,b=20,c=30)"
   ]
  },
  {
   "cell_type": "code",
   "execution_count": 227,
   "id": "d31f4c38-184d-40b4-be35-1ec555ca5577",
   "metadata": {},
   "outputs": [
    {
     "name": "stdout",
     "output_type": "stream",
     "text": [
      "60\n"
     ]
    }
   ],
   "source": [
    "def add(a,/,b,*,c):\n",
    "    print(a+b+c)\n",
    "\n",
    "add(10,20,c=30)"
   ]
  },
  {
   "cell_type": "code",
   "execution_count": 28,
   "id": "8bb3b612-36ac-4226-8efe-12bea8ec0882",
   "metadata": {},
   "outputs": [
    {
     "data": {
      "text/plain": [
       "6"
      ]
     },
     "execution_count": 28,
     "metadata": {},
     "output_type": "execute_result"
    }
   ],
   "source": [
    "def add(a,/,b,*,c):\n",
    "    print(a+b+c)\n",
    "\n",
    "add()"
   ]
  },
  {
   "cell_type": "markdown",
   "id": "7d0eb646-85e7-44c4-9577-33bfac319e19",
   "metadata": {},
   "source": [
    "**index**"
   ]
  },
  {
   "cell_type": "code",
   "execution_count": 2,
   "id": "3e71c9ea-9ee3-457f-bdd0-a4b1204cf3be",
   "metadata": {},
   "outputs": [
    {
     "data": {
      "text/plain": [
       "'python'"
      ]
     },
     "execution_count": 2,
     "metadata": {},
     "output_type": "execute_result"
    }
   ],
   "source": [
    "str1 = 'python'\n",
    "str1"
   ]
  },
  {
   "cell_type": "code",
   "execution_count": null,
   "id": "2b0076a3-2071-4af0-ad75-6ac91b810454",
   "metadata": {},
   "outputs": [],
   "source": [
    "-6 -5 -4 -3 -2 -1\n",
    " p  y  t  h  o  n\n",
    " 0  1  2  3  4  5"
   ]
  },
  {
   "cell_type": "markdown",
   "id": "5feb92cb-3838-4a7c-bd52-121c0adca158",
   "metadata": {},
   "source": [
    "- access the characters or elements use square bracket"
   ]
  },
  {
   "cell_type": "code",
   "execution_count": 11,
   "id": "6a12cc4e-80c8-4146-b9eb-8eb2ffc99fd1",
   "metadata": {},
   "outputs": [
    {
     "data": {
      "text/plain": [
       "('n', 'n')"
      ]
     },
     "execution_count": 11,
     "metadata": {},
     "output_type": "execute_result"
    }
   ],
   "source": [
    "str1[0],str1[-6]  # p,p\n",
    "str1[1],str1[-5]  # y,y\n",
    "str1[2],str1[-4]  # t,t\n",
    "str1[3],str1[-3]  # h,h\n",
    "str1[4],str1[-2]  # o,o\n",
    "str1[5],str1[-1]  # n,n"
   ]
  },
  {
   "cell_type": "code",
   "execution_count": null,
   "id": "317c6194-6583-481f-a35d-221a7a87ea59",
   "metadata": {},
   "outputs": [],
   "source": [
    "str1[0]\n",
    "str1[1]\n",
    "str1[2]\n",
    "str1[3]\n",
    "str1[4]\n",
    "str1[5]\n",
    "\n",
    "str1[i]"
   ]
  },
  {
   "cell_type": "code",
   "execution_count": 15,
   "id": "f2800534-5a10-4c3f-aca2-3bd2f9e284db",
   "metadata": {},
   "outputs": [
    {
     "name": "stdout",
     "output_type": "stream",
     "text": [
      "p\n",
      "y\n",
      "t\n",
      "h\n",
      "o\n",
      "n\n"
     ]
    }
   ],
   "source": [
    "for i in range(0,6):\n",
    "    print(str1[i])"
   ]
  },
  {
   "cell_type": "code",
   "execution_count": 21,
   "id": "1bd28dbf-7595-4849-8717-5b51bb62946e",
   "metadata": {},
   "outputs": [
    {
     "name": "stdout",
     "output_type": "stream",
     "text": [
      "hello how are you"
     ]
    }
   ],
   "source": [
    "str1 = 'hello how are you'\n",
    "n = len(str1)\n",
    "for i in range(0,n):\n",
    "    print(str1[i], end='')\n",
    "    "
   ]
  },
  {
   "cell_type": "code",
   "execution_count": 25,
   "id": "28eab8f6-6289-46a6-8c08-e379a129922d",
   "metadata": {},
   "outputs": [
    {
     "name": "stdout",
     "output_type": "stream",
     "text": [
      "the positive index of p is 0\n",
      "the positive index of y is 1\n",
      "the positive index of t is 2\n",
      "the positive index of h is 3\n",
      "the positive index of o is 4\n",
      "the positive index of n is 5\n"
     ]
    }
   ],
   "source": [
    "# Q1)\n",
    "str1 = 'python'\n",
    "n = len(str1)\n",
    "for i in range(0,n):\n",
    "    print(f\"the positive index of {str1[i]} is {i}\")"
   ]
  },
  {
   "cell_type": "markdown",
   "id": "e9d90bef-eb49-404e-b47e-78decb96451c",
   "metadata": {},
   "source": [
    "**note**: for negative index without changing range we can do like    index-len(str1)    "
   ]
  },
  {
   "cell_type": "code",
   "execution_count": 45,
   "id": "63ee1fb7-9249-42b6-80a1-b9af74c27fd4",
   "metadata": {},
   "outputs": [
    {
     "name": "stdout",
     "output_type": "stream",
     "text": [
      "the negative index of p is -6\n",
      "the negative index of y is -5\n",
      "the negative index of t is -4\n",
      "the negative index of h is -3\n",
      "the negative index of o is -2\n",
      "the negative index of n is -1\n"
     ]
    }
   ],
   "source": [
    "# Q2)\n",
    "str1 = 'python'\n",
    "n = len(str1)\n",
    "for i in range(-n,0):\n",
    "    print(f\"the negative index of {str1[i]} is {i}\")"
   ]
  },
  {
   "cell_type": "code",
   "execution_count": 54,
   "id": "f97368e5-5a29-495c-85fb-83bff906a917",
   "metadata": {},
   "outputs": [
    {
     "name": "stdout",
     "output_type": "stream",
     "text": [
      "the negative index of p is -6\n",
      "the negative index of y is -5\n",
      "the negative index of t is -4\n",
      "the negative index of h is -3\n",
      "the negative index of o is -2\n",
      "the negative index of n is -1\n"
     ]
    }
   ],
   "source": [
    "# Q2)solution-2\n",
    "str1 = 'python'\n",
    "n = len(str1)\n",
    "for i in range(0,n):\n",
    "    print(f\"the negative index of {str1[i]} is {i-n}\")"
   ]
  },
  {
   "cell_type": "code",
   "execution_count": 56,
   "id": "e69e5382-7a23-4eec-917b-025869064b08",
   "metadata": {},
   "outputs": [
    {
     "name": "stdout",
     "output_type": "stream",
     "text": [
      "the positive index of p is 0, and negative index is: -6\n",
      "the positive index of y is 1, and negative index is: -5\n",
      "the positive index of t is 2, and negative index is: -4\n",
      "the positive index of h is 3, and negative index is: -3\n",
      "the positive index of o is 4, and negative index is: -2\n",
      "the positive index of n is 5, and negative index is: -1\n"
     ]
    }
   ],
   "source": [
    "# Q3)\n",
    "str1 = 'python'\n",
    "n = len(str1)\n",
    "for i in range(0,n):\n",
    "    print(f\"the positive index of {str1[i]} is {i}, and negative index is: {(n*-1)+i}\")   # we can write (i-n) for negative"
   ]
  },
  {
   "cell_type": "code",
   "execution_count": 58,
   "id": "12506ab0-c780-4d36-b523-7f9d76710f1f",
   "metadata": {},
   "outputs": [
    {
     "name": "stdout",
     "output_type": "stream",
     "text": [
      "the positive index of p is 0, and negative index is: -6\n",
      "the positive index of y is 1, and negative index is: -5\n",
      "the positive index of t is 2, and negative index is: -4\n",
      "the positive index of h is 3, and negative index is: -3\n",
      "the positive index of o is 4, and negative index is: -2\n",
      "the positive index of n is 5, and negative index is: -1\n"
     ]
    }
   ],
   "source": [
    "# Q3) solution-2\n",
    "str1 = 'python'\n",
    "n = len(str1)\n",
    "for i in range(0,n):\n",
    "    print(f\"the positive index of {str1[i]} is {i}, and negative index is: {i-n}\")   # we can write (i-n) for negative"
   ]
  },
  {
   "cell_type": "markdown",
   "id": "937a1334-6833-436f-b9c5-d6553638b897",
   "metadata": {},
   "source": [
    "**when to use **in** - when to use **range** operator**"
   ]
  },
  {
   "cell_type": "markdown",
   "id": "22745b6a-8805-4305-9a08-979b04ca4c15",
   "metadata": {},
   "source": [
    "- **in** operator directly access the elements\n",
    "- **range** operator access the elements using index or numbers\n",
    "- any problem statement if you need numbers then go for **range**\n",
    "- otherwise go for **in** operator direcetly"
   ]
  },
  {
   "cell_type": "code",
   "execution_count": 69,
   "id": "712d3975-4500-465b-84fb-e0f34b02e84f",
   "metadata": {},
   "outputs": [
    {
     "name": "stdout",
     "output_type": "stream",
     "text": [
      "p\n",
      "y\n",
      "t\n",
      "h\n",
      "o\n",
      "n\n"
     ]
    }
   ],
   "source": [
    "for i in str1:\n",
    "    print(i)"
   ]
  },
  {
   "cell_type": "code",
   "execution_count": 71,
   "id": "82df30dd-72b4-461f-a881-8a39212d237a",
   "metadata": {},
   "outputs": [
    {
     "name": "stdout",
     "output_type": "stream",
     "text": [
      "p\n",
      "y\n",
      "t\n",
      "h\n",
      "o\n",
      "n\n"
     ]
    }
   ],
   "source": [
    "for i in range(0,len(str1)):\n",
    "    print(str1[i])"
   ]
  },
  {
   "cell_type": "code",
   "execution_count": 78,
   "id": "d75869f5-8964-48fb-90ab-3c5c5c60938d",
   "metadata": {},
   "outputs": [
    {
     "name": "stdout",
     "output_type": "stream",
     "text": [
      "a index is: 2\n",
      "a index is: 6\n",
      "a index is: 10\n"
     ]
    }
   ],
   "source": [
    "# Q4) write a program to find the indexes of 'a' in a given string\n",
    "\n",
    "str1 = 'ola ola ola'\n",
    "for i in range(0, len(str1)):\n",
    "    if str1[i]=='a':\n",
    "        print(f\"a index is: {i}\")"
   ]
  },
  {
   "cell_type": "code",
   "execution_count": 108,
   "id": "26405358-6d1b-4ed7-856c-49de8bcd3fa4",
   "metadata": {},
   "outputs": [
    {
     "name": "stdout",
     "output_type": "stream",
     "text": [
      "sum of 'a' indexes in 'ola ola ola' is: 18\n"
     ]
    }
   ],
   "source": [
    "# Q5)\n",
    "str1 = 'ola ola ola'\n",
    "summ=0\n",
    "n = len(str1)\n",
    "for i in range(0,n):\n",
    "    if str1[i] == 'a':\n",
    "        summ+=i\n",
    "\n",
    "print(f\"sum of 'a' indexes in '{str1}' is: {summ}\")"
   ]
  },
  {
   "cell_type": "code",
   "execution_count": 102,
   "id": "c6e201a8-211d-423f-a806-b8eba1ccac5e",
   "metadata": {},
   "outputs": [
    {
     "name": "stdout",
     "output_type": "stream",
     "text": [
      "count of 'a'  in 'ola ola ola' is: 3\n"
     ]
    }
   ],
   "source": [
    "# Q6)\n",
    "str1 = 'ola ola ola'\n",
    "count=0\n",
    "# n = len(str1)\n",
    "for i in str1:\n",
    "    if i == 'a':\n",
    "        count+=1\n",
    "\n",
    "print(f\"count of 'a'  in '{str1}' is: {count}\")"
   ]
  },
  {
   "cell_type": "code",
   "execution_count": 106,
   "id": "5229df61-d747-4ac0-a317-c569b7322a50",
   "metadata": {},
   "outputs": [
    {
     "name": "stdout",
     "output_type": "stream",
     "text": [
      "count of 'a' in 'hai how are you' is: 7\n"
     ]
    }
   ],
   "source": [
    "# Q7)\n",
    "str1 = 'hai how are you'\n",
    "count=0\n",
    "# n = len(str1)\n",
    "for i in str1:\n",
    "    if i in 'aeiou':\n",
    "        count+=1\n",
    "\n",
    "print(f\"count of 'a' in '{str1}' is: {count}\")"
   ]
  },
  {
   "cell_type": "code",
   "execution_count": 120,
   "id": "1e0e0aa2-b1ab-4a70-aa26-5cd570523f9f",
   "metadata": {},
   "outputs": [
    {
     "name": "stdout",
     "output_type": "stream",
     "text": [
      "a\n",
      "e\n"
     ]
    }
   ],
   "source": [
    "# Q8) wap to find the vowels which are repeating then print only one time\n",
    "# example:   helleo\n",
    "#    e is coming two times but we want to print only one time\n",
    "str1 = 'aaae' #ae\n",
    "str2 = ''\n",
    "for i in str1:\n",
    "    if i in 'aeiou' and i not in str2:\n",
    "        print(i)\n",
    "        str2+=i\n",
    "\n",
    "# print(str2)"
   ]
  },
  {
   "cell_type": "markdown",
   "id": "83ab600f-919b-4312-80f8-56fa26fed678",
   "metadata": {},
   "source": [
    "**mutable-immutable**\n",
    "\n"
   ]
  },
  {
   "cell_type": "markdown",
   "id": "90580097-e434-4f69-827f-98efbd6b1c41",
   "metadata": {},
   "source": [
    "- mutable means change\n",
    "- immutable means can not change\n",
    "- we can not change the elements using index operations"
   ]
  },
  {
   "cell_type": "code",
   "execution_count": 129,
   "id": "e4dff8f9-927a-4540-82e7-e2311725bc55",
   "metadata": {},
   "outputs": [
    {
     "ename": "TypeError",
     "evalue": "'str' object does not support item assignment",
     "output_type": "error",
     "traceback": [
      "\u001b[1;31m---------------------------------------------------------------------------\u001b[0m",
      "\u001b[1;31mTypeError\u001b[0m                                 Traceback (most recent call last)",
      "Cell \u001b[1;32mIn[129], line 2\u001b[0m\n\u001b[0;32m      1\u001b[0m str1 \u001b[38;5;241m=\u001b[39m \u001b[38;5;124m'\u001b[39m\u001b[38;5;124mhello\u001b[39m\u001b[38;5;124m'\u001b[39m\n\u001b[1;32m----> 2\u001b[0m str1[\u001b[38;5;241m2\u001b[39m]\u001b[38;5;241m=\u001b[39m\u001b[38;5;124m'\u001b[39m\u001b[38;5;124mL\u001b[39m\u001b[38;5;124m'\u001b[39m\n",
      "\u001b[1;31mTypeError\u001b[0m: 'str' object does not support item assignment"
     ]
    }
   ],
   "source": [
    "str1 = 'hello'\n",
    "str1[2]='L'\n",
    "# we can not change the string using index, so string is immutable"
   ]
  },
  {
   "cell_type": "code",
   "execution_count": 127,
   "id": "a53c9f72-68cc-4307-a0df-a25d4fcdd1ac",
   "metadata": {},
   "outputs": [
    {
     "data": {
      "text/plain": [
       "[10, 200, 30]"
      ]
     },
     "execution_count": 127,
     "metadata": {},
     "output_type": "execute_result"
    }
   ],
   "source": [
    "l = [10,20,30]\n",
    "l[1]=200\n",
    "l"
   ]
  },
  {
   "cell_type": "markdown",
   "id": "49c6402e-d0c7-46be-81a0-e64bd89275a9",
   "metadata": {},
   "source": [
    "**slice**\n",
    "\n",
    "- slice means cut into pieces\n",
    "- it has similar analogy with for loop range\n",
    "- in the for loop range we have start, stop, step\n",
    "- range(start,stop,step)  str[start:stop:step]"
   ]
  },
  {
   "cell_type": "code",
   "execution_count": null,
   "id": "b411e0d0-f3e1-4b0f-b0c1-3d921b3a7a15",
   "metadata": {},
   "outputs": [],
   "source": [
    "-17 -16 -15 -14 -13 -12 -11 -10 -9 -8 -7 -6 -5 -4 -3 -2 -1\n",
    " h   e   l   l   o       h   o   w     a  r  e     y  o  u\n",
    " 0   1   2   3   4   5   6   7   8  9  10 11 12 13 14 15 16"
   ]
  },
  {
   "cell_type": "markdown",
   "id": "bc9c4a11-3955-459c-b915-22b3924e3bf9",
   "metadata": {},
   "source": [
    "$case-1$\n",
    "\n",
    "**str[:stop]**\n",
    "\n",
    "- by default start = 0\n",
    "- by default step = positive direction 1\n",
    "- last = stop-1"
   ]
  },
  {
   "cell_type": "code",
   "execution_count": 6,
   "id": "13af4f63-5067-47f9-bab0-2a9b2e8b6de1",
   "metadata": {},
   "outputs": [
    {
     "data": {
      "text/plain": [
       "'hello'"
      ]
     },
     "execution_count": 6,
     "metadata": {},
     "output_type": "execute_result"
    }
   ],
   "source": [
    "str1 = 'hello how are you'\n",
    "str1[:5]\n",
    "#start = 0   step =1  stop=5-1=4"
   ]
  },
  {
   "cell_type": "markdown",
   "id": "030c7489-8975-4fd4-84c8-2210d001d2d7",
   "metadata": {},
   "source": [
    "$case-2$\n",
    "\n",
    "**str[start:]**\n",
    "\n",
    "- by default start = start value\n",
    "- by default step = positive direction 1\n",
    "- last = last index"
   ]
  },
  {
   "cell_type": "code",
   "execution_count": 9,
   "id": "85eb33a5-71c1-4eda-9634-231bc8a8bde4",
   "metadata": {},
   "outputs": [
    {
     "data": {
      "text/plain": [
       "' how are you'"
      ]
     },
     "execution_count": 9,
     "metadata": {},
     "output_type": "execute_result"
    }
   ],
   "source": [
    "str1[5:]"
   ]
  },
  {
   "cell_type": "code",
   "execution_count": 11,
   "id": "3abe7b58-6e07-42ef-8e1c-0a9729a3e2e8",
   "metadata": {},
   "outputs": [
    {
     "data": {
      "text/plain": [
       "'you'"
      ]
     },
     "execution_count": 11,
     "metadata": {},
     "output_type": "execute_result"
    }
   ],
   "source": [
    "str1[-3:]"
   ]
  },
  {
   "cell_type": "markdown",
   "id": "4f9cd61a-21f1-4a33-a945-dc19d816accd",
   "metadata": {},
   "source": [
    "$case-3$\n",
    "\n",
    "**str[start:stop]**\n",
    "\n",
    "- by default start = start value\n",
    "- by default step = positive direction 1\n",
    "- last = stop-1"
   ]
  },
  {
   "cell_type": "code",
   "execution_count": 13,
   "id": "cc643d95-629c-4a4c-8a32-ef4603d27615",
   "metadata": {},
   "outputs": [
    {
     "data": {
      "text/plain": [
       "'are y'"
      ]
     },
     "execution_count": 13,
     "metadata": {},
     "output_type": "execute_result"
    }
   ],
   "source": [
    "# -17 -16 -15 -14 -13 -12 -11 -10 -9 -8 -7 -6 -5 -4 -3 -2 -1\n",
    "#  h   e   l   l   o       h   o   w     a  r  e     y  o  u\n",
    "#  0   1   2   3   4   5   6   7   8  9  10 11 12 13 14 15 16\n",
    "\n",
    "str1[10:15]"
   ]
  },
  {
   "cell_type": "code",
   "execution_count": 15,
   "id": "7a0b01d6-83e2-47ab-9ba6-cd3bcec3e844",
   "metadata": {},
   "outputs": [
    {
     "data": {
      "text/plain": [
       "'llo how '"
      ]
     },
     "execution_count": 15,
     "metadata": {},
     "output_type": "execute_result"
    }
   ],
   "source": [
    "str1[-15:10]"
   ]
  },
  {
   "cell_type": "code",
   "execution_count": 17,
   "id": "b14d9819-896f-4691-897a-269fca475b3c",
   "metadata": {},
   "outputs": [
    {
     "data": {
      "text/plain": [
       "''"
      ]
     },
     "execution_count": 17,
     "metadata": {},
     "output_type": "execute_result"
    }
   ],
   "source": [
    "str1[-12:5]"
   ]
  },
  {
   "cell_type": "code",
   "execution_count": 19,
   "id": "2d9484b2-8273-42f0-a3e1-028354a3914d",
   "metadata": {},
   "outputs": [
    {
     "data": {
      "text/plain": [
       "' '"
      ]
     },
     "execution_count": 19,
     "metadata": {},
     "output_type": "execute_result"
    }
   ],
   "source": [
    "str1[-12:6]"
   ]
  },
  {
   "cell_type": "code",
   "execution_count": 27,
   "id": "f013d287-bde7-4522-8b18-b6729b949bfd",
   "metadata": {},
   "outputs": [
    {
     "data": {
      "text/plain": [
       "''"
      ]
     },
     "execution_count": 27,
     "metadata": {},
     "output_type": "execute_result"
    }
   ],
   "source": [
    "str1[-1:2]"
   ]
  },
  {
   "cell_type": "code",
   "execution_count": 21,
   "id": "3726ad71-f782-4a1f-98b0-1ed5424794ee",
   "metadata": {},
   "outputs": [
    {
     "data": {
      "text/plain": [
       "'llo how a'"
      ]
     },
     "execution_count": 21,
     "metadata": {},
     "output_type": "execute_result"
    }
   ],
   "source": [
    "str1[2:-6]"
   ]
  },
  {
   "cell_type": "code",
   "execution_count": 25,
   "id": "73cf276d-1c76-4fcc-baca-2811f466e4a9",
   "metadata": {},
   "outputs": [],
   "source": [
    "for i in range(2,-3):\n",
    "    print(i)   # real line"
   ]
  },
  {
   "cell_type": "markdown",
   "id": "eedd285a-ae31-4c45-9572-0a9ff3b47057",
   "metadata": {},
   "source": [
    "$case-4$\n",
    "\n",
    "**str[start:stop: step]**\n",
    "\n",
    "- by default start = start value\n",
    "- if step is positive value\n",
    "  - last = stop-1\n",
    "- if step is negative\n",
    "  - last = stop+1\n",
    "- last = stop-1"
   ]
  },
  {
   "cell_type": "code",
   "execution_count": 31,
   "id": "23df5cdb-01fd-43c8-a387-43d4ebc0d7cb",
   "metadata": {},
   "outputs": [
    {
     "data": {
      "text/plain": [
       "'o '"
      ]
     },
     "execution_count": 31,
     "metadata": {},
     "output_type": "execute_result"
    }
   ],
   "source": [
    "# -17 -16 -15 -14 -13 -12 -11 -10 -9 -8 -7 -6 -5 -4 -3 -2 -1\n",
    "#  h   e   l   l   o       h   o   w     a  r  e     y  o  u\n",
    "#  0   1   2   3   4   5   6   7   8  9  10 11 12 13 14 15 16\n",
    "\n",
    "str1[-10:4:-2]"
   ]
  },
  {
   "cell_type": "code",
   "execution_count": 33,
   "id": "6f37f521-36e4-4a5b-996d-3f4b6b556d4d",
   "metadata": {},
   "outputs": [
    {
     "data": {
      "text/plain": [
       "''"
      ]
     },
     "execution_count": 33,
     "metadata": {},
     "output_type": "execute_result"
    }
   ],
   "source": [
    "str1[-10:4:2]"
   ]
  },
  {
   "cell_type": "code",
   "execution_count": 35,
   "id": "6a1ff9f7-8e14-4b7f-a142-2c066dba9512",
   "metadata": {},
   "outputs": [
    {
     "data": {
      "text/plain": [
       "' olleh'"
      ]
     },
     "execution_count": 35,
     "metadata": {},
     "output_type": "execute_result"
    }
   ],
   "source": [
    "str1[-12::-1]"
   ]
  },
  {
   "cell_type": "code",
   "execution_count": 37,
   "id": "2ab9435d-2ad2-45cb-a2df-0aebe410c91f",
   "metadata": {},
   "outputs": [
    {
     "data": {
      "text/plain": [
       "' how are you'"
      ]
     },
     "execution_count": 37,
     "metadata": {},
     "output_type": "execute_result"
    }
   ],
   "source": [
    "str1[-12::]"
   ]
  },
  {
   "cell_type": "code",
   "execution_count": 49,
   "id": "0c7e43b6-5a41-4704-a272-0f058554165d",
   "metadata": {},
   "outputs": [
    {
     "data": {
      "text/plain": [
       "'llo how are you'"
      ]
     },
     "execution_count": 49,
     "metadata": {},
     "output_type": "execute_result"
    }
   ],
   "source": [
    "str1[2:150]"
   ]
  },
  {
   "cell_type": "code",
   "execution_count": 41,
   "id": "73231a87-7e10-4ff3-a5b0-38edeb7371a3",
   "metadata": {},
   "outputs": [
    {
     "data": {
      "text/plain": [
       "'hello how are you'"
      ]
     },
     "execution_count": 41,
     "metadata": {},
     "output_type": "execute_result"
    }
   ],
   "source": [
    "str1[:]"
   ]
  },
  {
   "cell_type": "code",
   "execution_count": 45,
   "id": "d682f12c-13b4-4992-b806-42aacae66e36",
   "metadata": {},
   "outputs": [
    {
     "data": {
      "text/plain": [
       "'hello how are you'"
      ]
     },
     "execution_count": 45,
     "metadata": {},
     "output_type": "execute_result"
    }
   ],
   "source": [
    "str1[::]"
   ]
  },
  {
   "cell_type": "code",
   "execution_count": 47,
   "id": "82cd869c-afd1-40e5-b3cb-e2293a8b8157",
   "metadata": {},
   "outputs": [
    {
     "data": {
      "text/plain": [
       "'uoy era woh olleh'"
      ]
     },
     "execution_count": 47,
     "metadata": {},
     "output_type": "execute_result"
    }
   ],
   "source": [
    "str1[::-1]"
   ]
  },
  {
   "cell_type": "markdown",
   "id": "b653968c-e5ca-4203-8355-6bcd58f1ea8f",
   "metadata": {},
   "source": [
    "- basic representations\n",
    "- inbuilt functions\n",
    "    - min max len type sum reversed sorted\n",
    "- concatenation\n",
    "- index\n",
    "- in vs range\n",
    "- mutable vs immutable\n",
    "- slice"
   ]
  },
  {
   "cell_type": "markdown",
   "id": "594a6d76-d9aa-4593-a87a-09c65b7aaea6",
   "metadata": {},
   "source": [
    "# Methods"
   ]
  },
  {
   "cell_type": "code",
   "execution_count": 60,
   "id": "f332e749-011d-4db3-9aaa-1d53dbbecd0a",
   "metadata": {},
   "outputs": [
    {
     "data": {
      "text/plain": [
       "['__add__',\n",
       " '__class__',\n",
       " '__contains__',\n",
       " '__delattr__',\n",
       " '__dir__',\n",
       " '__doc__',\n",
       " '__eq__',\n",
       " '__format__',\n",
       " '__ge__',\n",
       " '__getattribute__',\n",
       " '__getitem__',\n",
       " '__getnewargs__',\n",
       " '__getstate__',\n",
       " '__gt__',\n",
       " '__hash__',\n",
       " '__init__',\n",
       " '__init_subclass__',\n",
       " '__iter__',\n",
       " '__le__',\n",
       " '__len__',\n",
       " '__lt__',\n",
       " '__mod__',\n",
       " '__mul__',\n",
       " '__ne__',\n",
       " '__new__',\n",
       " '__reduce__',\n",
       " '__reduce_ex__',\n",
       " '__repr__',\n",
       " '__rmod__',\n",
       " '__rmul__',\n",
       " '__setattr__',\n",
       " '__sizeof__',\n",
       " '__str__',\n",
       " '__subclasshook__',\n",
       " 'capitalize',\n",
       " 'casefold',\n",
       " 'center',\n",
       " 'count',\n",
       " 'encode',\n",
       " 'endswith',\n",
       " 'expandtabs',\n",
       " 'find',\n",
       " 'format',\n",
       " 'format_map',\n",
       " 'index',\n",
       " 'isalnum',\n",
       " 'isalpha',\n",
       " 'isascii',\n",
       " 'isdecimal',\n",
       " 'isdigit',\n",
       " 'isidentifier',\n",
       " 'islower',\n",
       " 'isnumeric',\n",
       " 'isprintable',\n",
       " 'isspace',\n",
       " 'istitle',\n",
       " 'isupper',\n",
       " 'join',\n",
       " 'ljust',\n",
       " 'lower',\n",
       " 'lstrip',\n",
       " 'maketrans',\n",
       " 'partition',\n",
       " 'removeprefix',\n",
       " 'removesuffix',\n",
       " 'replace',\n",
       " 'rfind',\n",
       " 'rindex',\n",
       " 'rjust',\n",
       " 'rpartition',\n",
       " 'rsplit',\n",
       " 'rstrip',\n",
       " 'split',\n",
       " 'splitlines',\n",
       " 'startswith',\n",
       " 'strip',\n",
       " 'swapcase',\n",
       " 'title',\n",
       " 'translate',\n",
       " 'upper',\n",
       " 'zfill']"
      ]
     },
     "execution_count": 60,
     "metadata": {},
     "output_type": "execute_result"
    }
   ],
   "source": [
    "name = 'python'\n",
    "dir(name)  # dir('')  , dir('python'), dir([]), dir(())"
   ]
  },
  {
   "cell_type": "markdown",
   "id": "a8c0d1f1-cac1-4351-b306-d2ea5dcdcf5c",
   "metadata": {},
   "source": [
    "**upper**"
   ]
  },
  {
   "cell_type": "code",
   "execution_count": 93,
   "id": "000ff7b7-9326-4986-b23c-a62ec00cc268",
   "metadata": {},
   "outputs": [
    {
     "data": {
      "text/plain": [
       "'WELCOME TO NARESH IT'"
      ]
     },
     "execution_count": 93,
     "metadata": {},
     "output_type": "execute_result"
    }
   ],
   "source": [
    "str1 = 'WELCOME to Naresh IT'\n",
    "str1.upper()"
   ]
  },
  {
   "cell_type": "code",
   "execution_count": 95,
   "id": "cc46d923-8d08-4c7d-a81e-9d3f1f0680f6",
   "metadata": {},
   "outputs": [
    {
     "data": {
      "text/plain": [
       "'welcome to naresh it'"
      ]
     },
     "execution_count": 95,
     "metadata": {},
     "output_type": "execute_result"
    }
   ],
   "source": [
    "str1.lower()"
   ]
  },
  {
   "cell_type": "code",
   "execution_count": 97,
   "id": "d4b21137-bf04-41f5-9f38-4011ad3b07a4",
   "metadata": {},
   "outputs": [
    {
     "data": {
      "text/plain": [
       "'Welcome To Naresh It'"
      ]
     },
     "execution_count": 97,
     "metadata": {},
     "output_type": "execute_result"
    }
   ],
   "source": [
    "str1.title()"
   ]
  },
  {
   "cell_type": "code",
   "execution_count": 99,
   "id": "14675159-8a4f-45ef-be65-8549ee90e19e",
   "metadata": {},
   "outputs": [
    {
     "data": {
      "text/plain": [
       "'Welcome to naresh it'"
      ]
     },
     "execution_count": 99,
     "metadata": {},
     "output_type": "execute_result"
    }
   ],
   "source": [
    "str1.capitalize()"
   ]
  },
  {
   "cell_type": "code",
   "execution_count": 101,
   "id": "a6227f7e-b66e-4a2c-90a6-d6dc2742653f",
   "metadata": {},
   "outputs": [
    {
     "data": {
      "text/plain": [
       "'welcome to naresh it'"
      ]
     },
     "execution_count": 101,
     "metadata": {},
     "output_type": "execute_result"
    }
   ],
   "source": [
    "str1.casefold()"
   ]
  },
  {
   "cell_type": "markdown",
   "id": "c8b89f44-623a-4061-8f09-123cce883920",
   "metadata": {},
   "source": [
    "**difference between methods and inbuilt functions**"
   ]
  },
  {
   "cell_type": "code",
   "execution_count": null,
   "id": "f7ddbf63-cf0b-4f83-a065-dd73bbf9815b",
   "metadata": {},
   "outputs": [],
   "source": [
    "============ Inbuilt ==============\n",
    "len('python')\n",
    "max()\n",
    "min()\n",
    "type()\n",
    "sum()\n",
    "############## Methods ####################\n",
    "str1.upper()\n",
    "str1.lower()\n",
    "str1.title()\n",
    "str1.capitalize()\n",
    "str1.casefold()"
   ]
  },
  {
   "cell_type": "markdown",
   "id": "0aec3422-91df-41cf-928d-f8427bbce20c",
   "metadata": {},
   "source": [
    "**center**"
   ]
  },
  {
   "cell_type": "code",
   "execution_count": 135,
   "id": "499214f7-d910-43d6-a00f-89fe973bfdc5",
   "metadata": {},
   "outputs": [
    {
     "data": {
      "text/plain": [
       "'****python***'"
      ]
     },
     "execution_count": 135,
     "metadata": {},
     "output_type": "execute_result"
    }
   ],
   "source": [
    "str1 = 'python'\n",
    "str1.center(13,'*')    # centers string when given more than len(str1) and we get fill with spaces(' '), 13-len('python'),13-6,7 *\n",
    "                       # if we want we can change it to * or anything by giving second argument\n",
    "# 4* + 'python'+ 3*    # when given odd more space will come first"
   ]
  },
  {
   "cell_type": "code",
   "execution_count": 133,
   "id": "453118b8-a091-4a23-8be2-152fe771b095",
   "metadata": {},
   "outputs": [
    {
     "data": {
      "text/plain": [
       "'*python'"
      ]
     },
     "execution_count": 133,
     "metadata": {},
     "output_type": "execute_result"
    }
   ],
   "source": [
    "str1.center(7,'*')"
   ]
  },
  {
   "cell_type": "code",
   "execution_count": 129,
   "id": "b90d2792-8c2f-468c-8a29-66719dcf35bd",
   "metadata": {},
   "outputs": [
    {
     "data": {
      "text/plain": [
       "'***python***'"
      ]
     },
     "execution_count": 129,
     "metadata": {},
     "output_type": "execute_result"
    }
   ],
   "source": [
    "str1.center(12,\"*\")\n",
    "# here 12 means the len of string becomes 12 characters\n",
    "# already 'python' string has 6 characters\n",
    "# so remaining 6 characters pad as *"
   ]
  },
  {
   "cell_type": "markdown",
   "id": "735dd147-eac4-453d-a7ce-a60683c56afa",
   "metadata": {},
   "source": [
    "**strip-lstring-rstring**"
   ]
  },
  {
   "cell_type": "markdown",
   "id": "837e1ebe-6184-449a-b686-47437ca0b00e",
   "metadata": {},
   "source": [
    "- strip will remove the characters both left and right side\n",
    "- lstring will remove the characters on left side\n",
    "- rstrip will remove the characters on right side"
   ]
  },
  {
   "cell_type": "code",
   "execution_count": 143,
   "id": "451929e1-6433-45fa-8e45-fc608ff5d2b1",
   "metadata": {},
   "outputs": [
    {
     "data": {
      "text/plain": [
       "'python'"
      ]
     },
     "execution_count": 143,
     "metadata": {},
     "output_type": "execute_result"
    }
   ],
   "source": [
    "str1=\"***python***\"\n",
    "str1.strip(\"*\")"
   ]
  },
  {
   "cell_type": "code",
   "execution_count": 145,
   "id": "13c4b96d-5408-43d7-8dc0-d0529ac745a9",
   "metadata": {},
   "outputs": [
    {
     "data": {
      "text/plain": [
       "'***python'"
      ]
     },
     "execution_count": 145,
     "metadata": {},
     "output_type": "execute_result"
    }
   ],
   "source": [
    "str1.rstrip(\"*\")"
   ]
  },
  {
   "cell_type": "code",
   "execution_count": 147,
   "id": "afeafc3e-0a3d-4973-a9e7-6ef8bbb30223",
   "metadata": {},
   "outputs": [
    {
     "data": {
      "text/plain": [
       "'python***'"
      ]
     },
     "execution_count": 147,
     "metadata": {},
     "output_type": "execute_result"
    }
   ],
   "source": [
    "str1.lstrip(\"*\")"
   ]
  },
  {
   "cell_type": "code",
   "execution_count": 181,
   "id": "4cb08c9a-4e76-471f-97f8-783591a38591",
   "metadata": {},
   "outputs": [
    {
     "data": {
      "text/plain": [
       "'python'"
      ]
     },
     "execution_count": 181,
     "metadata": {},
     "output_type": "execute_result"
    }
   ],
   "source": [
    "str1='  python  '\n",
    "str1.strip()  # empty args means removes spaces"
   ]
  },
  {
   "cell_type": "code",
   "execution_count": 151,
   "id": "6c172843-5534-44fa-bde4-23226f7f788d",
   "metadata": {},
   "outputs": [
    {
     "data": {
      "text/plain": [
       "'  python'"
      ]
     },
     "execution_count": 151,
     "metadata": {},
     "output_type": "execute_result"
    }
   ],
   "source": [
    "str1.rstrip()"
   ]
  },
  {
   "cell_type": "code",
   "execution_count": 153,
   "id": "d43c551f-854d-4270-ace9-976711a3671f",
   "metadata": {},
   "outputs": [
    {
     "data": {
      "text/plain": [
       "'python  '"
      ]
     },
     "execution_count": 153,
     "metadata": {},
     "output_type": "execute_result"
    }
   ],
   "source": [
    "str1.lstrip()"
   ]
  },
  {
   "cell_type": "code",
   "execution_count": 157,
   "id": "d21f1c02-fee6-443a-84ac-1cf35ae863be",
   "metadata": {},
   "outputs": [
    {
     "data": {
      "text/plain": [
       "'python'"
      ]
     },
     "execution_count": 157,
     "metadata": {},
     "output_type": "execute_result"
    }
   ],
   "source": [
    "str2 = '***python****'\n",
    "str2.strip(\"*\")"
   ]
  },
  {
   "cell_type": "code",
   "execution_count": 159,
   "id": "84c57c9f-98a5-4d8d-8359-4062a136c715",
   "metadata": {},
   "outputs": [
    {
     "data": {
      "text/plain": [
       "'***python'"
      ]
     },
     "execution_count": 159,
     "metadata": {},
     "output_type": "execute_result"
    }
   ],
   "source": [
    "str2.rstrip(\"*\")"
   ]
  },
  {
   "cell_type": "code",
   "execution_count": 161,
   "id": "fb81ac77-3b46-4970-944b-b5145bc59139",
   "metadata": {},
   "outputs": [
    {
     "data": {
      "text/plain": [
       "'python****'"
      ]
     },
     "execution_count": 161,
     "metadata": {},
     "output_type": "execute_result"
    }
   ],
   "source": [
    "str2.lstrip(\"*\")"
   ]
  },
  {
   "cell_type": "code",
   "execution_count": 163,
   "id": "385af94b-118f-41d9-a794-63fa40260b58",
   "metadata": {},
   "outputs": [
    {
     "data": {
      "text/plain": [
       "'python****'"
      ]
     },
     "execution_count": 163,
     "metadata": {},
     "output_type": "execute_result"
    }
   ],
   "source": [
    "str3 = '  python****'\n",
    "str3.strip()"
   ]
  },
  {
   "cell_type": "code",
   "execution_count": 183,
   "id": "1cffe831-ce43-4403-8e7b-c6f6e0449875",
   "metadata": {},
   "outputs": [
    {
     "data": {
      "text/plain": [
       "'python'"
      ]
     },
     "execution_count": 183,
     "metadata": {},
     "output_type": "execute_result"
    }
   ],
   "source": [
    "str3.strip().rstrip(\"*\")"
   ]
  },
  {
   "cell_type": "code",
   "execution_count": 165,
   "id": "cb9f4598-3fb6-450b-8c72-f05098dcf40b",
   "metadata": {},
   "outputs": [
    {
     "data": {
      "text/plain": [
       "'  python'"
      ]
     },
     "execution_count": 165,
     "metadata": {},
     "output_type": "execute_result"
    }
   ],
   "source": [
    "str3.strip(\"*\")"
   ]
  },
  {
   "cell_type": "code",
   "execution_count": 167,
   "id": "ac8a3b73-3fcd-4966-ba6c-97d39acaccaf",
   "metadata": {},
   "outputs": [
    {
     "data": {
      "text/plain": [
       "'  python****'"
      ]
     },
     "execution_count": 167,
     "metadata": {},
     "output_type": "execute_result"
    }
   ],
   "source": [
    "str3.rstrip()"
   ]
  },
  {
   "cell_type": "code",
   "execution_count": 169,
   "id": "856e20dd-396a-4116-963d-abc20fc84718",
   "metadata": {},
   "outputs": [
    {
     "data": {
      "text/plain": [
       "'  python'"
      ]
     },
     "execution_count": 169,
     "metadata": {},
     "output_type": "execute_result"
    }
   ],
   "source": [
    "str3.rstrip(\"*\")"
   ]
  },
  {
   "cell_type": "code",
   "execution_count": 179,
   "id": "6befb3aa-ddad-4bf2-a1e6-c0b4d9a474fe",
   "metadata": {},
   "outputs": [
    {
     "data": {
      "text/plain": [
       "'python****'"
      ]
     },
     "execution_count": 179,
     "metadata": {},
     "output_type": "execute_result"
    }
   ],
   "source": [
    "str3.lstrip()"
   ]
  },
  {
   "cell_type": "code",
   "execution_count": 173,
   "id": "a36c1679-e086-4506-b8b8-d41d4f27f564",
   "metadata": {},
   "outputs": [
    {
     "data": {
      "text/plain": [
       "'  python****'"
      ]
     },
     "execution_count": 173,
     "metadata": {},
     "output_type": "execute_result"
    }
   ],
   "source": [
    "str3.lstrip(\"*\")"
   ]
  },
  {
   "cell_type": "code",
   "execution_count": 185,
   "id": "cc5d883f-bf90-4e84-8e51-adaaa3f17dd5",
   "metadata": {},
   "outputs": [
    {
     "data": {
      "text/plain": [
       "'python'"
      ]
     },
     "execution_count": 185,
     "metadata": {},
     "output_type": "execute_result"
    }
   ],
   "source": [
    "str3='++++python******'\n",
    "str3.lstrip('+').rstrip(\"*\")"
   ]
  },
  {
   "cell_type": "markdown",
   "id": "c42afee3-67c1-4f5f-a7a7-8677cfc66135",
   "metadata": {},
   "source": [
    "**count**"
   ]
  },
  {
   "cell_type": "code",
   "execution_count": 21,
   "id": "d9f1c8ba-6efa-42ae-a029-3cfd4f5a5dfc",
   "metadata": {},
   "outputs": [
    {
     "name": "stdout",
     "output_type": "stream",
     "text": [
      "3\n"
     ]
    }
   ],
   "source": [
    "str1 = 'ola ola ola'\n",
    "count = 0\n",
    "for i in str1:\n",
    "    if i =='a':\n",
    "        count+=1\n",
    "\n",
    "print(count)"
   ]
  },
  {
   "cell_type": "markdown",
   "id": "1e14ee83-ced5-4160-a6fa-7da0417f299a",
   "metadata": {},
   "source": [
    "**case-1**"
   ]
  },
  {
   "cell_type": "code",
   "execution_count": 23,
   "id": "39b4392a-bac7-4bad-8218-8bddfc59daf2",
   "metadata": {},
   "outputs": [
    {
     "data": {
      "text/plain": [
       "3"
      ]
     },
     "execution_count": 23,
     "metadata": {},
     "output_type": "execute_result"
    }
   ],
   "source": [
    "str1 = 'ola ola ola'\n",
    "str1.count('a')"
   ]
  },
  {
   "cell_type": "code",
   "execution_count": 25,
   "id": "18eb5921-6efe-4082-893e-3ddfed13c513",
   "metadata": {},
   "outputs": [
    {
     "data": {
      "text/plain": [
       "2"
      ]
     },
     "execution_count": 25,
     "metadata": {},
     "output_type": "execute_result"
    }
   ],
   "source": [
    "str1.count('ola ')"
   ]
  },
  {
   "cell_type": "markdown",
   "id": "a4a59c2e-8fd8-4dde-9f83-ee5556c6fe30",
   "metadata": {},
   "source": [
    "$case-2$"
   ]
  },
  {
   "cell_type": "code",
   "execution_count": 29,
   "id": "b9575daa-c650-4bce-82a1-acc88b9dbf71",
   "metadata": {},
   "outputs": [
    {
     "data": {
      "text/plain": [
       "2"
      ]
     },
     "execution_count": 29,
     "metadata": {},
     "output_type": "execute_result"
    }
   ],
   "source": [
    "#  o  l  a    o  l  a   o  l  a\n",
    "#  0  1  2  3 4  5  6 7 8  9 10\n",
    "\n",
    "str1.count('a',4)"
   ]
  },
  {
   "cell_type": "code",
   "execution_count": 49,
   "id": "aff8dea5-0bc5-4c97-8c9c-a2822ab086c5",
   "metadata": {},
   "outputs": [
    {
     "data": {
      "text/plain": [
       "1"
      ]
     },
     "execution_count": 49,
     "metadata": {},
     "output_type": "execute_result"
    }
   ],
   "source": [
    "str1.count('a',-8,-2)   # start = -8  , end = -2-1 = -3"
   ]
  },
  {
   "cell_type": "code",
   "execution_count": 39,
   "id": "67097cef-c1c5-4b89-a326-7f58a673d650",
   "metadata": {},
   "outputs": [
    {
     "data": {
      "text/plain": [
       "1"
      ]
     },
     "execution_count": 39,
     "metadata": {},
     "output_type": "execute_result"
    }
   ],
   "source": [
    "str1.count('a',5,9)"
   ]
  },
  {
   "cell_type": "code",
   "execution_count": 41,
   "id": "b739b351-7f5e-4665-b90f-4c913cc4ae76",
   "metadata": {},
   "outputs": [
    {
     "data": {
      "text/plain": [
       "1"
      ]
     },
     "execution_count": 41,
     "metadata": {},
     "output_type": "execute_result"
    }
   ],
   "source": [
    "str1.count('la',2,9)"
   ]
  },
  {
   "cell_type": "code",
   "execution_count": 47,
   "id": "f72ad662-3e54-47db-85af-262b0051e5bb",
   "metadata": {},
   "outputs": [
    {
     "data": {
      "text/plain": [
       "2"
      ]
     },
     "execution_count": 47,
     "metadata": {},
     "output_type": "execute_result"
    }
   ],
   "source": [
    "str1.count('la ',0,-1)"
   ]
  },
  {
   "cell_type": "code",
   "execution_count": 53,
   "id": "f10b9a61-758d-42b8-8795-9994a66c8361",
   "metadata": {},
   "outputs": [
    {
     "data": {
      "text/plain": [
       "2"
      ]
     },
     "execution_count": 53,
     "metadata": {},
     "output_type": "execute_result"
    }
   ],
   "source": [
    "str1.count('a o')"
   ]
  },
  {
   "cell_type": "code",
   "execution_count": 57,
   "id": "340d5137-bd5c-4f43-978e-0d24596fc8a3",
   "metadata": {},
   "outputs": [
    {
     "data": {
      "text/plain": [
       "2"
      ]
     },
     "execution_count": 57,
     "metadata": {},
     "output_type": "execute_result"
    }
   ],
   "source": [
    "str1.count('a',-10,-1)"
   ]
  },
  {
   "cell_type": "code",
   "execution_count": 59,
   "id": "b1351904-2bee-4ded-b0d7-b5369a2b5c4c",
   "metadata": {},
   "outputs": [
    {
     "data": {
      "text/plain": [
       "0"
      ]
     },
     "execution_count": 59,
     "metadata": {},
     "output_type": "execute_result"
    }
   ],
   "source": [
    "str1.count('a',-1,-10)"
   ]
  },
  {
   "cell_type": "code",
   "execution_count": 61,
   "id": "09b01724-3a49-4bd9-9bb6-82fc20124297",
   "metadata": {},
   "outputs": [
    {
     "data": {
      "text/plain": [
       "0"
      ]
     },
     "execution_count": 61,
     "metadata": {},
     "output_type": "execute_result"
    }
   ],
   "source": [
    "str1.count('z')"
   ]
  },
  {
   "cell_type": "code",
   "execution_count": 71,
   "id": "11bce4ee-d813-4e53-bdf7-9a77f6bf2c9a",
   "metadata": {},
   "outputs": [
    {
     "name": "stdout",
     "output_type": "stream",
     "text": [
      "3\n"
     ]
    }
   ],
   "source": [
    "# without using the count method  find the count of 'ola'\n",
    "\n",
    "str1 = 'ola ola ola'\n",
    "\n",
    "count = 0\n",
    "i=0\n",
    "j = 3\n",
    "while j <= len(str1):\n",
    "    if str1[i:j] == 'ola':\n",
    "        count += 1\n",
    "\n",
    "    i+=1\n",
    "    j+=1\n",
    "\n",
    "print(count)"
   ]
  },
  {
   "cell_type": "code",
   "execution_count": 77,
   "id": "be32b472-5249-4ba2-9b3d-5f5402d0d1b6",
   "metadata": {},
   "outputs": [
    {
     "name": "stdout",
     "output_type": "stream",
     "text": [
      "3\n"
     ]
    }
   ],
   "source": [
    "str1 = 'ola ola ola'\n",
    "\n",
    "count = 0\n",
    "\n",
    "for i in range(0,len(str1)):\n",
    "    if str1[i:i+3]=='ola' and i!=len(str1)-2:\n",
    "        count+=1\n",
    "\n",
    "print(count)"
   ]
  },
  {
   "cell_type": "markdown",
   "id": "4856da42-ede3-48a4-9748-92174a2885dc",
   "metadata": {},
   "source": [
    "**sliding window approach**\n",
    "\n",
    "- fix the slice value first :  **str1[i:i+3]**\n",
    "- then increase the slice by 1   :  **for i in range(len(str1))**\n",
    "- whenever it is equal to substring  : **str1[i:i+3] == 'ola'**\n",
    "- then update the count: **count=count+1**"
   ]
  },
  {
   "cell_type": "code",
   "execution_count": null,
   "id": "58ef7b37-3258-4f03-88ec-20a34cb01063",
   "metadata": {},
   "outputs": [],
   "source": [
    "str1[i:i+3]=='ola' "
   ]
  },
  {
   "cell_type": "code",
   "execution_count": null,
   "id": "1fcd9ae2-dcd8-4296-b41d-2bd26766fdb1",
   "metadata": {},
   "outputs": [],
   "source": []
  },
  {
   "cell_type": "code",
   "execution_count": 79,
   "id": "30eda052-f751-45e9-9bc8-f1840dd633df",
   "metadata": {},
   "outputs": [
    {
     "name": "stdout",
     "output_type": "stream",
     "text": [
      "3\n"
     ]
    }
   ],
   "source": [
    "str1 = 'ola ola ola'\n",
    "\n",
    "count = 0\n",
    "\n",
    "for i in range(0,len(str1)):\n",
    "    if str1[i:i+3]=='ola':\n",
    "        count+=1\n",
    "\n",
    "print(count)"
   ]
  },
  {
   "cell_type": "markdown",
   "id": "0d00eafb-3af2-413a-882d-2b0751e6fbb4",
   "metadata": {},
   "source": [
    "**replace**"
   ]
  },
  {
   "cell_type": "code",
   "execution_count": 83,
   "id": "97e4237d-a952-45e2-80d4-6a263b5b75b3",
   "metadata": {},
   "outputs": [
    {
     "data": {
      "text/plain": [
       "'weLcome'"
      ]
     },
     "execution_count": 83,
     "metadata": {},
     "output_type": "execute_result"
    }
   ],
   "source": [
    "str1 = 'welcome'\n",
    "\n",
    "str1.replace('l','L')"
   ]
  },
  {
   "cell_type": "code",
   "execution_count": 85,
   "id": "457d40cb-4a6d-4c10-a645-79e02bf2aabb",
   "metadata": {},
   "outputs": [
    {
     "data": {
      "text/plain": [
       "'welcome'"
      ]
     },
     "execution_count": 85,
     "metadata": {},
     "output_type": "execute_result"
    }
   ],
   "source": [
    "str1.replace('z','Z')   # no error, gives a copy of string"
   ]
  },
  {
   "cell_type": "code",
   "execution_count": 100,
   "id": "54e0346c-1479-48e7-813f-f79a1a3db0fd",
   "metadata": {},
   "outputs": [
    {
     "data": {
      "text/plain": [
       "'weLLLcome'"
      ]
     },
     "execution_count": 100,
     "metadata": {},
     "output_type": "execute_result"
    }
   ],
   "source": [
    "str1 = 'welllcome'\n",
    "str1.replace('l','L')  # by default (-1 means all) all occurences will be replaced"
   ]
  },
  {
   "cell_type": "code",
   "execution_count": 95,
   "id": "1dd6368f-1f78-487f-8c59-7a7b4eb2effa",
   "metadata": {},
   "outputs": [
    {
     "data": {
      "text/plain": [
       "'weLLlcome'"
      ]
     },
     "execution_count": 95,
     "metadata": {},
     "output_type": "execute_result"
    }
   ],
   "source": [
    "str1.replace('l','L',2)  # replace only count value, only replace 2 values"
   ]
  },
  {
   "cell_type": "code",
   "execution_count": 97,
   "id": "a9c3ee0a-d7c0-491c-ac68-c543828774fb",
   "metadata": {},
   "outputs": [
    {
     "data": {
      "text/plain": [
       "'weLllcome'"
      ]
     },
     "execution_count": 97,
     "metadata": {},
     "output_type": "execute_result"
    }
   ],
   "source": [
    "str1.replace('l','L',1)"
   ]
  },
  {
   "cell_type": "markdown",
   "id": "b32f78f9-f1f5-4701-9171-480b6e94f55e",
   "metadata": {},
   "source": [
    "- By default it will replace all the occurences\n",
    "- The user can provide count which indicates how many letters can replace\n",
    "- If the substring not found it will return the original string itself"
   ]
  },
  {
   "cell_type": "code",
   "execution_count": 110,
   "id": "b9a0f6bb-34c3-490d-b4ed-da77f8bce944",
   "metadata": {},
   "outputs": [
    {
     "data": {
      "text/plain": [
       "'$estart'"
      ]
     },
     "execution_count": 110,
     "metadata": {},
     "output_type": "execute_result"
    }
   ],
   "source": [
    "str1 = 'restart'\n",
    "# replace 'r' with $\n",
    "# i want only second 'r'\n",
    "# 'resta$t'\n",
    "str1.replace('r','$',1)\n",
    "\n",
    "# idea-1:\n",
    "# divide the string two parts: resta, rt\n",
    "# now replace 'rt' with '$t'\n",
    "# concatenate both 'resta' an '$t'"
   ]
  },
  {
   "cell_type": "code",
   "execution_count": 112,
   "id": "0ee53d72-57ce-4839-bad8-df3c2329b252",
   "metadata": {},
   "outputs": [
    {
     "data": {
      "text/plain": [
       "'resta$t'"
      ]
     },
     "execution_count": 112,
     "metadata": {},
     "output_type": "execute_result"
    }
   ],
   "source": [
    "str1[:1]+str1[1:].replace('r','$',1)"
   ]
  },
  {
   "cell_type": "code",
   "execution_count": 114,
   "id": "c030fa52-f435-460e-b319-5cd954dbe73b",
   "metadata": {},
   "outputs": [
    {
     "data": {
      "text/plain": [
       "'resta$t'"
      ]
     },
     "execution_count": 114,
     "metadata": {},
     "output_type": "execute_result"
    }
   ],
   "source": [
    "str1[:5]+str1[5:].replace('r','$')"
   ]
  },
  {
   "cell_type": "code",
   "execution_count": 116,
   "id": "6caf4c5b-c2fe-42d9-bb26-5ca919a10f3a",
   "metadata": {},
   "outputs": [
    {
     "data": {
      "text/plain": [
       "'resta$t'"
      ]
     },
     "execution_count": 116,
     "metadata": {},
     "output_type": "execute_result"
    }
   ],
   "source": [
    "# idea-2\n",
    "str1[::-1].replace('r','$',1)[::-1]"
   ]
  },
  {
   "cell_type": "markdown",
   "id": "1bbd85ea-7bd1-40de-8037-b6f81d30a7c9",
   "metadata": {},
   "source": [
    "**index**"
   ]
  },
  {
   "cell_type": "code",
   "execution_count": 119,
   "id": "f3b959b3-feb4-455d-bc34-b329756464af",
   "metadata": {},
   "outputs": [
    {
     "data": {
      "text/plain": [
       "(3, 0)"
      ]
     },
     "execution_count": 119,
     "metadata": {},
     "output_type": "execute_result"
    }
   ],
   "source": [
    "str1 = 'restart restart'\n",
    "str1.index('t'),str1.index('r')\n",
    "# by default first string index will come"
   ]
  },
  {
   "cell_type": "code",
   "execution_count": 123,
   "id": "6e2b5ece-2d36-4e40-86cc-6696cda2b334",
   "metadata": {},
   "outputs": [
    {
     "ename": "ValueError",
     "evalue": "substring not found",
     "output_type": "error",
     "traceback": [
      "\u001b[1;31m---------------------------------------------------------------------------\u001b[0m",
      "\u001b[1;31mValueError\u001b[0m                                Traceback (most recent call last)",
      "Cell \u001b[1;32mIn[123], line 1\u001b[0m\n\u001b[1;32m----> 1\u001b[0m str1\u001b[38;5;241m.\u001b[39mindex(\u001b[38;5;124m'\u001b[39m\u001b[38;5;124mz\u001b[39m\u001b[38;5;124m'\u001b[39m)\n",
      "\u001b[1;31mValueError\u001b[0m: substring not found"
     ]
    }
   ],
   "source": [
    "str1.index('z')   # valueError when not found"
   ]
  },
  {
   "cell_type": "code",
   "execution_count": 129,
   "id": "fa836b29-f156-4574-a8eb-091be0e7e01e",
   "metadata": {},
   "outputs": [
    {
     "data": {
      "text/plain": [
       "13"
      ]
     },
     "execution_count": 129,
     "metadata": {},
     "output_type": "execute_result"
    }
   ],
   "source": [
    "str1 = 'restart restart'\n",
    "str1.index('r')    # 0\n",
    "str1.index('r',1)  # 1 = 0+1   = 1 is previous index\n",
    "str1.index('r',6)  # 6 = 5+1   = 5 is previous index\n",
    "str1.index('r',9)  # 9 = 8+1   = 8 is previous index"
   ]
  },
  {
   "cell_type": "code",
   "execution_count": 133,
   "id": "8b23bc23-229f-42be-9009-081faafdb35b",
   "metadata": {},
   "outputs": [
    {
     "name": "stdout",
     "output_type": "stream",
     "text": [
      "0 5 8 13\n"
     ]
    }
   ],
   "source": [
    "str1 = 'restart restart'\n",
    "i1 = str1.index('r')    # 0\n",
    "i2 = str1.index('r',i1+1)  # 1 = 0+1  \n",
    "i3 = str1.index('r',i2+1)  # 6 = 5+1  \n",
    "i4 = str1.index('r',i3+1)  # 9 = 8+1  \n",
    "print(i1,i2,i3,i4)"
   ]
  },
  {
   "cell_type": "code",
   "execution_count": 137,
   "id": "60c61c9d-b65b-48a6-a323-b066ea0ed753",
   "metadata": {},
   "outputs": [
    {
     "data": {
      "text/plain": [
       "-1"
      ]
     },
     "execution_count": 137,
     "metadata": {},
     "output_type": "execute_result"
    }
   ],
   "source": [
    "str1 = 'restart restart'\n",
    "str1.find('z')    # instead of error like index when not found, -1 will be returned"
   ]
  },
  {
   "cell_type": "code",
   "execution_count": 37,
   "id": "da09a1aa-41e6-4882-a335-e181d344bcec",
   "metadata": {},
   "outputs": [
    {
     "name": "stdout",
     "output_type": "stream",
     "text": [
      "firstname: virat, secondname: kohli, companyname: rcb\n",
      "firstname: rohit, secondname: sharma, companyname: mi\n",
      "firstname: ms, secondname: dhoni, companyname: csk\n"
     ]
    }
   ],
   "source": [
    "str1= 'virat.kohli@rcb.com'\n",
    "str2 = 'rohit.sharma@mi.com'\n",
    "str3 = 'ms.dhoni@csk.com'\n",
    "# firstname\n",
    "# second name\n",
    "# company name\n",
    "str4 = 'a.b@c.com'\n",
    "\n",
    "def findDetails(s):\n",
    "    id1 = s.index('.')\n",
    "    id2 = s.index('@')\n",
    "    id3 = s.index('.',id1+1)\n",
    "\n",
    "    firstname = s[:id1]\n",
    "    second_name = s[id1+1:id2]\n",
    "    company_name = s[id2+1:id3]\n",
    "    print(\"firstname: {}, secondname: {}, companyname: {}\".format(firstname,second_name,company_name))\n",
    "\n",
    "findDetails(str1)\n",
    "findDetails(str2)\n",
    "findDetails(str3)\n",
    "\n"
   ]
  },
  {
   "cell_type": "markdown",
   "id": "52705e5a-2bc2-4b42-ab99-799bd6cf2ca9",
   "metadata": {},
   "source": [
    "**split**"
   ]
  },
  {
   "cell_type": "markdown",
   "id": "7c0b2129-0cf5-4da4-b91d-f2e4ed6214c6",
   "metadata": {},
   "source": [
    "- split is used to cconvert a string to list of elements\n",
    "\n",
    "- by default it will split based on space\n",
    "\n"
   ]
  },
  {
   "cell_type": "code",
   "execution_count": 41,
   "id": "5746479e-4842-4ba8-9f01-8fe5020cdec4",
   "metadata": {},
   "outputs": [
    {
     "data": {
      "text/plain": [
       "['hai', 'how', 'are', 'you']"
      ]
     },
     "execution_count": 41,
     "metadata": {},
     "output_type": "execute_result"
    }
   ],
   "source": [
    "str1 = 'hai how are you'\n",
    "str1.split()"
   ]
  },
  {
   "cell_type": "code",
   "execution_count": 53,
   "id": "8d1947bb-64d1-4b6e-b709-a57ca169ee89",
   "metadata": {},
   "outputs": [
    {
     "data": {
      "text/plain": [
       "['hai', 'how,', 'are', 'you']"
      ]
     },
     "execution_count": 53,
     "metadata": {},
     "output_type": "execute_result"
    }
   ],
   "source": [
    "str1 = 'hai how, are you'\n",
    "str1.split()"
   ]
  },
  {
   "cell_type": "code",
   "execution_count": 64,
   "id": "6d19ce7d-d4a8-4a23-8ac0-01e13a8af80a",
   "metadata": {},
   "outputs": [
    {
     "data": {
      "text/plain": [
       "['hai how', ' are you']"
      ]
     },
     "execution_count": 64,
     "metadata": {},
     "output_type": "execute_result"
    }
   ],
   "source": [
    "str1 = 'hai how, are you'\n",
    "str1.split(',')"
   ]
  },
  {
   "cell_type": "code",
   "execution_count": 78,
   "id": "7e4c90bf-f24d-41b3-b71f-00ee0642275f",
   "metadata": {},
   "outputs": [
    {
     "data": {
      "text/plain": [
       "['hai h', 'w, are y', 'u']"
      ]
     },
     "execution_count": 78,
     "metadata": {},
     "output_type": "execute_result"
    }
   ],
   "source": [
    "str1 = 'hai how, are you'\n",
    "str1.split('o')"
   ]
  },
  {
   "cell_type": "markdown",
   "id": "5a610383-63cd-411f-86c0-8b76034581c4",
   "metadata": {},
   "source": [
    "**join**"
   ]
  },
  {
   "cell_type": "code",
   "execution_count": 72,
   "id": "a1d994a2-d1f4-4305-9695-bf0864650732",
   "metadata": {},
   "outputs": [
    {
     "data": {
      "text/plain": [
       "'hai how are you'"
      ]
     },
     "execution_count": 72,
     "metadata": {},
     "output_type": "execute_result"
    }
   ],
   "source": [
    "str1 = 'hai how are you'\n",
    "l = str1.split()\n",
    "\n",
    "' '.join(l)"
   ]
  },
  {
   "cell_type": "code",
   "execution_count": 74,
   "id": "d3b69e64-c403-4bee-a618-bd73d243cbc1",
   "metadata": {},
   "outputs": [
    {
     "data": {
      "text/plain": [
       "'hai how, are you'"
      ]
     },
     "execution_count": 74,
     "metadata": {},
     "output_type": "execute_result"
    }
   ],
   "source": [
    "str1 = 'hai how, are you'\n",
    "l = str1.split(',')\n",
    "','.join(l)"
   ]
  },
  {
   "cell_type": "markdown",
   "id": "8bcd8a53-2445-48db-92f2-a61da0bd7352",
   "metadata": {},
   "source": [
    "- upper/lower/casefold\n",
    "- title/capitalize\n",
    "- center\n",
    "- lstrip/rstrip/strip\n",
    "- starswith/endswith\n",
    "- replace\n",
    "- count\n",
    "- index/find\n",
    "- split/join"
   ]
  },
  {
   "cell_type": "code",
   "execution_count": 1,
   "id": "f6175ccf-8b63-4640-a71e-09209e0bb422",
   "metadata": {},
   "outputs": [
    {
     "name": "stdout",
     "output_type": "stream",
     "text": [
      "['__add__', '__class__', '__contains__', '__delattr__', '__dir__', '__doc__', '__eq__', '__format__', '__ge__', '__getattribute__', '__getitem__', '__getnewargs__', '__getstate__', '__gt__', '__hash__', '__init__', '__init_subclass__', '__iter__', '__le__', '__len__', '__lt__', '__mod__', '__mul__', '__ne__', '__new__', '__reduce__', '__reduce_ex__', '__repr__', '__rmod__', '__rmul__', '__setattr__', '__sizeof__', '__str__', '__subclasshook__', 'capitalize', 'casefold', 'center', 'count', 'encode', 'endswith', 'expandtabs', 'find', 'format', 'format_map', 'index', 'isalnum', 'isalpha', 'isascii', 'isdecimal', 'isdigit', 'isidentifier', 'islower', 'isnumeric', 'isprintable', 'isspace', 'istitle', 'isupper', 'join', 'ljust', 'lower', 'lstrip', 'maketrans', 'partition', 'removeprefix', 'removesuffix', 'replace', 'rfind', 'rindex', 'rjust', 'rpartition', 'rsplit', 'rstrip', 'split', 'splitlines', 'startswith', 'strip', 'swapcase', 'title', 'translate', 'upper', 'zfill'] "
     ]
    }
   ],
   "source": [
    "print(dir(' '),end=' ')"
   ]
  },
  {
   "cell_type": "code",
   "execution_count": 5,
   "id": "7ca6c268-5990-49a9-aac6-ca3db5b30f67",
   "metadata": {},
   "outputs": [
    {
     "data": {
      "text/plain": [
       "True"
      ]
     },
     "execution_count": 5,
     "metadata": {},
     "output_type": "execute_result"
    }
   ],
   "source": [
    "'123ab'.isalnum()"
   ]
  },
  {
   "cell_type": "code",
   "execution_count": 9,
   "id": "7e125ee3-89f6-4ab9-a2bb-a7dfb4c19a44",
   "metadata": {},
   "outputs": [
    {
     "data": {
      "text/plain": [
       "True"
      ]
     },
     "execution_count": 9,
     "metadata": {},
     "output_type": "execute_result"
    }
   ],
   "source": [
    "'123'.isalnum()"
   ]
  },
  {
   "cell_type": "code",
   "execution_count": 11,
   "id": "631825a6-b783-48b0-b20f-77e82d798762",
   "metadata": {},
   "outputs": [
    {
     "data": {
      "text/plain": [
       "False"
      ]
     },
     "execution_count": 11,
     "metadata": {},
     "output_type": "execute_result"
    }
   ],
   "source": [
    "'abcd1'.isalpha()"
   ]
  },
  {
   "cell_type": "code",
   "execution_count": 13,
   "id": "fe21c032-743d-421f-aab7-0c1031dbfec4",
   "metadata": {},
   "outputs": [
    {
     "data": {
      "text/plain": [
       "True"
      ]
     },
     "execution_count": 13,
     "metadata": {},
     "output_type": "execute_result"
    }
   ],
   "source": [
    "'abcd'.isalpha()"
   ]
  },
  {
   "cell_type": "code",
   "execution_count": 15,
   "id": "6196a182-a2dc-40b0-89a5-ca0405e7a191",
   "metadata": {},
   "outputs": [
    {
     "data": {
      "text/plain": [
       "True"
      ]
     },
     "execution_count": 15,
     "metadata": {},
     "output_type": "execute_result"
    }
   ],
   "source": [
    "'2'.isascii()"
   ]
  },
  {
   "cell_type": "code",
   "execution_count": 17,
   "id": "f437eb08-1d8b-4f59-8764-23922ee0e4de",
   "metadata": {},
   "outputs": [
    {
     "data": {
      "text/plain": [
       "True"
      ]
     },
     "execution_count": 17,
     "metadata": {},
     "output_type": "execute_result"
    }
   ],
   "source": [
    "'3'.isdecimal()"
   ]
  },
  {
   "cell_type": "code",
   "execution_count": 19,
   "id": "d8775649-3ed0-4262-a1fe-3cebe065b4ee",
   "metadata": {},
   "outputs": [
    {
     "data": {
      "text/plain": [
       "False"
      ]
     },
     "execution_count": 19,
     "metadata": {},
     "output_type": "execute_result"
    }
   ],
   "source": [
    "'123.2'.isdecimal()"
   ]
  },
  {
   "cell_type": "code",
   "execution_count": 21,
   "id": "980084ea-4750-4dcf-a213-5ce0edfba6f8",
   "metadata": {},
   "outputs": [
    {
     "data": {
      "text/plain": [
       "True"
      ]
     },
     "execution_count": 21,
     "metadata": {},
     "output_type": "execute_result"
    }
   ],
   "source": [
    "'12'.isdigit()"
   ]
  },
  {
   "cell_type": "code",
   "execution_count": 23,
   "id": "ae6e2bee-cf97-4b51-94fb-4b3f04c17293",
   "metadata": {},
   "outputs": [
    {
     "data": {
      "text/plain": [
       "False"
      ]
     },
     "execution_count": 23,
     "metadata": {},
     "output_type": "execute_result"
    }
   ],
   "source": [
    "'12.32'.isdigit()"
   ]
  },
  {
   "cell_type": "code",
   "execution_count": 25,
   "id": "dd26bff9-2285-40f5-8e0a-a7a47d3b0ab8",
   "metadata": {},
   "outputs": [
    {
     "data": {
      "text/plain": [
       "True"
      ]
     },
     "execution_count": 25,
     "metadata": {},
     "output_type": "execute_result"
    }
   ],
   "source": [
    "' '.isspace()"
   ]
  },
  {
   "cell_type": "code",
   "execution_count": 27,
   "id": "aedff789-76fb-4d21-a511-8e055a31de4c",
   "metadata": {},
   "outputs": [
    {
     "data": {
      "text/plain": [
       "False"
      ]
     },
     "execution_count": 27,
     "metadata": {},
     "output_type": "execute_result"
    }
   ],
   "source": [
    "'12.32'.isnumeric()"
   ]
  },
  {
   "cell_type": "code",
   "execution_count": 3,
   "id": "922f29c3-a702-4cbf-829a-296539483d6a",
   "metadata": {},
   "outputs": [
    {
     "data": {
      "text/plain": [
       "False"
      ]
     },
     "execution_count": 3,
     "metadata": {},
     "output_type": "execute_result"
    }
   ],
   "source": [
    "'Hello world'.istitle()"
   ]
  },
  {
   "cell_type": "code",
   "execution_count": 5,
   "id": "861e8b38-609b-4cc8-9a69-4a59feb530c7",
   "metadata": {},
   "outputs": [
    {
     "data": {
      "text/plain": [
       "True"
      ]
     },
     "execution_count": 5,
     "metadata": {},
     "output_type": "execute_result"
    }
   ],
   "source": [
    "'Hello World'.istitle()"
   ]
  },
  {
   "cell_type": "code",
   "execution_count": 7,
   "id": "2a305826-bd44-4883-91f8-79eb7dca7d3e",
   "metadata": {},
   "outputs": [
    {
     "data": {
      "text/plain": [
       "False"
      ]
     },
     "execution_count": 7,
     "metadata": {},
     "output_type": "execute_result"
    }
   ],
   "source": [
    "'abCD'.isupper()"
   ]
  },
  {
   "cell_type": "code",
   "execution_count": 9,
   "id": "35531a1d-374a-4bca-a011-b8779875d1bf",
   "metadata": {},
   "outputs": [
    {
     "data": {
      "text/plain": [
       "True"
      ]
     },
     "execution_count": 9,
     "metadata": {},
     "output_type": "execute_result"
    }
   ],
   "source": [
    "'ABCD'.isupper()"
   ]
  },
  {
   "cell_type": "code",
   "execution_count": 11,
   "id": "dc2a2e97-6c1b-4b4e-840d-bda391f3ab60",
   "metadata": {},
   "outputs": [
    {
     "name": "stdout",
     "output_type": "stream",
     "text": [
      "123456\n"
     ]
    }
   ],
   "source": [
    "str1 = 'the telephone number is 123456'\n",
    "str2 = ''\n",
    "for i in str1:\n",
    "    if i.isdigit():\n",
    "        str2 += i\n",
    "\n",
    "print(str2)"
   ]
  },
  {
   "cell_type": "code",
   "execution_count": null,
   "id": "a0a6dd42-23b4-4f27-a386-5428257ad606",
   "metadata": {},
   "outputs": [],
   "source": []
  }
 ],
 "metadata": {
  "kernelspec": {
   "display_name": "Python [conda env:base] *",
   "language": "python",
   "name": "conda-base-py"
  },
  "language_info": {
   "codemirror_mode": {
    "name": "ipython",
    "version": 3
   },
   "file_extension": ".py",
   "mimetype": "text/x-python",
   "name": "python",
   "nbconvert_exporter": "python",
   "pygments_lexer": "ipython3",
   "version": "3.12.7"
  }
 },
 "nbformat": 4,
 "nbformat_minor": 5
}
