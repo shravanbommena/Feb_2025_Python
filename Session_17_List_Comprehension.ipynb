{
 "cells": [
  {
   "cell_type": "markdown",
   "id": "d05e81d7-2cb3-4cf7-9d9f-87cbc0c92b45",
   "metadata": {},
   "source": [
    "## List Comprehension\n",
    "\n",
    "- List comprehension is a way to write list operations in a single line\n",
    "- when we apply for loop and if-else conditional statements then the code compilation becomes slow\n",
    "- which means it takes much time\n",
    "- In order to avoid the time complexity we will use list comprehensions\n",
    "- List comprehensions is a single line code"
   ]
  },
  {
   "cell_type": "markdown",
   "id": "67077ef2-612e-42d9-b018-f8f12a8124dd",
   "metadata": {},
   "source": [
    "**Case-1: Only for loop**"
   ]
  },
  {
   "cell_type": "code",
   "execution_count": 4,
   "id": "548cc0c2-d400-4df4-aa00-3dd74b93c169",
   "metadata": {},
   "outputs": [
    {
     "data": {
      "text/plain": [
       "[0, 1, 2, 3, 4, 5, 6, 7, 8, 9]"
      ]
     },
     "execution_count": 4,
     "metadata": {},
     "output_type": "execute_result"
    }
   ],
   "source": [
    "list1 = []\n",
    "for i in range(10):\n",
    "    list1.append(i)\n",
    "\n",
    "list1"
   ]
  },
  {
   "cell_type": "code",
   "execution_count": null,
   "id": "66e6d36d-1fa3-47c7-84f4-4ba6f6281bec",
   "metadata": {},
   "outputs": [],
   "source": [
    "lis1 = [<code should write here>]\n",
    "# inside code no need of append\n",
    "list1 = [<output var> <for loop>]  # output var: i , for loop no need of giving ' : ' in this."
   ]
  },
  {
   "cell_type": "code",
   "execution_count": 9,
   "id": "4c0da392-8357-4eed-8b74-965b2c5866a0",
   "metadata": {},
   "outputs": [
    {
     "data": {
      "text/plain": [
       "[0, 1, 2, 3, 4, 5, 6, 7, 8, 9]"
      ]
     },
     "execution_count": 9,
     "metadata": {},
     "output_type": "execute_result"
    }
   ],
   "source": [
    "list1 = [i for i in range(10)]\n",
    "list1"
   ]
  },
  {
   "cell_type": "markdown",
   "id": "db692066-b4a4-402b-88b9-18ef5b0f2e81",
   "metadata": {},
   "source": [
    "**don't give : after for loop**"
   ]
  },
  {
   "cell_type": "code",
   "execution_count": 12,
   "id": "f390972f-9e41-4b8d-baeb-7aca692cb5b1",
   "metadata": {},
   "outputs": [
    {
     "data": {
      "text/plain": [
       "['Hyd', 'Bengaluru', 'Pune', 'Mumbai']"
      ]
     },
     "execution_count": 12,
     "metadata": {},
     "output_type": "execute_result"
    }
   ],
   "source": [
    "# Q1)\n",
    "l1 = ['hyd','bengaluru', 'pune','mumbai']\n",
    "l2 = [i.capitalize() for i in l1]\n",
    "l2"
   ]
  },
  {
   "cell_type": "code",
   "execution_count": 14,
   "id": "d9278a7a-05ba-4ecb-929c-d4b892a92cdf",
   "metadata": {},
   "outputs": [
    {
     "data": {
      "text/plain": [
       "['HYD', 'BENGALURU', 'PUNE', 'MUMBAI']"
      ]
     },
     "execution_count": 14,
     "metadata": {},
     "output_type": "execute_result"
    }
   ],
   "source": [
    "# Q2)\n",
    "l1 = ['hyd','bengaluru', 'pune','mumbai']\n",
    "l2 = [i.upper() for i in l1]\n",
    "l2"
   ]
  },
  {
   "cell_type": "code",
   "execution_count": 32,
   "id": "3835c5a7-f07a-453a-aba1-c1b3b696004e",
   "metadata": {},
   "outputs": [
    {
     "data": {
      "text/plain": [
       "[0, 10, 20, 30]"
      ]
     },
     "execution_count": 32,
     "metadata": {},
     "output_type": "execute_result"
    }
   ],
   "source": [
    "# Q3) multiply the index with 10\n",
    "l1 = ['hyd','bengaluru', 'pune','mumbai']\n",
    "i_l1= [i*10 for i in range(len(l1))]\n",
    "i_l1\n",
    "\n"
   ]
  },
  {
   "cell_type": "code",
   "execution_count": null,
   "id": "8db2e403-a629-4f3f-af3e-01ee67099b43",
   "metadata": {},
   "outputs": [],
   "source": []
  },
  {
   "cell_type": "code",
   "execution_count": 34,
   "id": "22d19792-3e14-42cf-aba1-96cbb6512005",
   "metadata": {},
   "outputs": [
    {
     "data": {
      "text/plain": [
       "6"
      ]
     },
     "execution_count": 34,
     "metadata": {},
     "output_type": "execute_result"
    }
   ],
   "source": [
    "# Q4) sum of indexes\n",
    "l1 = ['hyd','bengaluru', 'pune','mumbai']\n",
    "summ = [i for i in range(len(l1))]\n",
    "sum(summ)\n"
   ]
  },
  {
   "cell_type": "markdown",
   "id": "aca68f07-21d2-48f1-b1ba-bf52bcfaa59b",
   "metadata": {},
   "source": [
    "**Walrus operator**"
   ]
  },
  {
   "cell_type": "code",
   "execution_count": 38,
   "id": "cccc6a64-d66f-4f7a-bbcc-ce5c210299c8",
   "metadata": {},
   "outputs": [
    {
     "ename": "SyntaxError",
     "evalue": "invalid syntax. Maybe you meant '==' or ':=' instead of '='? (2367035294.py, line 1)",
     "output_type": "error",
     "traceback": [
      "\u001b[1;36m  Cell \u001b[1;32mIn[38], line 1\u001b[1;36m\u001b[0m\n\u001b[1;33m    summ = [summ=summ+i for i in range(len(l1))]\u001b[0m\n\u001b[1;37m            ^\u001b[0m\n\u001b[1;31mSyntaxError\u001b[0m\u001b[1;31m:\u001b[0m invalid syntax. Maybe you meant '==' or ':=' instead of '='?\n"
     ]
    }
   ],
   "source": [
    "summ = [summ=summ+i for i in range(len(l1))]           # :=  : is walrus operator"
   ]
  },
  {
   "cell_type": "code",
   "execution_count": 50,
   "id": "3ef82dfe-600c-4f5e-82af-8e3af448c7ad",
   "metadata": {},
   "outputs": [
    {
     "name": "stdout",
     "output_type": "stream",
     "text": [
      "55\n"
     ]
    },
    {
     "data": {
      "text/plain": [
       "110"
      ]
     },
     "execution_count": 50,
     "metadata": {},
     "output_type": "execute_result"
    }
   ],
   "source": [
    "summ = 0\n",
    "[summ:= summ+i for i in range(1,11)]\n",
    "print(summ)\n"
   ]
  },
  {
   "cell_type": "code",
   "execution_count": 54,
   "id": "017721eb-d5f8-4c12-958b-9139a4d9017d",
   "metadata": {},
   "outputs": [
    {
     "data": {
      "text/plain": [
       "55"
      ]
     },
     "execution_count": 54,
     "metadata": {},
     "output_type": "execute_result"
    }
   ],
   "source": [
    "summ=0\n",
    "[summ:= summ+i for i in range(1,11)][-1]\n",
    "summ"
   ]
  },
  {
   "cell_type": "markdown",
   "id": "861bd2a4-33ef-4d53-874a-fd91b193eb53",
   "metadata": {},
   "source": [
    "**Case-2: For loop and if condition**"
   ]
  },
  {
   "cell_type": "code",
   "execution_count": 57,
   "id": "419315ed-01a0-4422-861f-3188e6b6553d",
   "metadata": {},
   "outputs": [
    {
     "data": {
      "text/plain": [
       "['even:2', 'even:4', 'even:6', 'even:8']"
      ]
     },
     "execution_count": 57,
     "metadata": {},
     "output_type": "execute_result"
    }
   ],
   "source": [
    "# even number\n",
    "even_list = []\n",
    "for i in range(1,10):\n",
    "    if i%2 ==0:\n",
    "        even_list.append(f'even:{i}')\n",
    "\n",
    "even_list"
   ]
  },
  {
   "cell_type": "code",
   "execution_count": null,
   "id": "e9a45101-bd2d-41fa-b810-fe9ca53c0e6e",
   "metadata": {},
   "outputs": [],
   "source": [
    "[<output> <if condition> <for loop>]\n",
    "[<output> <for loop> <if condition>]"
   ]
  },
  {
   "cell_type": "code",
   "execution_count": 59,
   "id": "4efda730-42b0-4ba3-9f31-fa60ae94cc4d",
   "metadata": {},
   "outputs": [
    {
     "ename": "SyntaxError",
     "evalue": "expected 'else' after 'if' expression (657419842.py, line 1)",
     "output_type": "error",
     "traceback": [
      "\u001b[1;36m  Cell \u001b[1;32mIn[59], line 1\u001b[1;36m\u001b[0m\n\u001b[1;33m    even_list = [f'even:{i}' if i%2==0  for i in range(1,10)]\u001b[0m\n\u001b[1;37m                 ^\u001b[0m\n\u001b[1;31mSyntaxError\u001b[0m\u001b[1;31m:\u001b[0m expected 'else' after 'if' expression\n"
     ]
    }
   ],
   "source": [
    "even_list = [f'even:{i}' if i%2==0  for i in range(1,10)]"
   ]
  },
  {
   "cell_type": "code",
   "execution_count": 63,
   "id": "20af65bd-c71d-453c-bb24-1dfc60d0d512",
   "metadata": {},
   "outputs": [
    {
     "data": {
      "text/plain": [
       "['even:2', 'even:4', 'even:6', 'even:8']"
      ]
     },
     "execution_count": 63,
     "metadata": {},
     "output_type": "execute_result"
    }
   ],
   "source": [
    "even_list = [f'even:{i}'  for i in range(1,10) if i%2==0]\n",
    "even_list"
   ]
  },
  {
   "cell_type": "code",
   "execution_count": 65,
   "id": "049c6aba-d24d-4f0e-85f3-1903fa5a61ad",
   "metadata": {},
   "outputs": [
    {
     "data": {
      "text/plain": [
       "['ben#galuru', 'mu#mubai']"
      ]
     },
     "execution_count": 65,
     "metadata": {},
     "output_type": "execute_result"
    }
   ],
   "source": [
    "# Q6)\n",
    "l1 = ['hyd','ben#galuru', 'pune', 'mu#mubai']\n",
    "l2 = [i for i in l1 if '#' in i]\n",
    "l2"
   ]
  },
  {
   "cell_type": "code",
   "execution_count": 67,
   "id": "449a8b45-b93a-40a2-b0df-d04b75507b7c",
   "metadata": {},
   "outputs": [
    {
     "data": {
      "text/plain": [
       "['hyd', 'pune']"
      ]
     },
     "execution_count": 67,
     "metadata": {},
     "output_type": "execute_result"
    }
   ],
   "source": [
    "# Q6)\n",
    "l1 = ['hyd','ben#galuru', 'pune', 'mu#mubai']\n",
    "l2 = [i for i in l1 if '#' not in i]\n",
    "l2"
   ]
  },
  {
   "cell_type": "markdown",
   "id": "90ba996e-ac5c-409f-8da7-cf4ab5157b63",
   "metadata": {},
   "source": [
    "**Case-3: for loop if & else**"
   ]
  },
  {
   "cell_type": "code",
   "execution_count": null,
   "id": "b15a1562-b7fa-4a08-8d57-15cdb32fb639",
   "metadata": {},
   "outputs": [],
   "source": [
    "case-1 for loop: [<output> <for loop>]\n",
    "case-2: for-if: [<output> <for loop> <if condi>]\n",
    "case-3: for-if-else: [<if out> <if cond> else <else out> <for loop>]"
   ]
  },
  {
   "cell_type": "code",
   "execution_count": 81,
   "id": "214c4af8-9344-45e8-ab5f-4d4f0cec1a21",
   "metadata": {},
   "outputs": [
    {
     "name": "stdout",
     "output_type": "stream",
     "text": [
      "[2, 4, 6, 8, 10]\n",
      "[1, 3, 5, 7, 9]\n"
     ]
    }
   ],
   "source": [
    "even_list =[]\n",
    "odd_list = []\n",
    "[even_list.append(i) if i%2==0 else odd_list.append(i) for i in range(1,11)]\n",
    "print(even_list)\n",
    "print(odd_list)"
   ]
  },
  {
   "cell_type": "code",
   "execution_count": 87,
   "id": "0db0af11-1e81-413c-ac45-a2699292cb30",
   "metadata": {},
   "outputs": [
    {
     "data": {
      "text/plain": [
       "['odd:1',\n",
       " 'even: 2',\n",
       " 'odd:3',\n",
       " 'even: 4',\n",
       " 'odd:5',\n",
       " 'even: 6',\n",
       " 'odd:7',\n",
       " 'even: 8',\n",
       " 'odd:9']"
      ]
     },
     "execution_count": 87,
     "metadata": {},
     "output_type": "execute_result"
    }
   ],
   "source": [
    "list1 = [f\"even: {i}\" if i%2==0  else f\"odd:{i}\" for i in range(1,10)]\n",
    "list1"
   ]
  },
  {
   "cell_type": "markdown",
   "id": "10534b5d-1ed4-448e-8a2e-474a412881af",
   "metadata": {},
   "source": [
    "**Case-4: for-if-elif-else**\n",
    "\n",
    "- in list comprehension we don't have **elif** representaiton\n",
    "- elif also represented as else+**if**\n",
    "- in elif we have **elif condition** and **elif output**\n",
    "- else elif_output elif condition"
   ]
  },
  {
   "cell_type": "code",
   "execution_count": null,
   "id": "1560254b-8f29-4f42-808b-b6de1d5bc3fa",
   "metadata": {},
   "outputs": [],
   "source": [
    "case-1 for loop: [<output> <for loop>]\n",
    "case-2: for-if: [<output> <for loop> <if condi>]\n",
    "case-3: for-if-else: [<if out> <if cond> else <else out> <for loop>]\n",
    "case-4: for-if-elif-else: \n",
    "[<if out> <if cond> else <elif out> <elif cond> else <else out> <for loop>]\n",
    "**Note**: instead of elif term write if"
   ]
  },
  {
   "cell_type": "code",
   "execution_count": 95,
   "id": "198166a1-f711-4005-9243-a7e81727d639",
   "metadata": {},
   "outputs": [
    {
     "name": "stdout",
     "output_type": "stream",
     "text": [
      "45 C grade\n",
      "55 C grade\n",
      "65 B grade\n",
      "75 B grade\n",
      "85 B grade\n",
      "95 A grade\n"
     ]
    }
   ],
   "source": [
    "# >85  A grade  60-85 B grade  less than 60 C grade\n",
    "l = [45,55,65,75,85,95]\n",
    "for i in l:\n",
    "    if i> 85:\n",
    "        print(f\"{i} A grade\")\n",
    "    elif i> 60:\n",
    "        print(f\"{i} B grade\")\n",
    "    else:\n",
    "        print(f\"{i} C grade\")"
   ]
  },
  {
   "cell_type": "code",
   "execution_count": 97,
   "id": "87b72186-5c77-459e-b2e0-4b85a997eea7",
   "metadata": {},
   "outputs": [
    {
     "data": {
      "text/plain": [
       "['45 C grade',\n",
       " '55 C grade',\n",
       " '65 B grade',\n",
       " '75 B grade',\n",
       " '85 B grade',\n",
       " '95 A grade']"
      ]
     },
     "execution_count": 97,
     "metadata": {},
     "output_type": "execute_result"
    }
   ],
   "source": [
    "# >85  A grade  60-85 B grade  less than 60 C grade\n",
    "l = [45,55,65,75,85,95]\n",
    "l1 = [f'{i} A grade' if i >85 \n",
    "      else\n",
    "      f'{i} B grade' if i>60 \n",
    "      else\n",
    "      f\"{i} C grade\" \n",
    "      for i in l]\n",
    "l1\n"
   ]
  },
  {
   "cell_type": "markdown",
   "id": "4be48019-cb2d-4ff9-b4aa-f87a68dbdb0e",
   "metadata": {},
   "source": [
    "**screening paper question**\n",
    "\n",
    "List of student marks in python,, \n",
    "marks = [45,76,89,53,67,90,82,49,33,99], \n",
    "solve all below problems by using list comprehension \n",
    "topic\n"
   ]
  },
  {
   "cell_type": "code",
   "execution_count": 5,
   "id": "ec90c245-fbe6-4aa7-9745-d82cbf5a8017",
   "metadata": {},
   "outputs": [
    {
     "name": "stdout",
     "output_type": "stream",
     "text": [
      "[76, 89, 53, 67, 90, 82, 99]\n"
     ]
    }
   ],
   "source": [
    "# Filter students who passed marks >=50   === Mine\n",
    "marks = [45,76,89,53,67,90,82,49,33,99]\n",
    "passed = [i for i in marks if i>=50]\n",
    "print(passed)"
   ]
  },
  {
   "cell_type": "code",
   "execution_count": 17,
   "id": "c5d22817-10dd-4a64-9ce4-f77add04ea2e",
   "metadata": {},
   "outputs": [
    {
     "data": {
      "text/plain": [
       "[76, 89, 53, 67, 90, 82, 99]"
      ]
     },
     "execution_count": 17,
     "metadata": {},
     "output_type": "execute_result"
    }
   ],
   "source": [
    "marks = [45,76,89,53,67,90,82,49,33,99]\n",
    "[i for i in marks if i>=50]"
   ]
  },
  {
   "cell_type": "code",
   "execution_count": 25,
   "id": "b92f01ff-e0f3-4953-be19-3a752be3feba",
   "metadata": {},
   "outputs": [
    {
     "name": "stdout",
     "output_type": "stream",
     "text": [
      "['45: F', '76: B', '89: A', '53: C', '67: C', '90: A', '82: B', '49: F', '33: F', '99: A']\n"
     ]
    }
   ],
   "source": [
    "# Calculate grades for all students ==== Mine\n",
    "# (A: 85+, B:70-84, c:50-69, F:50)\n",
    "marks = [45,76,89,53,67,90,82,49,33,99]\n",
    "grades = [f\"{i}: A\" if i>=85 else f\"{i}: B\" if i>=70\n",
    "         else f\"{i}: C\" if i>=50 else f\"{i}: F\" for i in marks]\n",
    "print(grades)"
   ]
  },
  {
   "cell_type": "code",
   "execution_count": 19,
   "id": "c322ba0d-7fc4-4dd6-9c27-76c69a24530b",
   "metadata": {},
   "outputs": [
    {
     "data": {
      "text/plain": [
       "['Marks = 45: F grade',\n",
       " 'Marks =  76: B grade',\n",
       " 'Marks = 89: A grade',\n",
       " 'Marks =  53: C grade',\n",
       " 'Marks =  67: C grade',\n",
       " 'Marks = 90: A grade',\n",
       " 'Marks =  82: B grade',\n",
       " 'Marks = 49: F grade',\n",
       " 'Marks = 33: F grade',\n",
       " 'Marks = 99: A grade']"
      ]
     },
     "execution_count": 19,
     "metadata": {},
     "output_type": "execute_result"
    }
   ],
   "source": [
    "marks = [45,76,89,53,67,90,82,49,33,99]\n",
    "[f\"Marks = {i}: A grade\" if i>=85\n",
    " else f\"Marks =  {i}: B grade\" if i >=70\n",
    "else f\"Marks =  {i}: C grade\" if i >=50\n",
    "else f\"Marks = {i}: F grade\" \n",
    "for i in marks]"
   ]
  },
  {
   "cell_type": "code",
   "execution_count": 23,
   "id": "e1fc25cc-99b7-4749-b08c-7bcf812ed1a0",
   "metadata": {},
   "outputs": [
    {
     "name": "stdout",
     "output_type": "stream",
     "text": [
      "[50, 76, 89, 53, 67, 90, 82, 54, 38, 99]\n"
     ]
    }
   ],
   "source": [
    "# Add 5 grace marks to students who failed (<50)   === Mine\n",
    "\n",
    "marks = [45,76,89,53,67,90,82,49,33,99]\n",
    "new_marks= [i+5 if i<50 else i for i in marks]\n",
    "print(new_marks)"
   ]
  },
  {
   "cell_type": "code",
   "execution_count": 21,
   "id": "f0cef2c7-46c6-47b5-9732-06f5a6c8b5af",
   "metadata": {},
   "outputs": [
    {
     "data": {
      "text/plain": [
       "[50, 54, 38]"
      ]
     },
     "execution_count": 21,
     "metadata": {},
     "output_type": "execute_result"
    }
   ],
   "source": [
    "marks = [45,76,89,53,67,90,82,49,33,99]\n",
    "[i+5 for i in marks if i<50]"
   ]
  },
  {
   "cell_type": "code",
   "execution_count": 27,
   "id": "2a07d51a-c828-4c38-95b4-484295468efd",
   "metadata": {},
   "outputs": [
    {
     "data": {
      "text/plain": [
       "[99, 90, 89]"
      ]
     },
     "execution_count": 27,
     "metadata": {},
     "output_type": "execute_result"
    }
   ],
   "source": [
    "# Identify top 3 scorers         ==  Mine\n",
    "marks = [45,76,89,53,67,90,82,49,33,99]\n",
    "marks.sort(reverse=True)\n",
    "top_scorers = [marks[i] for i in range(3)]\n",
    "top_scorers"
   ]
  },
  {
   "cell_type": "code",
   "execution_count": 35,
   "id": "f4a8c41a-efdb-4097-b727-d4d68630157e",
   "metadata": {},
   "outputs": [
    {
     "name": "stdout",
     "output_type": "stream",
     "text": [
      "99\n",
      "90\n",
      "89\n"
     ]
    }
   ],
   "source": [
    "marks = [45,76,89,53,67,90,82,49,33,99]\n",
    "max_val = max(marks)\n",
    "for i in range(3):\n",
    "    max_val= max(marks)\n",
    "    print(max_val)\n",
    "    \n",
    "    marks.remove(max_val)\n"
   ]
  },
  {
   "cell_type": "code",
   "execution_count": 43,
   "id": "7d6a4a45-73b1-40b1-a006-324ee7ed82d7",
   "metadata": {},
   "outputs": [
    {
     "name": "stdout",
     "output_type": "stream",
     "text": [
      "[99, 90, 89]\n"
     ]
    }
   ],
   "source": [
    "# Akshay online\n",
    "marks = [45,76,89,53,67,90,82,49,33,99]\n",
    "top_3 = [(max_val:= max(marks), marks.remove(max_val))[0] for i in range(3)]\n",
    "print(top_3)\n"
   ]
  },
  {
   "cell_type": "code",
   "execution_count": 13,
   "id": "12ea03c5-a717-47c6-bd28-968bdc0c7b36",
   "metadata": {},
   "outputs": [
    {
     "name": "stdout",
     "output_type": "stream",
     "text": [
      "68.3\n"
     ]
    }
   ],
   "source": [
    "# Find avg marks of the class\n",
    "marks = [45,76,89,53,67,90,82,49,33,99]\n",
    "summ = 0\n",
    "[summ:=summ+i for i in marks]\n",
    "avg = summ/len(marks)\n",
    "print(avg)"
   ]
  },
  {
   "cell_type": "code",
   "execution_count": 45,
   "id": "0310f755-13e7-45dc-9bcb-07533727983a",
   "metadata": {},
   "outputs": [
    {
     "name": "stdout",
     "output_type": "stream",
     "text": [
      "Average marks of the class: 68.3\n"
     ]
    }
   ],
   "source": [
    "marks = [45,76,89,53,67,90,82,49,33,99]\n",
    "summ = 0\n",
    "average = [summ:=summ+i for i in marks][-1]/len(marks)\n",
    "print(\"Average marks of the class:\", average)"
   ]
  },
  {
   "cell_type": "code",
   "execution_count": 47,
   "id": "4cacf5af-9df9-4191-9a4d-d4005dfa94b2",
   "metadata": {},
   "outputs": [
    {
     "data": {
      "text/plain": [
       "68.3"
      ]
     },
     "execution_count": 47,
     "metadata": {},
     "output_type": "execute_result"
    }
   ],
   "source": [
    "marks = [45,76,89,53,67,90,82,49,33,99]\n",
    "summ=0\n",
    "[summ:=summ+i for i in marks]\n",
    "summ/len(marks)"
   ]
  },
  {
   "cell_type": "markdown",
   "id": "dc3b3c87-12fc-40de-8226-9efed58835e1",
   "metadata": {},
   "source": [
    "**distance between two points**"
   ]
  },
  {
   "cell_type": "code",
   "execution_count": null,
   "id": "4f0dc3a9-7dd7-40b8-8b01-ca97b12ebefd",
   "metadata": {},
   "outputs": [],
   "source": [
    "l1 = [[1,2],[4,5],[7,9]]\n",
    "l2 = [10,20]\n",
    "# find the distance between l2 with all other points from l1\n",
    "# which is the maximum distance give me that\n",
    "# h**2 = s**2 + s**2\n",
    "# h = (s**2 + s**2)**1/2\n",
    "# h = ((x1-x2)**2 + (y1-y2)**2)**1/2"
   ]
  },
  {
   "cell_type": "code",
   "execution_count": 58,
   "id": "ffe0ac47-4499-499c-bb3a-d09781145e16",
   "metadata": {},
   "outputs": [
    {
     "data": {
      "text/plain": [
       "28.284271247461902"
      ]
     },
     "execution_count": 58,
     "metadata": {},
     "output_type": "execute_result"
    }
   ],
   "source": [
    "#explanation\n",
    "import math\n",
    "l1 = [10,20]\n",
    "l2 = [30,40]\n",
    "distance1= l2[0]-l1[0]   # x2-x1\n",
    "distance2 = l2[1]-l1[1]  # y2-y1\n",
    "d1square = math.pow(distance1,2)\n",
    "d2square = math.pow(distance2,2)\n",
    "d = d1square+d2square\n",
    "math.sqrt(d)"
   ]
  },
  {
   "cell_type": "code",
   "execution_count": 60,
   "id": "69375b4b-159e-4342-9bfb-473dbd498f2d",
   "metadata": {},
   "outputs": [
    {
     "data": {
      "text/plain": [
       "28.284271247461902"
      ]
     },
     "execution_count": 60,
     "metadata": {},
     "output_type": "execute_result"
    }
   ],
   "source": [
    "math.sqrt(math.pow(l2[0]-l1[0],2)+math.pow(l2[1]-l1[1],2))"
   ]
  },
  {
   "cell_type": "code",
   "execution_count": 62,
   "id": "9d39c2f2-c917-4381-a423-e258ba1c402e",
   "metadata": {},
   "outputs": [
    {
     "data": {
      "text/plain": [
       "22.360679774997898"
      ]
     },
     "execution_count": 62,
     "metadata": {},
     "output_type": "execute_result"
    }
   ],
   "source": [
    "#explanation\n",
    "import math\n",
    "l1 = [10,20]\n",
    "l2 = [20,40]\n",
    "distance1= l2[0]-l1[0]   # x2-x1\n",
    "distance2 = l2[1]-l1[1]  # y2-y1\n",
    "d1square = math.pow(distance1,2)\n",
    "d2square = math.pow(distance2,2)\n",
    "d = d1square+d2square\n",
    "math.sqrt(d)"
   ]
  },
  {
   "cell_type": "code",
   "execution_count": null,
   "id": "6a4a1a32-5011-4f5c-8111-324d6502d50a",
   "metadata": {},
   "outputs": [],
   "source": [
    "# how to sort the list\n",
    "# how to find the maximum of the list\n",
    "# how to find the minimum of the list\n",
    "# how to find second maximum of the list\n",
    "# how to find second minimum of the list\n",
    "# how to find the longest word of a string\n",
    "# how to find the most repeated word of a string\n",
    "\n",
    "[10,20,30,35,120,500,490,320,240,120]   # v shape forming or not\n",
    "# interview qtn\n",
    "\n"
   ]
  }
 ],
 "metadata": {
  "kernelspec": {
   "display_name": "Python [conda env:base] *",
   "language": "python",
   "name": "conda-base-py"
  },
  "language_info": {
   "codemirror_mode": {
    "name": "ipython",
    "version": 3
   },
   "file_extension": ".py",
   "mimetype": "text/x-python",
   "name": "python",
   "nbconvert_exporter": "python",
   "pygments_lexer": "ipython3",
   "version": "3.12.7"
  }
 },
 "nbformat": 4,
 "nbformat_minor": 5
}
